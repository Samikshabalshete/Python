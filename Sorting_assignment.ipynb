{
 "cells": [
  {
   "cell_type": "markdown",
   "id": "964b6ae5",
   "metadata": {},
   "source": [
    "Problem 1.Given an array of n numbers, give an algorithm which gives the element appearing maximum\n",
    "number of times?"
   ]
  },
  {
   "cell_type": "code",
   "execution_count": 1,
   "id": "2b62ab51",
   "metadata": {},
   "outputs": [
    {
     "name": "stdout",
     "output_type": "stream",
     "text": [
      "2\n"
     ]
    }
   ],
   "source": [
    "def find_most_frequent_element(arr):\n",
    "    frequency_dict = {}\n",
    "    max_frequency = 0\n",
    "    most_frequent_element = None\n",
    "\n",
    "    for num in arr:\n",
    "        if num in frequency_dict:\n",
    "            frequency_dict[num] += 1\n",
    "        else:\n",
    "            frequency_dict[num] = 1\n",
    "\n",
    "        # Update maximum frequency and most frequent element\n",
    "        if frequency_dict[num] > max_frequency:\n",
    "            max_frequency = frequency_dict[num]\n",
    "            most_frequent_element = num\n",
    "\n",
    "    return most_frequent_element\n",
    "arr = [1, 2, 3, 2, 2, 4, 5, 2, 6, 2]\n",
    "result = find_most_frequent_element(arr)\n",
    "print(result)\n",
    "\n",
    "            "
   ]
  },
  {
   "cell_type": "markdown",
   "id": "ced1c58c",
   "metadata": {},
   "source": [
    "Problem 2 : We are given a list of n-1 integers and these integers are in the range of 1 to n . There are no\n",
    "duplicates in the list. One of the integers is missing in the list. Give an algorithm to find that element Ex:\n",
    "[1,2,4,6,3,7,8] 5 is the missing num."
   ]
  },
  {
   "cell_type": "code",
   "execution_count": 2,
   "id": "0a70e9ac",
   "metadata": {},
   "outputs": [
    {
     "name": "stdout",
     "output_type": "stream",
     "text": [
      "The missing element is: 5\n"
     ]
    }
   ],
   "source": [
    "def find_missing_element(nums):\n",
    "    n = len(nums) + 1\n",
    "    expected_sum = (n * (n + 1)) // 2\n",
    "    actual_sum = 0\n",
    "\n",
    "    for num in nums:\n",
    "        actual_sum += num\n",
    "\n",
    "    missing_element = expected_sum - actual_sum\n",
    "    return missing_element\n",
    "\n",
    "# Example usage:\n",
    "nums = [1, 2, 4, 6, 3, 7, 8]\n",
    "result = find_missing_element(nums)\n",
    "print(\"The missing element is:\", result)\n"
   ]
  },
  {
   "cell_type": "markdown",
   "id": "0caebda6",
   "metadata": {},
   "source": [
    "Problem 3 : Given an array of n positive numbers. All numbers occurs even number of times except 1 which\n",
    "occurs odd number of times. Find that number in O(n) time and O(1) space. Ex: [1,2,3,2,3,1,3]. 3 is repeats odd\n",
    "times."
   ]
  },
  {
   "cell_type": "code",
   "execution_count": 3,
   "id": "10c9bc17",
   "metadata": {},
   "outputs": [
    {
     "name": "stdout",
     "output_type": "stream",
     "text": [
      "The number occurring odd times is: 3\n"
     ]
    }
   ],
   "source": [
    "'''To solve this problem efficiently with O(n) time complexity and O(1) space complexity, you can use the bitwise XOR operation. The idea is that XORing a number with itself results in 0, and XORing any number with 0 gives the number itself. Since all numbers occur even times except one, \n",
    "the XOR of all numbers will cancel out the pairs, leaving only the element that occurs an odd number of times.'''\n",
    "def find_odd_occurrence(arr):\n",
    "    result = 0\n",
    "\n",
    "    for num in arr:\n",
    "        result ^= num\n",
    "\n",
    "    return result\n",
    "\n",
    "# Example usage:\n",
    "arr = [1, 2, 3, 2, 3, 1, 3]\n",
    "result = find_odd_occurrence(arr)\n",
    "print(\"The number occurring odd times is:\", result)\n"
   ]
  },
  {
   "cell_type": "markdown",
   "id": "5043e41d",
   "metadata": {},
   "source": [
    "Problem 4 : Given an array of n elements. Find two elements in the array such that their sum is equal to given\n",
    "element K."
   ]
  },
  {
   "cell_type": "code",
   "execution_count": 4,
   "id": "c31c5359",
   "metadata": {},
   "outputs": [
    {
     "name": "stdout",
     "output_type": "stream",
     "text": [
      "The pair with sum 9 is: (5, 4)\n"
     ]
    }
   ],
   "source": [
    "def find_pair_with_sum(arr, target_sum):\n",
    "    seen_numbers = set()\n",
    "\n",
    "    for num in arr:\n",
    "        complement = target_sum - num\n",
    "\n",
    "        if complement in seen_numbers:\n",
    "            return num, complement\n",
    "\n",
    "        seen_numbers.add(num)\n",
    "\n",
    "    return None  # If no such pair is found\n",
    "\n",
    "# Example usage:\n",
    "arr = [1, 2, 3, 4, 5, 6]\n",
    "target_sum = 9\n",
    "result = find_pair_with_sum(arr, target_sum)\n",
    "\n",
    "if result:\n",
    "    print(f\"The pair with sum {target_sum} is:\", result)\n",
    "else:\n",
    "    print(\"No pair with the given sum found.\")\n"
   ]
  },
  {
   "cell_type": "markdown",
   "id": "eb185ea3",
   "metadata": {},
   "source": [
    "Problem 5 : Given an array of both positive and negative numbers, find two numbers such that their sum is\n",
    "closest to 0. Ex: [ 1 ,60 ,-10, 70, -80,85]. Ans : -80,85."
   ]
  },
  {
   "cell_type": "code",
   "execution_count": 5,
   "id": "3f4f3ac3",
   "metadata": {},
   "outputs": [
    {
     "name": "stdout",
     "output_type": "stream",
     "text": [
      "The pair with the sum closest to 0 is: (-80, 85)\n"
     ]
    }
   ],
   "source": [
    "def bubble_sort(arr):\n",
    "    n = len(arr)\n",
    "\n",
    "    for i in range(n):\n",
    "        for j in range(0, n - i - 1):\n",
    "            if arr[j] > arr[j + 1]:\n",
    "                arr[j], arr[j + 1] = arr[j + 1], arr[j]\n",
    "\n",
    "def closest_sum_pair(arr):\n",
    "    bubble_sort(arr)\n",
    "\n",
    "    left = 0\n",
    "    right = len(arr) - 1\n",
    "    closest_sum = float('inf')\n",
    "    result_pair = None\n",
    "\n",
    "    while left < right:\n",
    "        current_sum = arr[left] + arr[right]\n",
    "\n",
    "        # Update closest_sum and result_pair if the current pair is closer to 0\n",
    "        if abs(current_sum) < abs(closest_sum):\n",
    "            closest_sum = current_sum\n",
    "            result_pair = (arr[left], arr[right])\n",
    "\n",
    "        # Move pointers based on the current_sum\n",
    "        if current_sum < 0:\n",
    "            left += 1\n",
    "        elif current_sum > 0:\n",
    "            right -= 1\n",
    "        else:\n",
    "            return result_pair  # If a pair with sum 0 is found, return it immediately\n",
    "\n",
    "    return result_pair\n",
    "\n",
    "# Example usage:\n",
    "arr = [1, 60, -10, 70, -80, 85]\n",
    "result = closest_sum_pair(arr)\n",
    "print(\"The pair with the sum closest to 0 is:\", result)\n"
   ]
  },
  {
   "cell_type": "markdown",
   "id": "d3dd9147",
   "metadata": {},
   "source": [
    "Problem 6 : Given an array of n elements . Find three elements such that their sum is equal to the given\n",
    "number.\n"
   ]
  },
  {
   "cell_type": "code",
   "execution_count": 6,
   "id": "4520b4c9",
   "metadata": {},
   "outputs": [
    {
     "name": "stdout",
     "output_type": "stream",
     "text": [
      "The triplet with the given sum is: (1, 2, 7)\n"
     ]
    }
   ],
   "source": [
    "def find_three_elements_with_sum(arr, target_sum):\n",
    "    arr.sort()\n",
    "    n = len(arr)\n",
    "\n",
    "    for i in range(n - 2):\n",
    "        left = i + 1\n",
    "        right = n - 1\n",
    "\n",
    "        while left < right:\n",
    "            current_sum = arr[i] + arr[left] + arr[right]\n",
    "\n",
    "            if current_sum == target_sum:\n",
    "                return arr[i], arr[left], arr[right]\n",
    "            elif current_sum < target_sum:\n",
    "                left += 1\n",
    "            else:\n",
    "                right -= 1\n",
    "\n",
    "    return None  # If no such triplet is found\n",
    "\n",
    "# Example usage:\n",
    "arr = [1, 4, 2, 5, 7, 3, 1]\n",
    "target_sum = 10\n",
    "result = find_three_elements_with_sum(arr, target_sum)\n",
    "\n",
    "if result:\n",
    "    print(\"The triplet with the given sum is:\", result)\n",
    "else:\n",
    "    print(\"No triplet with the given sum found.\")\n"
   ]
  },
  {
   "cell_type": "markdown",
   "id": "235ecee5",
   "metadata": {},
   "source": [
    "Problem 7 : Given an array of n elements . Find three elements i, j, k in the array such that\n",
    "i * i + j * j = k*k."
   ]
  },
  {
   "cell_type": "code",
   "execution_count": 7,
   "id": "ea63f7e1",
   "metadata": {},
   "outputs": [
    {
     "name": "stdout",
     "output_type": "stream",
     "text": [
      "The Pythagorean triplet is: (3, 4, 5)\n"
     ]
    }
   ],
   "source": [
    "def find_pythagorean_triplet(arr):\n",
    "    arr.sort()\n",
    "    n = len(arr)\n",
    "\n",
    "    for i in range(n - 1, 1, -1):\n",
    "        left = 0\n",
    "        right = i - 1\n",
    "\n",
    "        while left < right:\n",
    "            square_sum = arr[left] * arr[left] + arr[right] * arr[right]\n",
    "\n",
    "            if square_sum == arr[i] * arr[i]:\n",
    "                return arr[left], arr[right], arr[i]\n",
    "            elif square_sum < arr[i] * arr[i]:\n",
    "                left += 1\n",
    "            else:\n",
    "                right -= 1\n",
    "\n",
    "    return None  # If no such triplet is found\n",
    "\n",
    "# Example usage:\n",
    "arr = [3, 1, 4, 6, 5]\n",
    "result = find_pythagorean_triplet(arr)\n",
    "\n",
    "if result:\n",
    "    print(\"The Pythagorean triplet is:\", result)\n",
    "else:\n",
    "    print(\"No Pythagorean triplet found.\")\n"
   ]
  },
  {
   "cell_type": "markdown",
   "id": "38105ae2",
   "metadata": {},
   "source": [
    "Problem 8 : An element is a majority if it appears more than n/2 times. Give an algorithm takes an array of n\n",
    "element as argument and identifies a majority (if it exists)."
   ]
  },
  {
   "cell_type": "code",
   "execution_count": 8,
   "id": "bf02a29b",
   "metadata": {},
   "outputs": [
    {
     "name": "stdout",
     "output_type": "stream",
     "text": [
      "The majority element is: 4\n"
     ]
    }
   ],
   "source": [
    "def find_majority_element(arr):\n",
    "    candidate = None\n",
    "    count = 0\n",
    "\n",
    "    # Step 1: Find a potential majority candidate\n",
    "    for num in arr:\n",
    "        if count == 0:\n",
    "            candidate = num\n",
    "        count += 1 if num == candidate else -1\n",
    "\n",
    "    # Step 2: Verify if the candidate is a majority element\n",
    "    count = 0\n",
    "    for num in arr:\n",
    "        if num == candidate:\n",
    "            count += 1\n",
    "\n",
    "    if count > len(arr) // 2:\n",
    "        return candidate\n",
    "    else:\n",
    "        return None  # No majority element found\n",
    "\n",
    "# Example usage:\n",
    "arr = [3, 3, 4, 2, 4, 4, 2, 4, 4]\n",
    "result = find_majority_element(arr)\n",
    "\n",
    "if result is not None:\n",
    "    print(\"The majority element is:\", result)\n",
    "else:\n",
    "    print(\"No majority element found.\")\n",
    "\n",
    "    "
   ]
  },
  {
   "cell_type": "markdown",
   "id": "09eb303b",
   "metadata": {},
   "source": [
    "Problem 9 : Given n × n matrix, and in each row all 1’s are followed by 0’s. Find the row with the maximum\n",
    "number of 0’s."
   ]
  },
  {
   "cell_type": "code",
   "execution_count": 9,
   "id": "c62bcfb7",
   "metadata": {},
   "outputs": [
    {
     "name": "stdout",
     "output_type": "stream",
     "text": [
      "The row with the maximum number of 0's is: 2\n"
     ]
    }
   ],
   "source": [
    "def find_max_zeros_row(matrix):\n",
    "    max_zeros_row_index = -1\n",
    "    max_zeros_count = -1\n",
    "\n",
    "    for i, row in enumerate(matrix):\n",
    "        zeros_count = row.count(0)\n",
    "\n",
    "        if zeros_count > max_zeros_count:\n",
    "            max_zeros_count = zeros_count\n",
    "            max_zeros_row_index = i\n",
    "\n",
    "    return max_zeros_row_index\n",
    "\n",
    "# Example usage:\n",
    "matrix = [\n",
    "    [1, 1, 1, 0, 0],\n",
    "    [1, 1, 0, 0, 0],\n",
    "    [1, 0, 0, 0, 0],\n",
    "    [1, 1, 1, 1, 1],\n",
    "    [1, 1, 1, 0, 0]\n",
    "]\n",
    "\n",
    "result = find_max_zeros_row(matrix)\n",
    "print(\"The row with the maximum number of 0's is:\", result)\n"
   ]
  },
  {
   "cell_type": "markdown",
   "id": "a295488e",
   "metadata": {},
   "source": [
    "Problem 10 : Sort an array of 0’s, 1’s and 2’s [or R’s, G’s and B’s]: Given an array A[] consisting of 0’s, 1’s and\n",
    "2’s, give an algorithm for sorting A[].The algorithm should put all 0’s first, then all 1’s and finally all 2’s at the\n",
    "end. Example Input = {0,1,1,0,1,2,1,2,0,0,0,1}, Output = {0,0,0,0,0,1,1,1,1,1,2,2}"
   ]
  },
  {
   "cell_type": "code",
   "execution_count": 10,
   "id": "bde066ed",
   "metadata": {},
   "outputs": [
    {
     "name": "stdout",
     "output_type": "stream",
     "text": [
      "Sorted array: [0, 0, 0, 0, 0, 1, 1, 1, 1, 1, 2, 2]\n"
     ]
    }
   ],
   "source": [
    "def sort_012_array(arr):\n",
    "    low, mid, high = 0, 0, len(arr) - 1\n",
    "\n",
    "    while mid <= high:\n",
    "        if arr[mid] == 0:\n",
    "            arr[low], arr[mid] = arr[mid], arr[low]\n",
    "            low += 1\n",
    "            mid += 1\n",
    "        elif arr[mid] == 1:\n",
    "            mid += 1\n",
    "        else:\n",
    "            arr[mid], arr[high] = arr[high], arr[mid]\n",
    "            high -= 1\n",
    "\n",
    "# Example usage:\n",
    "arr = [0, 1, 1, 0, 1, 2, 1, 2, 0, 0, 0, 1]\n",
    "sort_012_array(arr)\n",
    "print(\"Sorted array:\", arr)\n"
   ]
  },
  {
   "cell_type": "code",
   "execution_count": null,
   "id": "073e131b",
   "metadata": {},
   "outputs": [],
   "source": []
  }
 ],
 "metadata": {
  "kernelspec": {
   "display_name": "Python 3 (ipykernel)",
   "language": "python",
   "name": "python3"
  },
  "language_info": {
   "codemirror_mode": {
    "name": "ipython",
    "version": 3
   },
   "file_extension": ".py",
   "mimetype": "text/x-python",
   "name": "python",
   "nbconvert_exporter": "python",
   "pygments_lexer": "ipython3",
   "version": "3.11.5"
  }
 },
 "nbformat": 4,
 "nbformat_minor": 5
}
