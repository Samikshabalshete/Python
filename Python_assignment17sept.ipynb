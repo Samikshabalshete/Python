{
 "cells": [
  {
   "cell_type": "code",
   "execution_count": 1,
   "id": "ec81d2cb",
   "metadata": {},
   "outputs": [
    {
     "name": "stdout",
     "output_type": "stream",
     "text": [
      "1\n",
      "2\n",
      "3\n",
      "4\n",
      "5\n",
      "6\n",
      "7\n",
      "8\n",
      "9\n",
      "10\n"
     ]
    }
   ],
   "source": [
    "#1.Write aPython program to print numbers from 1 to 10 using a for loop\n",
    "for i in range(1,11):\n",
    "    print(i)"
   ]
  },
  {
   "cell_type": "code",
   "execution_count": null,
   "id": "bfb7bf78",
   "metadata": {},
   "outputs": [],
   "source": [
    "#2. Explain the difference between a for loop and a while loop in Python.\n",
    "'''In Python, both for loops and while loops are control flow structures that allow you to \n",
    "repeatedly execute a block of code, but they have some key differences in terms of syntax and use cases.\n",
    "For Loop:\n",
    "Syntax:\n",
    "for variable in iterable:\n",
    "    # code to be executed\n",
    "The for loop iterates over elements of a sequence (such as a list, tuple, string, or range) \n",
    "and executes the specified block of code for each element in the sequence.\n",
    "It is particularly useful when you know in advance how many times you want to execute the loop, \n",
    "based on the length of the iterable.\n",
    "While Loop:\n",
    "Syntax:\n",
    "\n",
    "while condition:\n",
    "    # code to be executed\n",
    "The while loop repeatedly executes the specified block of code as long as the specified condition is True.\n",
    "It is useful when you don't know in advance how many times the loop needs to be executed, and the loop continues\n",
    "until the condition becomes False"
   ]
  },
  {
   "cell_type": "code",
   "execution_count": 7,
   "id": "f25343bb",
   "metadata": {},
   "outputs": [
    {
     "name": "stdout",
     "output_type": "stream",
     "text": [
      "5050\n"
     ]
    }
   ],
   "source": [
    "# Write aPython program to calculate the sum of all numbers from 1 to 100 using a for loop\n",
    "cal_sum=0\n",
    "for i in range(1,101):\n",
    "    cal_sum = i + cal_sum\n",
    "print(cal_sum)\n"
   ]
  },
  {
   "cell_type": "code",
   "execution_count": 8,
   "id": "6d91b901",
   "metadata": {},
   "outputs": [
    {
     "name": "stdout",
     "output_type": "stream",
     "text": [
      "1\n",
      "2\n",
      "3\n",
      "4\n",
      "5\n",
      "6\n"
     ]
    }
   ],
   "source": [
    "#4.Howdoyouiterate through a list using a for loop in Python?\n",
    "l1=[1,2,3,4,5,6]\n",
    "for i in l1:\n",
    "    print(i)\n",
    "'''in this , we takes the list l1 , & iterate it using i in for loop'''"
   ]
  },
  {
   "cell_type": "code",
   "execution_count": 19,
   "id": "8d8b9c3b",
   "metadata": {},
   "outputs": [
    {
     "name": "stdout",
     "output_type": "stream",
     "text": [
      "120\n"
     ]
    }
   ],
   "source": [
    "#5.Write aPython program to find the product of all elements in a list using a for loop.\n",
    "l2=[2,3,4,5]\n",
    "prod=1\n",
    "for i in l2:\n",
    "    prod = i * prod\n",
    "print(prod)\n"
   ]
  },
  {
   "cell_type": "code",
   "execution_count": 20,
   "id": "e2d11e85",
   "metadata": {},
   "outputs": [
    {
     "name": "stdout",
     "output_type": "stream",
     "text": [
      "2\n",
      "4\n",
      "6\n",
      "8\n",
      "10\n",
      "12\n",
      "14\n",
      "16\n",
      "18\n",
      "20\n"
     ]
    }
   ],
   "source": [
    "#6. Create a Python program that prints all even numbers from 1 to 20 using a for loop\n",
    "for num in range(1, 21):\n",
    "    if num % 2 == 0:\n",
    "        print(num)\n"
   ]
  },
  {
   "cell_type": "code",
   "execution_count": 24,
   "id": "92cadcfc",
   "metadata": {},
   "outputs": [
    {
     "data": {
      "text/plain": [
       "6"
      ]
     },
     "execution_count": 24,
     "metadata": {},
     "output_type": "execute_result"
    }
   ],
   "source": [
    "#7. Write aPython program that calculates the factorial of a number using a for loop.\n",
    "def calculate_factorial(number):\n",
    "    if number < 0:\n",
    "        return \"Factorial is undefined for negative numbers.\"\n",
    "    elif number == 0 or number == 1:\n",
    "        return 1\n",
    "    else:\n",
    "        factorial_result = 1\n",
    "        for i in range(2, number + 1):\n",
    "            factorial_result *= i\n",
    "        return factorial_result\n",
    "calculate_factorial(3)"
   ]
  },
  {
   "cell_type": "code",
   "execution_count": 25,
   "id": "38d07635",
   "metadata": {},
   "outputs": [
    {
     "name": "stdout",
     "output_type": "stream",
     "text": [
      "S\n",
      "a\n",
      "m\n",
      "i\n",
      "k\n",
      "s\n",
      "h\n",
      "a\n"
     ]
    }
   ],
   "source": [
    "#8. Howcanyouiterate through the characters of a string using a for loop in Python?\n",
    "st = \"Samiksha\"\n",
    "for i in st:\n",
    "    print(i)"
   ]
  },
  {
   "cell_type": "code",
   "execution_count": 28,
   "id": "eda393e1",
   "metadata": {},
   "outputs": [
    {
     "name": "stdout",
     "output_type": "stream",
     "text": [
      "8\n"
     ]
    }
   ],
   "source": [
    "#9. Write aPython program to find the largest number in a list using a for loop.\n",
    "input_list =[1,2,3,4,5,6,7,8]\n",
    "lar_num = input_list[0]\n",
    "for num in input_list:\n",
    "    if num>lar_num:\n",
    "         lar_num = num\n",
    "print(lar_num)"
   ]
  },
  {
   "cell_type": "code",
   "execution_count": 29,
   "id": "8264a8c7",
   "metadata": {},
   "outputs": [
    {
     "name": "stdout",
     "output_type": "stream",
     "text": [
      "Enter the limit for the Fibonacci sequence: 540\n",
      "Fibonacci sequence up to 540: [0, 1, 1, 2, 3, 5, 8, 13, 21, 34, 55, 89, 144, 233, 377]\n"
     ]
    }
   ],
   "source": [
    "#10. Create a Python program that prints the Fibonacci sequence up to a specified limit using a forloop\n",
    "def fibonacci_sequence(limit):\n",
    "    fibonacci_numbers = [0, 1]\n",
    "\n",
    "    while True:\n",
    "        next_number = fibonacci_numbers[-1] + fibonacci_numbers[-2]\n",
    "        if next_number > limit:\n",
    "            break\n",
    "        fibonacci_numbers.append(next_number)\n",
    "\n",
    "    return fibonacci_numbers\n",
    "\n",
    "# Input the limit\n",
    "limit = int(input(\"Enter the limit for the Fibonacci sequence: \"))\n",
    "\n",
    "# Generate and print the Fibonacci sequence up to the specified limit\n",
    "sequence = fibonacci_sequence(limit)\n",
    "print(\"Fibonacci sequence up to {}: {}\".format(limit, sequence))\n"
   ]
  },
  {
   "cell_type": "code",
   "execution_count": 30,
   "id": "d7b6924e",
   "metadata": {},
   "outputs": [
    {
     "name": "stdout",
     "output_type": "stream",
     "text": [
      "Enter a string: My name is samiksha\n",
      "The number of vowels in the given string is: 6\n"
     ]
    }
   ],
   "source": [
    "#11.1. Write a Python program to count the number of vowels in a given string using a for loop.\n",
    "def count_vowels(input_string):\n",
    "    vowels = \"aeiouAEIOU\"\n",
    "    vowel_count = 0\n",
    "\n",
    "    for char in input_string:\n",
    "        if char in vowels:\n",
    "            vowel_count += 1\n",
    "\n",
    "    return vowel_count\n",
    "\n",
    "# Input a string\n",
    "user_input = input(\"Enter a string: \")\n",
    "\n",
    "# Count and print the number of vowels\n",
    "result = count_vowels(user_input)\n",
    "print(f\"The number of vowels in the given string is: {result}\")\n"
   ]
  },
  {
   "cell_type": "code",
   "execution_count": 31,
   "id": "66693038",
   "metadata": {},
   "outputs": [
    {
     "name": "stdout",
     "output_type": "stream",
     "text": [
      "Enter a number to generate its multiplication table: 80\n",
      "Multiplication table for 80:\n",
      "80 x 1 = 80\n",
      "80 x 2 = 160\n",
      "80 x 3 = 240\n",
      "80 x 4 = 320\n",
      "80 x 5 = 400\n",
      "80 x 6 = 480\n",
      "80 x 7 = 560\n",
      "80 x 8 = 640\n",
      "80 x 9 = 720\n",
      "80 x 10 = 800\n"
     ]
    }
   ],
   "source": [
    "#12. Create a Python program that generates a multiplication table for a given number using a forloop.\n",
    "def multiplication_table(number):\n",
    "    print(f\"Multiplication table for {number}:\")\n",
    "    for i in range(1, 11):\n",
    "        result = number * i\n",
    "        print(f\"{number} x {i} = {result}\")\n",
    "\n",
    "# Input a number\n",
    "user_input = int(input(\"Enter a number to generate its multiplication table: \"))\n",
    "\n",
    "# Generate and print the multiplication table\n",
    "multiplication_table(user_input)\n"
   ]
  },
  {
   "cell_type": "code",
   "execution_count": 32,
   "id": "5f89dcdb",
   "metadata": {},
   "outputs": [
    {
     "name": "stdout",
     "output_type": "stream",
     "text": [
      "[5, 4, 3, 2]\n"
     ]
    }
   ],
   "source": [
    " #Write a Python program to reverse a list using a for loop.\n",
    "l =[2,3,4,5]\n",
    "rev_li =[]\n",
    "for i in reversed(l):\n",
    "    rev_li.append(i)\n",
    "print(rev_li)\n"
   ]
  },
  {
   "cell_type": "code",
   "execution_count": 39,
   "id": "fdadf07d",
   "metadata": {},
   "outputs": [
    {
     "name": "stdout",
     "output_type": "stream",
     "text": [
      "[1, 2, 5, 5, 8]\n"
     ]
    }
   ],
   "source": [
    "#.14. Write a Python program to find the common elements between two lists using a for loop.\n",
    "def comm_ele(l1, l2):\n",
    "    common_ele =[]\n",
    "    for i in l1:\n",
    "        if i in l2:\n",
    "            common_ele.append(i)\n",
    "    return common_ele\n",
    "l1=[1,2,3,5,4,6,77,5,8]\n",
    "l2=[1,25,45,8,7,2,5,8]\n",
    "print(comm_ele(l1,l2))\n"
   ]
  },
  {
   "cell_type": "code",
   "execution_count": 40,
   "id": "13058d7e",
   "metadata": {},
   "outputs": [
    {
     "name": "stdout",
     "output_type": "stream",
     "text": [
      "Key: a, Value: 1\n",
      "Key: b, Value: 2\n",
      "Key: c, Value: 3\n",
      "Key: d, Value: 4\n"
     ]
    }
   ],
   "source": [
    "# Explain how to use a for loop to iterate through the keys and values of a dictionary in Python.\n",
    "# Sample dictionary\n",
    "my_dict = {'a': 1, 'b': 2, 'c': 3, 'd': 4}\n",
    "\n",
    "# Iterate through keys and values using a for loop\n",
    "for key, value in my_dict.items():\n",
    "    print(f\"Key: {key}, Value: {value}\")\n"
   ]
  },
  {
   "cell_type": "code",
   "execution_count": 41,
   "id": "c5921635",
   "metadata": {},
   "outputs": [
    {
     "name": "stdout",
     "output_type": "stream",
     "text": [
      "Enter the first number: 12\n",
      "Enter the second number: 58\n",
      "The GCD of 12 and 58 is: 2\n"
     ]
    }
   ],
   "source": [
    "#16.. Write a Python program to find the GCD (Greatest Common Divisor) of two numbers using a for loop\n",
    "def find_gcd(a, b):\n",
    "    # Ensure a is greater than or equal to b\n",
    "    if a < b:\n",
    "        a, b = b, a\n",
    "\n",
    "    # Use the Euclidean algorithm to find the GCD\n",
    "    while b:\n",
    "        a, b = b, a % b\n",
    "\n",
    "    return a\n",
    "\n",
    "# Input two numbers\n",
    "num1 = int(input(\"Enter the first number: \"))\n",
    "num2 = int(input(\"Enter the second number: \"))\n",
    "\n",
    "# Find and print the GCD\n",
    "result = find_gcd(num1, num2)\n",
    "print(f\"The GCD of {num1} and {num2} is: {result}\")\n"
   ]
  },
  {
   "cell_type": "code",
   "execution_count": 44,
   "id": "dee967f8",
   "metadata": {},
   "outputs": [
    {
     "name": "stdout",
     "output_type": "stream",
     "text": [
      "Enter a string to check if it's a palindrome: abcdcba\n",
      "abcdcba is a palindrome.\n"
     ]
    }
   ],
   "source": [
    "#17.Create a Python program that checks if a string is a palindrome using a for loop#\n",
    "def is_palindrome(input_string):\n",
    "    # Remove spaces and convert to lowercase for case-insensitive comparison\n",
    "    cleaned_string = input_string.replace(\" \", \"\").lower()\n",
    "\n",
    "    # Iterate through the characters using a for loop\n",
    "    for i in range(len(cleaned_string) // 2):\n",
    "        if cleaned_string[i] != cleaned_string[-1 - i]:\n",
    "            return False\n",
    "\n",
    "    return True\n",
    "\n",
    "# Input a string\n",
    "user_input = input(\"Enter a string to check if it's a palindrome: \")\n",
    "\n",
    "# Check and print if the string is a palindrome\n",
    "result = is_palindrome(user_input)\n",
    "if result:\n",
    "    print(f\"{user_input} is a palindrome.\")\n",
    "else:\n",
    "    print(f\"{user_input} is not a palindrome.\")\n"
   ]
  },
  {
   "cell_type": "code",
   "execution_count": 45,
   "id": "b2d6de42",
   "metadata": {},
   "outputs": [
    {
     "name": "stdout",
     "output_type": "stream",
     "text": [
      "Original List: [1, 2, 2, 3, 4, 4, 5, 6, 6]\n",
      "List without Duplicates: [1, 2, 3, 4, 5, 6]\n"
     ]
    }
   ],
   "source": [
    "# Write a Python program to remove duplicates from a list using a for loop.\n",
    "def remove_duplicates(input_list):\n",
    "    unique_list = []\n",
    "\n",
    "    for item in input_list:\n",
    "        if item not in unique_list:\n",
    "            unique_list.append(item)\n",
    "\n",
    "    return unique_list\n",
    "\n",
    "# Example list with duplicates\n",
    "original_list = [1, 2, 2, 3, 4, 4, 5, 6, 6]\n",
    "\n",
    "# Remove duplicates and print the result\n",
    "result = remove_duplicates(original_list)\n",
    "print(\"Original List:\", original_list)\n",
    "print(\"List without Duplicates:\", result)\n"
   ]
  },
  {
   "cell_type": "code",
   "execution_count": 46,
   "id": "8f3660cd",
   "metadata": {},
   "outputs": [
    {
     "name": "stdout",
     "output_type": "stream",
     "text": [
      "Enter a sentence to count its words: HI my name is SAmiksha Bslshete\n",
      "The number of words in the sentence is: 6\n"
     ]
    }
   ],
   "source": [
    "# Create a Python program that counts the number of words in a sentence using a for loop\n",
    "def count_words(sentence):\n",
    "    word_count = 0\n",
    "\n",
    "    # Iterate through each character in the sentence\n",
    "    for char in sentence:\n",
    "        # Check if the character is a space (indicating a word boundary)\n",
    "        if char == ' ':\n",
    "            word_count += 1\n",
    "\n",
    "    # Add 1 to account for the last word (there may not be a space after it)\n",
    "    word_count += 1\n",
    "\n",
    "    return word_count\n",
    "\n",
    "# Input a sentence\n",
    "user_input = input(\"Enter a sentence to count its words: \")\n",
    "\n",
    "# Count and print the number of words\n",
    "result = count_words(user_input)\n",
    "print(f\"The number of words in the sentence is: {result}\")\n"
   ]
  },
  {
   "cell_type": "code",
   "execution_count": 47,
   "id": "073d0f54",
   "metadata": {},
   "outputs": [
    {
     "name": "stdout",
     "output_type": "stream",
     "text": [
      "Sum of odd numbers from 1 to 50: 625\n"
     ]
    }
   ],
   "source": [
    " #Write a Python program to find the sum of all odd numbers from 1 to 50 using a for loop.#\n",
    "    # Initialize the sum to zero\n",
    "sum_of_odd_numbers = 0\n",
    "\n",
    "# Use a for loop to iterate through odd numbers from 1 to 50\n",
    "for num in range(1, 51, 2):\n",
    "    sum_of_odd_numbers += num\n",
    "\n",
    "# Print the sum of odd numbers\n",
    "print(\"Sum of odd numbers from 1 to 50:\", sum_of_odd_numbers)\n"
   ]
  },
  {
   "cell_type": "code",
   "execution_count": 48,
   "id": "57887259",
   "metadata": {},
   "outputs": [
    {
     "name": "stdout",
     "output_type": "stream",
     "text": [
      "Enter a year to check if it's a leap year: 2584\n",
      "2584 is a leap year.\n"
     ]
    }
   ],
   "source": [
    "# Write a Python program that checks if a given year is a leap year using a for loop.\n",
    "def is_leap_year(year):\n",
    "    # Check if the year is divisible by 4, except for years divisible by 100\n",
    "    # Years divisible by 400 are considered leap years\n",
    "    if (year % 4 == 0 and year % 100 != 0) or (year % 400 == 0):\n",
    "        return True\n",
    "    else:\n",
    "        return False\n",
    "\n",
    "# Input a year\n",
    "user_input = int(input(\"Enter a year to check if it's a leap year: \"))\n",
    "\n",
    "# Check and print if the year is a leap year\n",
    "result = is_leap_year(user_input)\n",
    "if result:\n",
    "    print(f\"{user_input} is a leap year.\")\n",
    "else:\n",
    "    print(f\"{user_input} is not a leap year.\")\n"
   ]
  },
  {
   "cell_type": "code",
   "execution_count": 49,
   "id": "3e8b20cf",
   "metadata": {},
   "outputs": [
    {
     "name": "stdout",
     "output_type": "stream",
     "text": [
      "Enter a number to calculate its square root: 85\n",
      "The square root of 85.0 is: 9.219544457292887\n"
     ]
    }
   ],
   "source": [
    "#Create a Python program that calculates the square root of a number using a for loop.\n",
    "import math\n",
    "\n",
    "def calculate_square_root(number):\n",
    "    if number < 0:\n",
    "        return \"Square root is undefined for negative numbers.\"\n",
    "    else:\n",
    "        return math.sqrt(number)\n",
    "\n",
    "# Input a number\n",
    "user_input = float(input(\"Enter a number to calculate its square root: \"))\n",
    "\n",
    "# Calculate and print the square root\n",
    "result = calculate_square_root(user_input)\n",
    "print(f\"The square root of {user_input} is: {result}\")\n"
   ]
  },
  {
   "cell_type": "code",
   "execution_count": 51,
   "id": "954a3ebc",
   "metadata": {},
   "outputs": [
    {
     "name": "stdout",
     "output_type": "stream",
     "text": [
      "Enter the first number: 45\n",
      "Enter the second number: 65\n",
      "The LCM of 45 and 65 is: 585\n"
     ]
    }
   ],
   "source": [
    "# Write a Python program to find the LCM (Least Common Multiple) of two numbers using a forloop#\n",
    "def find_gcd(x, y):\n",
    "    while y:\n",
    "        x, y = y, x % y\n",
    "    return x\n",
    "\n",
    "def find_lcm(a, b):\n",
    "    if a == 0 or b == 0:\n",
    "        return \"LCM is undefined for zero.\"\n",
    "    gcd = find_gcd(a, b)\n",
    "    lcm = abs(a * b) // gcd\n",
    "    return lcm\n",
    "\n",
    "# Input two numbers\n",
    "num1 = int(input(\"Enter the first number: \"))\n",
    "num2 = int(input(\"Enter the second number: \"))\n",
    "\n",
    "# Find and print the LCM\n",
    "result = find_lcm(num1, num2)\n",
    "print(f\"The LCM of {num1} and {num2} is: {result}\")\n"
   ]
  },
  {
   "cell_type": "markdown",
   "id": "41e6d8da",
   "metadata": {},
   "source": [
    "# If-else"
   ]
  },
  {
   "cell_type": "code",
   "execution_count": 52,
   "id": "9de9ab70",
   "metadata": {},
   "outputs": [
    {
     "name": "stdout",
     "output_type": "stream",
     "text": [
      "Enter a number: 52\n",
      "52.0 is a positive number.\n"
     ]
    }
   ],
   "source": [
    "#Write aPython program to check if a number is positive, negative, or zero using an if-elsestatement.\n",
    "# Input a number\n",
    "user_input = float(input(\"Enter a number: \"))\n",
    "\n",
    "# Check if the number is positive, negative, or zero\n",
    "if user_input > 0:\n",
    "    print(f\"{user_input} is a positive number.\")\n",
    "elif user_input < 0:\n",
    "    print(f\"{user_input} is a negative number.\")\n",
    "else:\n",
    "    print(\"The entered number is zero.\")\n"
   ]
  },
  {
   "cell_type": "code",
   "execution_count": 53,
   "id": "8962abd0",
   "metadata": {},
   "outputs": [
    {
     "name": "stdout",
     "output_type": "stream",
     "text": [
      "Enter a number: 45\n",
      "45 is an odd number.\n"
     ]
    }
   ],
   "source": [
    "# Create a Python program that checks if a given number is even or odd using an if-else statement.\n",
    "# Input a number\n",
    "user_input = int(input(\"Enter a number: \"))\n",
    "\n",
    "# Check if the number is even or odd\n",
    "if user_input % 2 == 0:\n",
    "    print(f\"{user_input} is an even number.\")\n",
    "else:\n",
    "    print(f\"{user_input} is an odd number.\")\n"
   ]
  },
  {
   "cell_type": "code",
   "execution_count": 54,
   "id": "3d93503a",
   "metadata": {},
   "outputs": [
    {
     "data": {
      "text/plain": [
       "'Nested if-else statements in Python are used when you need to check multiple conditions in a hierarchical manner\\n. This means that, within one if or else block, you can have another set of if-else statements. Here\\'s an example:\\n# Input a number\\nuser_input = int(input(\"Enter a number: \"))\\n\\n# Check if the number is positive, negative, or zero\\nif user_input > 0:\\n    print(f\"{user_input} is a positive number.\")\\nelif user_input < 0:\\n    print(f\"{user_input} is a negative number.\")\\nelse:\\n    # If the number is zero, check if it\\'s an even or odd zero\\n    if user_input % 2 == 0:\\n        print(\"The entered number is zero and even.\")\\n    else:\\n        print(\"The entered number is zero and odd.\")'"
      ]
     },
     "execution_count": 54,
     "metadata": {},
     "output_type": "execute_result"
    }
   ],
   "source": [
    "# How can you use nested if-else statements in Python, and provide an example?\n",
    "'''Nested if-else statements in Python are used when you need to check multiple conditions in a hierarchical manner\n",
    ". This means that, within one if or else block, you can have another set of if-else statements. Here's an example:\n",
    "# Input a number\n",
    "user_input = int(input(\"Enter a number: \"))\n",
    "\n",
    "# Check if the number is positive, negative, or zero\n",
    "if user_input > 0:\n",
    "    print(f\"{user_input} is a positive number.\")\n",
    "elif user_input < 0:\n",
    "    print(f\"{user_input} is a negative number.\")\n",
    "else:\n",
    "    # If the number is zero, check if it's an even or odd zero\n",
    "    if user_input % 2 == 0:\n",
    "        print(\"The entered number is zero and even.\")\n",
    "    else:\n",
    "        print(\"The entered number is zero and odd.\")'''\n"
   ]
  },
  {
   "cell_type": "code",
   "execution_count": 55,
   "id": "333dbc88",
   "metadata": {},
   "outputs": [
    {
     "name": "stdout",
     "output_type": "stream",
     "text": [
      "Enter a number: 52\n",
      "The absolute value of 52.0 is: 52.0\n"
     ]
    }
   ],
   "source": [
    "# Write aPython program that calculates the absolute value of a number using if-else.\n",
    "# Input a number\n",
    "user_input = float(input(\"Enter a number: \"))\n",
    "\n",
    "# Calculate the absolute value\n",
    "if user_input >= 0:\n",
    "    absolute_value = user_input\n",
    "else:\n",
    "    absolute_value = -user_input\n",
    "\n",
    "# Print the absolute value\n",
    "print(f\"The absolute value of {user_input} is: {absolute_value}\")\n",
    "\n"
   ]
  },
  {
   "cell_type": "code",
   "execution_count": 57,
   "id": "d440d217",
   "metadata": {},
   "outputs": [
    {
     "name": "stdout",
     "output_type": "stream",
     "text": [
      "Enter a character: a\n",
      "a is a vowel.\n"
     ]
    }
   ],
   "source": [
    "# Create a Python program that checks if a given character is a vowel or consonant using if-else.\n",
    "# Input a character\n",
    "user_input = input(\"Enter a character: \")\n",
    "\n",
    "# Convert the input to lowercase for case-insensitive comparison\n",
    "character = user_input.lower()\n",
    "\n",
    "# Check if the character is a vowel or consonant\n",
    "if character.isalpha() and len(character) == 1:\n",
    "    if character in 'aeiou':\n",
    "        print(f\"{user_input} is a vowel.\")\n",
    "    else:\n",
    "        print(f\"{user_input} is a consonant.\")\n",
    "else:\n",
    "    print(\"Invalid input. Please enter a single alphabet character.\")\n"
   ]
  },
  {
   "cell_type": "code",
   "execution_count": 58,
   "id": "1d33f31b",
   "metadata": {},
   "outputs": [
    {
     "name": "stdout",
     "output_type": "stream",
     "text": [
      "Enter your age: 45\n",
      "You are eligible to vote.\n"
     ]
    }
   ],
   "source": [
    "#Write aPython program to determine if a user is eligible to vote based on their age using if-else.\n",
    "# Input the user's age\n",
    "user_age = int(input(\"Enter your age: \"))\n",
    "\n",
    "# Check if the user is eligible to vote\n",
    "if user_age >= 18:\n",
    "    print(\"You are eligible to vote.\")\n",
    "else:\n",
    "    print(\"You are not eligible to vote yet. You must be at least 18 years old.\")\n"
   ]
  },
  {
   "cell_type": "code",
   "execution_count": 59,
   "id": "d2b2b86e",
   "metadata": {},
   "outputs": [
    {
     "name": "stdout",
     "output_type": "stream",
     "text": [
      "Enter the purchase amount: 5021\n",
      "Purchase Amount: $5021.00\n",
      "Discount Rate: 10.0%\n",
      "Discount Amount: $502.10\n",
      "Discounted Price: $4518.90\n"
     ]
    }
   ],
   "source": [
    "# Create a Python program that calculates the discount amount based on the purchase amount using if-else\n",
    "# Input the purchase amount\n",
    "purchase_amount = float(input(\"Enter the purchase amount: \"))\n",
    "\n",
    "# Set discount rates based on purchase amount thresholds\n",
    "if purchase_amount >= 1000:\n",
    "    discount_rate = 0.1  # 10% discount for purchases of $1000 or more\n",
    "else:\n",
    "    discount_rate = 0.05  # 5% discount for purchases less than $1000\n",
    "\n",
    "# Calculate the discount amount\n",
    "discount_amount = purchase_amount * discount_rate\n",
    "\n",
    "# Calculate the discounted price\n",
    "discounted_price = purchase_amount - discount_amount\n",
    "\n",
    "# Print the results\n",
    "print(f\"Purchase Amount: ${purchase_amount:.2f}\")\n",
    "print(f\"Discount Rate: {discount_rate * 100}%\")\n",
    "print(f\"Discount Amount: ${discount_amount:.2f}\")\n",
    "print(f\"Discounted Price: ${discounted_price:.2f}\")\n",
    "\n"
   ]
  },
  {
   "cell_type": "code",
   "execution_count": 60,
   "id": "b63dcdb4",
   "metadata": {},
   "outputs": [
    {
     "name": "stdout",
     "output_type": "stream",
     "text": [
      "Enter a number: 52\n",
      "52.0 is outside the range [10, 50].\n"
     ]
    }
   ],
   "source": [
    "#9. Write aPython program to check if a number is within a specified range using if-else\n",
    "# Define the specified range\n",
    "lower_limit = 10\n",
    "upper_limit = 50\n",
    "\n",
    "# Input a number\n",
    "user_input = float(input(\"Enter a number: \"))\n",
    "\n",
    "# Check if the number is within the specified range\n",
    "if lower_limit <= user_input <= upper_limit:\n",
    "    print(f\"{user_input} is within the range [{lower_limit}, {upper_limit}].\")\n",
    "else:\n",
    "    print(f\"{user_input} is outside the range [{lower_limit}, {upper_limit}].\")\n"
   ]
  },
  {
   "cell_type": "code",
   "execution_count": 61,
   "id": "fc47aa56",
   "metadata": {},
   "outputs": [
    {
     "name": "stdout",
     "output_type": "stream",
     "text": [
      "Enter the student's score: 100\n",
      "The student's grade is: A\n"
     ]
    }
   ],
   "source": [
    "#10. Create a Python program that determines the grade of a student based on their score usingif-else.\n",
    "# Input the student's score\n",
    "student_score = float(input(\"Enter the student's score: \"))\n",
    "\n",
    "# Determine the grade based on the score\n",
    "if 90 <= student_score <= 100:\n",
    "    grade = 'A'\n",
    "elif 80 <= student_score < 90:\n",
    "    grade = 'B'\n",
    "elif 70 <= student_score < 80:\n",
    "    grade = 'C'\n",
    "elif 60 <= student_score < 70:\n",
    "    grade = 'D'\n",
    "elif 0 <= student_score < 60:\n",
    "    grade = 'F'\n",
    "else:\n",
    "    grade = 'Invalid score. Please enter a score between 0 and 100.'\n",
    "\n",
    "# Print the result\n",
    "print(f\"The student's grade is: {grade}\")\n"
   ]
  },
  {
   "cell_type": "code",
   "execution_count": 62,
   "id": "1f5c1617",
   "metadata": {},
   "outputs": [
    {
     "name": "stdout",
     "output_type": "stream",
     "text": [
      "Enter a string: \n",
      "The string is empty.\n"
     ]
    }
   ],
   "source": [
    "#11. Write a Python program to check if a string is empty or not using if-else\n",
    "# Input a string\n",
    "user_input = input(\"Enter a string: \")\n",
    "\n",
    "# Check if the string is empty or not\n",
    "if len(user_input) == 0:\n",
    "    print(\"The string is empty.\")\n",
    "else:\n",
    "    print(\"The string is not empty.\")\n"
   ]
  },
  {
   "cell_type": "code",
   "execution_count": 63,
   "id": "eabeda0b",
   "metadata": {},
   "outputs": [
    {
     "name": "stdout",
     "output_type": "stream",
     "text": [
      "Enter the length of the first side: 45\n",
      "Enter the length of the second side: 45\n",
      "Enter the length of the third side: 45\n",
      "The triangle is a Equilateral triangle.\n"
     ]
    }
   ],
   "source": [
    "#12.Create a Python program that identifies the type of a triangle (e.g., equilateral, isosceles, orscalene) based on input values using if-else.\n",
    "# Input the side lengths of the triangle\n",
    "side1 = float(input(\"Enter the length of the first side: \"))\n",
    "side2 = float(input(\"Enter the length of the second side: \"))\n",
    "side3 = float(input(\"Enter the length of the third side: \"))\n",
    "\n",
    "# Check the type of triangle\n",
    "if side1 == side2 == side3:\n",
    "    triangle_type = \"Equilateral\"\n",
    "elif side1 == side2 or side1 == side3 or side2 == side3:\n",
    "    triangle_type = \"Isosceles\"\n",
    "else:\n",
    "    triangle_type = \"Scalene\"\n",
    "\n",
    "# Print the result\n",
    "print(f\"The triangle is a {triangle_type} triangle.\")\n"
   ]
  },
  {
   "cell_type": "code",
   "execution_count": 1,
   "id": "f6b6c4b5",
   "metadata": {},
   "outputs": [
    {
     "name": "stdout",
     "output_type": "stream",
     "text": [
      "Enter a number (1-7) to determine the day of the week: 5\n",
      "The day of the week for 5 is Friday.\n"
     ]
    }
   ],
   "source": [
    "#13. Write a Python program to determine the day of the week based on a user-provided number using if-else.\n",
    "def get_day_of_week(day_number):\n",
    "    if day_number == 1:\n",
    "        return \"Monday\"\n",
    "    elif day_number == 2:\n",
    "        return \"Tuesday\"\n",
    "    elif day_number == 3:\n",
    "        return \"Wednesday\"\n",
    "    elif day_number == 4:\n",
    "        return \"Thursday\"\n",
    "    elif day_number == 5:\n",
    "        return \"Friday\"\n",
    "    elif day_number == 6:\n",
    "        return \"Saturday\"\n",
    "    elif day_number == 7:\n",
    "        return \"Sunday\"\n",
    "    else:\n",
    "        return \"Invalid day number\"\n",
    "\n",
    "# Get user input\n",
    "user_input = input(\"Enter a number (1-7) to determine the day of the week: \")\n",
    "\n",
    "try:\n",
    "    # Convert user input to an integer\n",
    "    day_number = int(user_input)\n",
    "\n",
    "    # Check if the entered number is within the valid range (1-7)\n",
    "    if 1 <= day_number <= 7:\n",
    "        day_of_week = get_day_of_week(day_number)\n",
    "        print(f\"The day of the week for {day_number} is {day_of_week}.\")\n",
    "    else:\n",
    "        print(\"Invalid input. Please enter a number between 1 and 7.\")\n",
    "except ValueError:\n",
    "    print(\"Invalid input. Please enter a valid number.\")\n"
   ]
  },
  {
   "cell_type": "code",
   "execution_count": 2,
   "id": "b1c882cb",
   "metadata": {},
   "outputs": [
    {
     "name": "stdout",
     "output_type": "stream",
     "text": [
      "Enter a year to check if it's a leap year: 45654\n",
      "45654 is not a leap year.\n"
     ]
    }
   ],
   "source": [
    "#14. Create a Python program that checks if a given year is a leap year using both if-else and afunction.\n",
    "def is_leap_year(year):\n",
    "    if (year % 4 == 0 and year % 100 != 0) or (year % 400 == 0):\n",
    "        return True\n",
    "    else:\n",
    "        return False\n",
    "\n",
    "# Get user input for the year\n",
    "user_input = input(\"Enter a year to check if it's a leap year: \")\n",
    "\n",
    "try:\n",
    "    # Convert user input to an integer\n",
    "    year = int(user_input)\n",
    "\n",
    "    # Check if the entered year is a leap year\n",
    "    if is_leap_year(year):\n",
    "        print(f\"{year} is a leap year.\")\n",
    "    else:\n",
    "        print(f\"{year} is not a leap year.\")\n",
    "except ValueError:\n",
    "    print(\"Invalid input. Please enter a valid year.\")\n"
   ]
  },
  {
   "cell_type": "code",
   "execution_count": 3,
   "id": "f281450a",
   "metadata": {},
   "outputs": [
    {
     "name": "stdout",
     "output_type": "stream",
     "text": [
      "10 divided by 2 is 5.0\n"
     ]
    }
   ],
   "source": [
    "# Howdoyouusethe\"assert\" statement in Python to add debugging checks within if-else blocks?\n",
    "def divide(a, b):\n",
    "    assert b != 0, \"Cannot divide by zero\"\n",
    "    result = a / b\n",
    "    return result\n",
    "\n",
    "# Example usage:\n",
    "numerator = 10\n",
    "denominator = 2\n",
    "\n",
    "try:\n",
    "    # Check if the denominator is not zero before performing division\n",
    "    assert denominator != 0, \"Denominator cannot be zero\"\n",
    "    \n",
    "    # Perform the division\n",
    "    result = divide(numerator, denominator)\n",
    "    \n",
    "    # Display the result\n",
    "    print(f\"{numerator} divided by {denominator} is {result}\")\n",
    "except AssertionError as e:\n",
    "    print(f\"Assertion Error: {e}\")\n"
   ]
  },
  {
   "cell_type": "code",
   "execution_count": 5,
   "id": "499e17e3",
   "metadata": {},
   "outputs": [
    {
     "name": "stdout",
     "output_type": "stream",
     "text": [
      "Enter your age to check eligibility for a senior citizen discount: 52\n",
      "Sorry, you are not eligible for a senior citizen discount.\n"
     ]
    }
   ],
   "source": [
    "#Create a Python program that determines the eligibility of a person for a senior citizen discountbased on age using if-else.\n",
    "def check_senior_discount(age):\n",
    "    if age >= 60:\n",
    "        return True\n",
    "    else:\n",
    "        return False\n",
    "\n",
    "# Get user input for age\n",
    "user_input = input(\"Enter your age to check eligibility for a senior citizen discount: \")\n",
    "\n",
    "try:\n",
    "    # Convert user input to an integer\n",
    "    age = int(user_input)\n",
    "\n",
    "    # Check eligibility for senior citizen discount\n",
    "    if check_senior_discount(age):\n",
    "        print(\"Congratulations! You are eligible for a senior citizen discount.\")\n",
    "    else:\n",
    "        print(\"Sorry, you are not eligible for a senior citizen discount.\")\n",
    "except ValueError:\n",
    "    print(\"Invalid input. Please enter a valid age.\")\n"
   ]
  },
  {
   "cell_type": "code",
   "execution_count": 6,
   "id": "b38ab0eb",
   "metadata": {},
   "outputs": [
    {
     "name": "stdout",
     "output_type": "stream",
     "text": [
      "Enter a character to categorize (single character only): g\n",
      "The character 'g' is Lowercase.\n"
     ]
    }
   ],
   "source": [
    "# Write a Python program to categorize a given character as uppercase, lowercase, or neither using if-else.\n",
    "def categorize_character(char):\n",
    "    if char.isupper():\n",
    "        return \"Uppercase\"\n",
    "    elif char.islower():\n",
    "        return \"Lowercase\"\n",
    "    else:\n",
    "        return \"Neither uppercase nor lowercase\"\n",
    "\n",
    "# Get user input for a character\n",
    "user_input = input(\"Enter a character to categorize (single character only): \")\n",
    "\n",
    "# Check if the input is a single character\n",
    "if len(user_input) == 1:\n",
    "    # Get the first character\n",
    "    input_char = user_input[0]\n",
    "\n",
    "    # Categorize the character\n",
    "    category = categorize_character(input_char)\n",
    "    print(f\"The character '{input_char}' is {category}.\")\n",
    "else:\n",
    "    print(\"Invalid input. Please enter a single character.\")\n"
   ]
  },
  {
   "cell_type": "code",
   "execution_count": 8,
   "id": "9ea5118b",
   "metadata": {},
   "outputs": [
    {
     "name": "stdout",
     "output_type": "stream",
     "text": [
      "Enter the coefficient a: 45\n",
      "Enter the coefficient b: 12\n",
      "Enter the coefficient c: 12\n",
      "The quadratic equation has two real roots: (-0.13333333333333333+0.49888765156985887j) and (-0.13333333333333333-0.49888765156985887j)\n"
     ]
    }
   ],
   "source": [
    "#Write a Python program to determine the roots of a quadratic equation using if-else.\n",
    "import math\n",
    "\n",
    "def find_roots(a, b, c):\n",
    "    # Calculate the discriminant\n",
    "    discriminant = b**2 - 4*a*c\n",
    "\n",
    "    # Check the discriminant to determine the nature of the roots\n",
    "    if discriminant > 0:\n",
    "        # Two distinct real roots\n",
    "        root1 = (-b + math.sqrt(discriminant)) / (2*a)\n",
    "        root2 = (-b - math.sqrt(discriminant)) / (2*a)\n",
    "        return root1, root2\n",
    "    elif discriminant == 0:\n",
    "        # One real root (repeated)\n",
    "        root = -b / (2*a)\n",
    "        return root,\n",
    "    else:\n",
    "        # Complex roots\n",
    "        real_part = -b / (2*a)\n",
    "        imaginary_part = math.sqrt(abs(discriminant)) / (2*a)\n",
    "        root1 = complex(real_part, imaginary_part)\n",
    "        root2 = complex(real_part, -imaginary_part)\n",
    "        return root1, root2\n",
    "\n",
    "# Get user input for coefficients a, b, and c\n",
    "a = float(input(\"Enter the coefficient a: \"))\n",
    "b = float(input(\"Enter the coefficient b: \"))\n",
    "c = float(input(\"Enter the coefficient c: \"))\n",
    "\n",
    "# Determine and display the roots of the quadratic equation\n",
    "roots = find_roots(a, b, c)\n",
    "\n",
    "if len(roots) == 1:\n",
    "    print(f\"The quadratic equation has one real root: {roots[0]}\")\n",
    "elif len(roots) == 2:\n",
    "    print(f\"The quadratic equation has two real roots: {roots[0]} and {roots[1]}\")\n",
    "else:\n",
    "    print(f\"The quadratic equation has complex roots: {roots[0]} and {roots[1]}\")\n"
   ]
  },
  {
   "cell_type": "code",
   "execution_count": 9,
   "id": "a31d7035",
   "metadata": {},
   "outputs": [
    {
     "name": "stdout",
     "output_type": "stream",
     "text": [
      "Enter a year to check if it's a century year: 4568\n",
      "4568 is not a century year.\n"
     ]
    }
   ],
   "source": [
    "# Create a Python program that checks if a given year is a century year or not using if-else.\n",
    "def is_century_year(year):\n",
    "    if year % 100 == 0:\n",
    "        if year % 400 == 0:\n",
    "            return True\n",
    "        else:\n",
    "            return False\n",
    "    else:\n",
    "        return False\n",
    "\n",
    "# Get user input for the year\n",
    "user_input = input(\"Enter a year to check if it's a century year: \")\n",
    "\n",
    "try:\n",
    "    # Convert user input to an integer\n",
    "    year = int(user_input)\n",
    "\n",
    "    # Check if the entered year is a century year\n",
    "    if is_century_year(year):\n",
    "        print(f\"{year} is a century year.\")\n",
    "    else:\n",
    "        print(f\"{year} is not a century year.\")\n",
    "except ValueError:\n",
    "    print(\"Invalid input. Please enter a valid year.\")\n"
   ]
  },
  {
   "cell_type": "code",
   "execution_count": 10,
   "id": "8a988815",
   "metadata": {},
   "outputs": [
    {
     "name": "stdout",
     "output_type": "stream",
     "text": [
      "Enter a number to check if it's a perfect square: 456\n",
      "456 is not a perfect square.\n"
     ]
    }
   ],
   "source": [
    "#Write a Python program to determine if a given number is a perfect square using if-else.\n",
    "import math\n",
    "\n",
    "def is_perfect_square(number):\n",
    "    # Check if the square root is an integer\n",
    "    square_root = math.sqrt(number)\n",
    "    \n",
    "    if square_root.is_integer():\n",
    "        return True\n",
    "    else:\n",
    "        return False\n",
    "\n",
    "# Get user input for the number\n",
    "user_input = input(\"Enter a number to check if it's a perfect square: \")\n",
    "\n",
    "try:\n",
    "    # Convert user input to an integer\n",
    "    number = int(user_input)\n",
    "\n",
    "    # Check if the entered number is a perfect square\n",
    "    if is_perfect_square(number):\n",
    "        print(f\"{number} is a perfect square.\")\n",
    "    else:\n",
    "        print(f\"{number} is not a perfect square.\")\n",
    "except ValueError:\n",
    "    print(\"Invalid input. Please enter a valid number.\")\n"
   ]
  },
  {
   "cell_type": "code",
   "execution_count": null,
   "id": "26df0e3f",
   "metadata": {},
   "outputs": [],
   "source": [
    "# Explain the purpose of the \"continue\" and \"break\" statements within if-else loops.\n",
    "'''The continue and break statements are control flow statements in Python that are used within loops (including if-else loops) to alter the normal flow of execution.\n",
    "\n",
    "continue statement:\n",
    "\n",
    "The continue statement is used to skip the rest of the code inside a loop for the current iteration and move on to the next iteration.\n",
    "\n",
    "It is typically used when you want to skip certain iterations based on a specific condition without terminating the entire loop.\n",
    "\n",
    "Example:\n",
    "for i in range(1, 6):\n",
    "    if i == 3:\n",
    "        continue\n",
    "    print(i)\n",
    "Output:\n",
    "1\n",
    "2\n",
    "4\n",
    "5\n",
    "In this example, when i is equal to 3, the continue statement skips the print(i) statement for that iteration, and the loop continues with the next iteration.\n",
    "\n",
    "break statement:\n",
    "\n",
    "The break statement is used to exit a loop prematurely, regardless of the loop's normal exit condition. It terminates the entire loop and continues with the code that follows the loop.\n",
    "\n",
    "It is often used when a certain condition is met, and there is no need to continue with the remaining iterations of the loop.\n",
    "\n",
    "Example:\n",
    "for i in range(1, 6):\n",
    "    if i == 4:\n",
    "        break\n",
    "    print(i)\n",
    "Output:\n",
    "\n",
    "1\n",
    "2\n",
    "3\n",
    "In this example, when i is equal to 4, the break statement terminates the loop, and the program continues with the code that follows the loop.\n",
    "\n",
    "Both continue and break statements are powerful tools for controlling the flow of execution in loops based on specific conditions. However, it's important to use them judiciously to avoid creating code that is difficult to understand or maintain.'''"
   ]
  },
  {
   "cell_type": "code",
   "execution_count": 11,
   "id": "75fcf01b",
   "metadata": {},
   "outputs": [
    {
     "name": "stdout",
     "output_type": "stream",
     "text": [
      "Enter your weight in kilograms: 45\n",
      "Enter your height in centimeters: 160\n",
      "Your BMI is 17.58, which falls into the category: Underweight.\n"
     ]
    }
   ],
   "source": [
    "# Create a Python program that calculates the BMI (Body Mass Index) of a person based on theirweight and height using if-else.\n",
    "def calculate_bmi(weight, height):\n",
    "    # Convert height from centimeters to meters\n",
    "    height_meters = height / 100.0\n",
    "\n",
    "    # Calculate BMI\n",
    "    bmi = weight / (height_meters ** 2)\n",
    "    \n",
    "    return bmi\n",
    "\n",
    "def interpret_bmi(bmi):\n",
    "    if bmi < 18.5:\n",
    "        return \"Underweight\"\n",
    "    elif 18.5 <= bmi < 25:\n",
    "        return \"Normal weight\"\n",
    "    elif 25 <= bmi < 30:\n",
    "        return \"Overweight\"\n",
    "    else:\n",
    "        return \"Obese\"\n",
    "\n",
    "# Get user input for weight (in kilograms) and height (in centimeters)\n",
    "weight = float(input(\"Enter your weight in kilograms: \"))\n",
    "height = float(input(\"Enter your height in centimeters: \"))\n",
    "\n",
    "# Calculate BMI\n",
    "bmi = calculate_bmi(weight, height)\n",
    "\n",
    "# Interpret BMI and display the result\n",
    "bmi_category = interpret_bmi(bmi)\n",
    "print(f\"Your BMI is {bmi:.2f}, which falls into the category: {bmi_category}.\")\n"
   ]
  },
  {
   "cell_type": "code",
   "execution_count": 12,
   "id": "a3237b44",
   "metadata": {},
   "outputs": [
    {
     "name": "stdout",
     "output_type": "stream",
     "text": [
      "Original list: [1, 2, 3, 4, 5, 6, 7, 8, 9, 10]\n",
      "Filtered list of even numbers: [2, 4, 6, 8, 10]\n"
     ]
    }
   ],
   "source": [
    "# Howcanyouusethe \"filter()\" function with if-else statements to filter elements from a list?\n",
    "def is_even(number):\n",
    "    return number % 2 == 0\n",
    "\n",
    "# Example list of numbers\n",
    "numbers = [1, 2, 3, 4, 5, 6, 7, 8, 9, 10]\n",
    "\n",
    "# Use filter() with a custom function (is_even) to filter even numbers\n",
    "filtered_numbers = filter(is_even, numbers)\n",
    "\n",
    "# Convert the result to a list (as filter() returns an iterable)\n",
    "filtered_numbers_list = list(filtered_numbers)\n",
    "\n",
    "# Display the filtered numbers\n",
    "print(\"Original list:\", numbers)\n",
    "print(\"Filtered list of even numbers:\", filtered_numbers_list)\n"
   ]
  },
  {
   "cell_type": "code",
   "execution_count": 13,
   "id": "8851896f",
   "metadata": {},
   "outputs": [
    {
     "name": "stdout",
     "output_type": "stream",
     "text": [
      "Enter a number to check if it's prime: 45\n",
      "45 is not a prime number.\n"
     ]
    }
   ],
   "source": [
    "#Write a Python program to determine if a given number is prime or not using if-else\n",
    "def is_prime(number):\n",
    "    if number < 2:\n",
    "        return False\n",
    "    elif number == 2:\n",
    "        return True\n",
    "    elif number % 2 == 0:\n",
    "        return False\n",
    "    else:\n",
    "        # Check for factors up to the square root of the number\n",
    "        for i in range(3, int(number**0.5) + 1, 2):\n",
    "            if number % i == 0:\n",
    "                return False\n",
    "        return True\n",
    "\n",
    "# Get user input for the number\n",
    "user_input = input(\"Enter a number to check if it's prime: \")\n",
    "\n",
    "try:\n",
    "    # Convert user input to an integer\n",
    "    number = int(user_input)\n",
    "\n",
    "    # Check if the entered number is prime\n",
    "    if is_prime(number):\n",
    "        print(f\"{number} is a prime number.\")\n",
    "    else:\n",
    "        print(f\"{number} is not a prime number.\")\n",
    "except ValueError:\n",
    "    print(\"Invalid input. Please enter a valid number.\")\n"
   ]
  },
  {
   "cell_type": "markdown",
   "id": "676b66e0",
   "metadata": {},
   "source": [
    "# Map:\n",
    "        "
   ]
  },
  {
   "cell_type": "code",
   "execution_count": 16,
   "id": "22dfea00",
   "metadata": {},
   "outputs": [
    {
     "data": {
      "text/plain": [
       "'\\nThe map() function in Python is a built-in function that allows you to apply a specified function to every item in an iterable (e.g., a list, tuple, or string). It returns an iterator that produces the results of applying the given function to each item in the original iterable.\\n\\nThe syntax for the map() function is as follows:\\n\\npython\\nCopy code\\nmap(function, iterable, ...)\\nfunction: The function to apply to each item in the iterable.\\niterable: The iterable whose elements will be processed by the function.\\nHere\\'s an example to illustrate how the map() function works:\\n\\n# Function to square a number\\ndef square(x):\\n    return x ** 2\\n\\n# List of numbers\\nnumbers = [1, 2, 3, 4, 5]\\n\\n# Use map() to apply the square function to each element in the list\\nsquared_numbers = map(square, numbers)\\n\\n# Convert the result to a list (as map() returns an iterator)\\nsquared_numbers_list = list(squared_numbers)\\n\\n# Display the result\\nprint(\"Original numbers:\", numbers)\\nprint(\"Squared numbers:\", squared_numbers_list)\\nOutput:\\nOriginal numbers: [1, 2, 3, 4, 5]\\nSquared numbers: [1, 4, 9, 16, 25]\\nIn this example, the square function is defined to calculate the square of a given number. The map() function is then used to apply the square function to each element in the numbers list, resulting in a new list of squared numbers.\\n\\nThe map() function is a concise and efficient way to transform each element of an iterable without the need for explicit loops. It is particularly useful when you want to apply a specific operation to every item in a sequence.\\n\\n\\n\\n\\n\\n'"
      ]
     },
     "execution_count": 16,
     "metadata": {},
     "output_type": "execute_result"
    }
   ],
   "source": [
    "#Explain the purpose of the `map()` function in Python and provide an example of how it can be used to apply a function to each element of an iterable.\n",
    "'''\n",
    "The map() function in Python is a built-in function that allows you to apply a specified function to every item in an iterable (e.g., a list, tuple, or string). It returns an iterator that produces the results of applying the given function to each item in the original iterable.\n",
    "\n",
    "The syntax for the map() function is as follows:\n",
    "\n",
    "python\n",
    "Copy code\n",
    "map(function, iterable, ...)\n",
    "function: The function to apply to each item in the iterable.\n",
    "iterable: The iterable whose elements will be processed by the function.\n",
    "Here's an example to illustrate how the map() function works:\n",
    "\n",
    "# Function to square a number\n",
    "def square(x):\n",
    "    return x ** 2\n",
    "\n",
    "# List of numbers\n",
    "numbers = [1, 2, 3, 4, 5]\n",
    "\n",
    "# Use map() to apply the square function to each element in the list\n",
    "squared_numbers = map(square, numbers)\n",
    "\n",
    "# Convert the result to a list (as map() returns an iterator)\n",
    "squared_numbers_list = list(squared_numbers)\n",
    "\n",
    "# Display the result\n",
    "print(\"Original numbers:\", numbers)\n",
    "print(\"Squared numbers:\", squared_numbers_list)\n",
    "Output:\n",
    "Original numbers: [1, 2, 3, 4, 5]\n",
    "Squared numbers: [1, 4, 9, 16, 25]\n",
    "In this example, the square function is defined to calculate the square of a given number. The map() function is then used to apply the square function to each element in the numbers list, resulting in a new list of squared numbers.\n",
    "\n",
    "The map() function is a concise and efficient way to transform each element of an iterable without the need for explicit loops. It is particularly useful when you want to apply a specific operation to every item in a sequence.\n",
    "\n",
    "\n",
    "\n",
    "\n",
    "\n",
    "'''"
   ]
  },
  {
   "cell_type": "code",
   "execution_count": 17,
   "id": "45ca6b7f",
   "metadata": {},
   "outputs": [
    {
     "name": "stdout",
     "output_type": "stream",
     "text": [
      "Original numbers: [1, 2, 3, 4, 5]\n",
      "Squared numbers: [1, 4, 9, 16, 25]\n"
     ]
    }
   ],
   "source": [
    "# Write aPython program that uses the `map()` function to square each element of a list of numbers.\n",
    "# Function to square a number\n",
    "def square(x):\n",
    "    return x ** 2\n",
    "\n",
    "# List of numbers\n",
    "numbers = [1, 2, 3, 4, 5]\n",
    "\n",
    "# Use map() to apply the square function to each element in the list\n",
    "squared_numbers = map(square, numbers)\n",
    "\n",
    "# Convert the result to a list (as map() returns an iterator)\n",
    "squared_numbers_list = list(squared_numbers)\n",
    "\n",
    "# Display the result\n",
    "print(\"Original numbers:\", numbers)\n",
    "print(\"Squared numbers:\", squared_numbers_list)\n"
   ]
  },
  {
   "cell_type": "code",
   "execution_count": null,
   "id": "061defdf",
   "metadata": {},
   "outputs": [],
   "source": [
    "# Howdoesthe`map()` function differ from a list comprehension in Python, and when would youchoose one over the other?\n",
    "'''The map() function and list comprehensions are both ways to apply a function to each element of an iterable (e.g., a list) in Python. However, they have some differences in terms of syntax, readability, and use cases.\n",
    "\n",
    "map() function:\n",
    "Syntax:\n",
    "\n",
    "map() takes a function and one or more iterables as arguments.\n",
    "It returns an iterator, so you often need to convert it to a list or another iterable type.\n",
    "Readability:\n",
    "\n",
    "Some find the syntax of map() less explicit and may find it harder to read, especially when using more complex functions.\n",
    "Use cases:\n",
    "\n",
    "Useful when you want to apply a specific function to each element of one or more iterables.\n",
    "Appropriate when the transformation logic involves a separate function.\n",
    "List comprehensions:\n",
    "Syntax:\n",
    "\n",
    "List comprehensions have a concise and readable syntax, making them easier to understand.\n",
    "They are written within square brackets and include the expression and the loop.\n",
    "Readability:\n",
    "\n",
    "Often considered more readable and Pythonic, especially for simple operations.\n",
    "Use cases:\n",
    "\n",
    "Useful for creating new lists by applying an expression to each item in an existing iterable.\n",
    "Can be more concise for simple transformations.\n",
    "Example:\n",
    "Using map():\n",
    "def square(x):\n",
    "    return x ** 2\n",
    "\n",
    "numbers = [1, 2, 3, 4, 5]\n",
    "squared_numbers = list(map(square, numbers))\n",
    "Using list comprehension:\n",
    "\n",
    "numbers = [1, 2, 3, 4, 5]\n",
    "squared_numbers = [x ** 2 for x in numbers]\n",
    "When to choose one over the other:\n",
    "Readability:\n",
    "\n",
    "List comprehensions are often considered more readable and concise for simple operations.\n",
    "Complexity:\n",
    "\n",
    "For more complex operations or when applying a function that already exists, map() may be more appropriate.\n",
    "Performance:\n",
    "\n",
    "In terms of performance, there is usually no significant difference between the two. Choose the one that aligns with the readability and style preferences of your codebase.\n",
    "Applying Functions:\n",
    "\n",
    "If you have an existing function that you want to apply, map() is a good choice.\n",
    "For simple expressions, list comprehensions are often more straightforward.\n",
    "Ultimately, the choice between map() and list comprehensions depends on the specific use case, readability preferences, and the complexity of the transformation you want to apply to the elements of an iterable.'''"
   ]
  },
  {
   "cell_type": "code",
   "execution_count": 18,
   "id": "ca88c833",
   "metadata": {},
   "outputs": [
    {
     "name": "stdout",
     "output_type": "stream",
     "text": [
      "Original names: ['Alice', 'Bob', 'Charlie', 'David', 'Eve']\n",
      "Uppercase names: ['ALICE', 'BOB', 'CHARLIE', 'DAVID', 'EVE']\n"
     ]
    }
   ],
   "source": [
    "#Create a Python program that uses the `map()` function to convert a list of names to uppercase.\n",
    "# List of names\n",
    "names = [\"Alice\", \"Bob\", \"Charlie\", \"David\", \"Eve\"]\n",
    "\n",
    "# Use map() to convert each name to uppercase\n",
    "uppercase_names = map(str.upper, names)\n",
    "\n",
    "# Convert the result to a list (as map() returns an iterator)\n",
    "uppercase_names_list = list(uppercase_names)\n",
    "\n",
    "# Display the result\n",
    "print(\"Original names:\", names)\n",
    "print(\"Uppercase names:\", uppercase_names_list)\n"
   ]
  },
  {
   "cell_type": "code",
   "execution_count": 19,
   "id": "1f3d7b7e",
   "metadata": {},
   "outputs": [
    {
     "name": "stdout",
     "output_type": "stream",
     "text": [
      "Original words: ['apple', 'banana', 'cherry', 'date', 'elderberry']\n",
      "Word lengths: [5, 6, 6, 4, 10]\n"
     ]
    }
   ],
   "source": [
    "#Write aPython program that uses the `map()` function to calculate the length of each word in a list of strings\n",
    "# List of strings\n",
    "words_list = [\"apple\", \"banana\", \"cherry\", \"date\", \"elderberry\"]\n",
    "\n",
    "# Use map() to calculate the length of each word\n",
    "word_lengths = map(len, words_list)\n",
    "\n",
    "# Convert the result to a list (as map() returns an iterator)\n",
    "word_lengths_list = list(word_lengths)\n",
    "\n",
    "# Display the result\n",
    "print(\"Original words:\", words_list)\n",
    "print(\"Word lengths:\", word_lengths_list)\n"
   ]
  },
  {
   "cell_type": "code",
   "execution_count": 20,
   "id": "5d92b9a8",
   "metadata": {},
   "outputs": [
    {
     "name": "stdout",
     "output_type": "stream",
     "text": [
      "List 1: [1, 2, 3, 4]\n",
      "List 2: [5, 6, 7, 8]\n",
      "Sum of corresponding elements: [6, 8, 10, 12]\n"
     ]
    }
   ],
   "source": [
    "#Howcanyouusethe`map()` function to apply a custom function to elements of multiple lists simultaneously in Python?\n",
    "# Custom function to add corresponding elements of two lists\n",
    "def add_elements(x, y):\n",
    "    return x + y\n",
    "\n",
    "# Two lists of numbers\n",
    "list1 = [1, 2, 3, 4]\n",
    "list2 = [5, 6, 7, 8]\n",
    "\n",
    "# Use map() to apply the add_elements function to corresponding elements of the two lists\n",
    "sum_result = map(add_elements, list1, list2)\n",
    "\n",
    "# Convert the result to a list (as map() returns an iterator)\n",
    "sum_result_list = list(sum_result)\n",
    "\n",
    "# Display the result\n",
    "print(\"List 1:\", list1)\n",
    "print(\"List 2:\", list2)\n",
    "print(\"Sum of corresponding elements:\", sum_result_list)\n"
   ]
  },
  {
   "cell_type": "code",
   "execution_count": 21,
   "id": "0bc48208",
   "metadata": {},
   "outputs": [
    {
     "name": "stdout",
     "output_type": "stream",
     "text": [
      "Celsius temperatures: [0, 10, 20, 30, 40]\n",
      "Fahrenheit temperatures: [32.0, 50.0, 68.0, 86.0, 104.0]\n"
     ]
    }
   ],
   "source": [
    "# Create a Python program that uses `map()` to convert a list of temperatures from Celsius toFahrenheit.\n",
    "# Custom function to convert Celsius to Fahrenheit\n",
    "def celsius_to_fahrenheit(celsius):\n",
    "    return (9/5) * celsius + 32\n",
    "\n",
    "# List of temperatures in Celsius\n",
    "celsius_temperatures = [0, 10, 20, 30, 40]\n",
    "\n",
    "# Use map() to apply the conversion function to each temperature\n",
    "fahrenheit_temperatures = map(celsius_to_fahrenheit, celsius_temperatures)\n",
    "\n",
    "# Convert the result to a list (as map() returns an iterator)\n",
    "fahrenheit_temperatures_list = list(fahrenheit_temperatures)\n",
    "\n",
    "# Display the result\n",
    "print(\"Celsius temperatures:\", celsius_temperatures)\n",
    "print(\"Fahrenheit temperatures:\", fahrenheit_temperatures_list)\n"
   ]
  },
  {
   "cell_type": "code",
   "execution_count": 22,
   "id": "67048ad6",
   "metadata": {},
   "outputs": [
    {
     "name": "stdout",
     "output_type": "stream",
     "text": [
      "Original float numbers: [3.14, 2.718, 1.618, 0.5, -1.234]\n",
      "Rounded integers: [3, 3, 2, 0, -1]\n"
     ]
    }
   ],
   "source": [
    "# Write aPython program that uses the `map()` function to round each element of a list offloating-point numbers to the nearest integer\n",
    "# List of floating-point numbers\n",
    "float_numbers = [3.14, 2.718, 1.618, 0.5, -1.234]\n",
    "\n",
    "# Use map() to round each element to the nearest integer\n",
    "rounded_integers = map(round, float_numbers)\n",
    "\n",
    "# Convert the result to a list (as map() returns an iterator)\n",
    "rounded_integers_list = list(rounded_integers)\n",
    "\n",
    "# Display the result\n",
    "print(\"Original float numbers:\", float_numbers)\n",
    "print(\"Rounded integers:\", rounded_integers_list)\n"
   ]
  },
  {
   "cell_type": "markdown",
   "id": "b38dddd4",
   "metadata": {},
   "source": [
    "# Reduce "
   ]
  },
  {
   "cell_type": "code",
   "execution_count": 23,
   "id": "3f655ae0",
   "metadata": {},
   "outputs": [
    {
     "name": "stdout",
     "output_type": "stream",
     "text": [
      "List of numbers: [1, 2, 3, 4, 5]\n",
      "Sum of all elements: 15\n"
     ]
    }
   ],
   "source": [
    "#Whatisthe`reduce()` function in Python, and what module should you import to use it? Provide an example of its basic usage.\n",
    "from functools import reduce\n",
    "\n",
    "# Custom function to add two numbers\n",
    "def add(x, y):\n",
    "    return x + y\n",
    "\n",
    "# List of numbers\n",
    "numbers = [1, 2, 3, 4, 5]\n",
    "\n",
    "# Use reduce() to calculate the sum of all elements in the list\n",
    "sum_result = reduce(add, numbers)\n",
    "\n",
    "# Display the result\n",
    "print(\"List of numbers:\", numbers)\n",
    "print(\"Sum of all elements:\", sum_result)\n"
   ]
  },
  {
   "cell_type": "code",
   "execution_count": 24,
   "id": "d09b5537",
   "metadata": {},
   "outputs": [
    {
     "name": "stdout",
     "output_type": "stream",
     "text": [
      "List of numbers: [2, 3, 4, 5]\n",
      "Product of all elements: 120\n"
     ]
    }
   ],
   "source": [
    "#Write aPython program that uses the `reduce()` function to find the product of all elements in a list.\n",
    "from functools import reduce\n",
    "\n",
    "# Custom function to multiply two numbers\n",
    "def multiply(x, y):\n",
    "    return x * y\n",
    "\n",
    "# List of numbers\n",
    "numbers = [2, 3, 4, 5]\n",
    "\n",
    "# Use reduce() to calculate the product of all elements in the list\n",
    "product_result = reduce(multiply, numbers)\n",
    "\n",
    "# Display the result\n",
    "print(\"List of numbers:\", numbers)\n",
    "print(\"Product of all elements:\", product_result)\n"
   ]
  },
  {
   "cell_type": "code",
   "execution_count": 25,
   "id": "21bbeb77",
   "metadata": {},
   "outputs": [
    {
     "name": "stdout",
     "output_type": "stream",
     "text": [
      "List of numbers: [8, 5, 12, 3, 9]\n",
      "Maximum element: 12\n"
     ]
    }
   ],
   "source": [
    "#Create a Python program that uses `reduce()` to find the maximum element in a list of numbers\n",
    "from functools import reduce\n",
    "\n",
    "# Custom function to find the maximum of two numbers\n",
    "def find_max(x, y):\n",
    "    return max(x, y)\n",
    "\n",
    "# List of numbers\n",
    "numbers = [8, 5, 12, 3, 9]\n",
    "\n",
    "# Use reduce() to find the maximum element in the list\n",
    "max_element = reduce(find_max, numbers)\n",
    "\n",
    "# Display the result\n",
    "print(\"List of numbers:\", numbers)\n",
    "print(\"Maximum element:\", max_element)\n"
   ]
  },
  {
   "cell_type": "code",
   "execution_count": 26,
   "id": "f11a0a7b",
   "metadata": {},
   "outputs": [
    {
     "name": "stdout",
     "output_type": "stream",
     "text": [
      "List of strings: ['Hello', ', ', 'world', '!']\n",
      "Concatenated string: Hello, world!\n"
     ]
    }
   ],
   "source": [
    "#Howcanyouusethe`reduce()` function to concatenate a list of strings into a single string?\n",
    "from functools import reduce\n",
    "\n",
    "# List of strings\n",
    "string_list = [\"Hello\", \", \", \"world\", \"!\"]\n",
    "\n",
    "# Use reduce() to concatenate the strings\n",
    "concatenated_string = reduce(lambda x, y: x + y, string_list)\n",
    "\n",
    "# Display the result\n",
    "print(\"List of strings:\", string_list)\n",
    "print(\"Concatenated string:\", concatenated_string)\n"
   ]
  },
  {
   "cell_type": "code",
   "execution_count": 27,
   "id": "caea6023",
   "metadata": {},
   "outputs": [
    {
     "name": "stdout",
     "output_type": "stream",
     "text": [
      "Enter a non-negative integer to calculate its factorial: 45\n",
      "The factorial of 45 is: 119622220865480194561963161495657715064383733760000000000\n"
     ]
    }
   ],
   "source": [
    "# Write aPython program that calculates the factorial of a number using the `reduce()` function.\n",
    "from functools import reduce\n",
    "\n",
    "# Custom function to calculate the factorial of a number\n",
    "def calculate_factorial(x, y):\n",
    "    return x * y\n",
    "\n",
    "# Get user input for the number\n",
    "user_input = input(\"Enter a non-negative integer to calculate its factorial: \")\n",
    "\n",
    "try:\n",
    "    # Convert user input to an integer\n",
    "    number = int(user_input)\n",
    "\n",
    "    # Check if the entered number is non-negative\n",
    "    if number < 0:\n",
    "        print(\"Please enter a non-negative integer.\")\n",
    "    else:\n",
    "        # Generate a list of numbers from 1 to the entered number\n",
    "        numbers = list(range(1, number + 1))\n",
    "\n",
    "        # Use reduce() to calculate the factorial\n",
    "        factorial_result = reduce(calculate_factorial, numbers, 1)\n",
    "\n",
    "        # Display the result\n",
    "        print(f\"The factorial of {number} is:\", factorial_result)\n",
    "except ValueError:\n",
    "    print(\"Invalid input. Please enter a valid non-negative integer.\")\n"
   ]
  },
  {
   "cell_type": "code",
   "execution_count": 28,
   "id": "50fcb7ba",
   "metadata": {},
   "outputs": [
    {
     "name": "stdout",
     "output_type": "stream",
     "text": [
      "List of numbers: [24, 36, 48, 60]\n",
      "GCD of the numbers: 12\n"
     ]
    }
   ],
   "source": [
    "#Create a Python program that uses `reduce()` to find the GCD (Greatest Common Divisor) of a list of numbers.\n",
    "from functools import reduce\n",
    "import math\n",
    "\n",
    "# List of numbers\n",
    "numbers = [24, 36, 48, 60]\n",
    "\n",
    "# Use reduce() to find the GCD of the numbers\n",
    "gcd_result = reduce(math.gcd, numbers)\n",
    "\n",
    "# Display the result\n",
    "print(\"List of numbers:\", numbers)\n",
    "print(\"GCD of the numbers:\", gcd_result)\n"
   ]
  },
  {
   "cell_type": "code",
   "execution_count": 29,
   "id": "918a3260",
   "metadata": {},
   "outputs": [
    {
     "name": "stdout",
     "output_type": "stream",
     "text": [
      "Enter a number to find the sum of its digits: 45\n",
      "The sum of the digits of 45 is: 9\n"
     ]
    }
   ],
   "source": [
    " #Write aPython program that uses the `reduce()` function to find the sum of the digits of a given number#\n",
    "from functools import reduce\n",
    "\n",
    "# Custom function to calculate the sum of digits\n",
    "def sum_of_digits(x, y):\n",
    "    return int(x) + int(y)\n",
    "\n",
    "# Get user input for the number\n",
    "user_input = input(\"Enter a number to find the sum of its digits: \")\n",
    "\n",
    "try:\n",
    "    # Convert each digit to a list of characters\n",
    "    digits_list = list(user_input)\n",
    "\n",
    "    # Use reduce() to calculate the sum of the digits\n",
    "    sum_of_digits_result = reduce(sum_of_digits, digits_list, 0)\n",
    "\n",
    "    # Display the result\n",
    "    print(f\"The sum of the digits of {user_input} is:\", sum_of_digits_result)\n",
    "except ValueError:\n",
    "    print(\"Invalid input. Please enter a valid number.\")\n"
   ]
  },
  {
   "cell_type": "markdown",
   "id": "745be1f5",
   "metadata": {},
   "source": [
    "# Filter :"
   ]
  },
  {
   "cell_type": "code",
   "execution_count": null,
   "id": "16225bb8",
   "metadata": {},
   "outputs": [],
   "source": [
    "# Explain the purpose of the `filter()` function in Python and provide an example of how it can be used to filter elements from an iterable.\n",
    "'''The filter() function in Python is a built-in function that is used to filter elements from an iterable (such as a list, tuple, or string) based on a specified function or condition. It constructs an iterator from elements of the iterable for which the given function returns True.\n",
    "\n",
    "The syntax of the filter() function is as follows:\n",
    "\n",
    "python\n",
    "Copy code\n",
    "filter(function, iterable)\n",
    "function: The function that tests whether each element of the iterable should be included in the result. If None, it simply returns the elements that are true.\n",
    "iterable: The iterable whose elements will be tested by the function.\n",
    "Here's an example to illustrate how the filter() function works:\n",
    "\n",
    "# Custom function to filter even numbers\n",
    "def is_even(number):\n",
    "    return number % 2 == 0\n",
    "\n",
    "# List of numbers\n",
    "numbers = [1, 2, 3, 4, 5, 6, 7, 8, 9, 10]\n",
    "\n",
    "# Use filter() to filter even numbers\n",
    "even_numbers = filter(is_even, numbers)\n",
    "\n",
    "# Convert the result to a list (as filter() returns an iterator)\n",
    "even_numbers_list = list(even_numbers)\n",
    "\n",
    "# Display the result\n",
    "print(\"Original numbers:\", numbers)\n",
    "print(\"Even numbers:\", even_numbers_list)\n",
    "Output:\n",
    "Original numbers: [1, 2, 3, 4, 5, 6, 7, 8, 9, 10]\n",
    "Even numbers: [2, 4, 6, 8, 10]\n",
    "In this example, the is_even function is used as the filtering criterion. The filter() function applies this condition to each element in the numbers list, and only the elements for which the is_even function returns True are included in the filtered result.\n",
    "\n",
    "The filter() function provides a concise way to selectively include elements in a new iterable based on a specified condition, making it useful for data filtering tasks'''"
   ]
  },
  {
   "cell_type": "code",
   "execution_count": 30,
   "id": "2eb07953",
   "metadata": {},
   "outputs": [
    {
     "name": "stdout",
     "output_type": "stream",
     "text": [
      "Original numbers: [1, 2, 3, 4, 5, 6, 7, 8, 9, 10]\n",
      "Even numbers: [2, 4, 6, 8, 10]\n"
     ]
    }
   ],
   "source": [
    "# Write aPython program that uses the `filter()` function to select even numbers from a list of integers.\n",
    "# Custom function to filter even numbers\n",
    "def is_even(number):\n",
    "    return number % 2 == 0\n",
    "\n",
    "# List of integers\n",
    "numbers = [1, 2, 3, 4, 5, 6, 7, 8, 9, 10]\n",
    "\n",
    "# Use filter() to select even numbers\n",
    "even_numbers = filter(is_even, numbers)\n",
    "\n",
    "# Convert the result to a list (as filter() returns an iterator)\n",
    "even_numbers_list = list(even_numbers)\n",
    "\n",
    "# Display the result\n",
    "print(\"Original numbers:\", numbers)\n",
    "print(\"Even numbers:\", even_numbers_list)\n"
   ]
  },
  {
   "cell_type": "code",
   "execution_count": 31,
   "id": "994cca6a",
   "metadata": {},
   "outputs": [
    {
     "name": "stdout",
     "output_type": "stream",
     "text": [
      "Original names: ['Alice', 'Bob', 'Charlie', 'David', 'Eve']\n",
      "Names starting with 'C': ['Charlie']\n"
     ]
    }
   ],
   "source": [
    "# Create a Python program that uses the `filter()` function to select names that start with a specific letter from a list of strings.\n",
    "# List of names\n",
    "names = [\"Alice\", \"Bob\", \"Charlie\", \"David\", \"Eve\"]\n",
    "\n",
    "# Specific letter to filter names\n",
    "specific_letter = \"C\"\n",
    "\n",
    "# Use filter() to select names starting with the specific letter\n",
    "filtered_names = filter(lambda name: name.startswith(specific_letter), names)\n",
    "\n",
    "# Convert the result to a list (as filter() returns an iterator)\n",
    "filtered_names_list = list(filtered_names)\n",
    "\n",
    "# Display the result\n",
    "print(\"Original names:\", names)\n",
    "print(f\"Names starting with '{specific_letter}':\", filtered_names_list)\n"
   ]
  },
  {
   "cell_type": "code",
   "execution_count": 32,
   "id": "bcc4408c",
   "metadata": {},
   "outputs": [
    {
     "name": "stdout",
     "output_type": "stream",
     "text": [
      "Original numbers: [1, 2, 3, 4, 5, 6, 7, 8, 9, 10, 11, 12, 13, 14, 15]\n",
      "Prime numbers: [2, 3, 5, 7, 11, 13]\n"
     ]
    }
   ],
   "source": [
    "# Write aPython program that uses the `filter()` function to select prime numbers from a list of integers.\n",
    "# Custom function to check if a number is prime\n",
    "def is_prime(number):\n",
    "    if number < 2:\n",
    "        return False\n",
    "    for i in range(2, int(number**0.5) + 1):\n",
    "        if number % i == 0:\n",
    "            return False\n",
    "    return True\n",
    "\n",
    "# List of integers\n",
    "numbers = [1, 2, 3, 4, 5, 6, 7, 8, 9, 10, 11, 12, 13, 14, 15]\n",
    "\n",
    "# Use filter() to select prime numbers\n",
    "prime_numbers = filter(is_prime, numbers)\n",
    "\n",
    "# Convert the result to a list (as filter() returns an iterator)\n",
    "prime_numbers_list = list(prime_numbers)\n",
    "\n",
    "# Display the result\n",
    "print(\"Original numbers:\", numbers)\n",
    "print(\"Prime numbers:\", prime_numbers_list)\n"
   ]
  },
  {
   "cell_type": "code",
   "execution_count": 33,
   "id": "9534699f",
   "metadata": {},
   "outputs": [
    {
     "name": "stdout",
     "output_type": "stream",
     "text": [
      "Original list: [1, None, 3, None, 5, 6, None, 8, None, 10]\n",
      "List without None values: [1, 3, 5, 6, 8, 10]\n"
     ]
    }
   ],
   "source": [
    "#5. Howcanyouusethe`filter()` function to remove None values from a list in Python?\n",
    "# List with None values\n",
    "mixed_values = [1, None, 3, None, 5, 6, None, 8, None, 10]\n",
    "\n",
    "# Use filter() to remove None values\n",
    "filtered_values = filter(lambda x: x is not None, mixed_values)\n",
    "\n",
    "# Convert the result to a list (as filter() returns an iterator)\n",
    "filtered_values_list = list(filtered_values)\n",
    "\n",
    "# Display the result\n",
    "print(\"Original list:\", mixed_values)\n",
    "print(\"List without None values:\", filtered_values_list)\n"
   ]
  },
  {
   "cell_type": "code",
   "execution_count": 34,
   "id": "46bbecf8",
   "metadata": {},
   "outputs": [
    {
     "name": "stdout",
     "output_type": "stream",
     "text": [
      "Original words: ['apple', 'banana', 'kiwi', 'grape', 'orange', 'strawberry']\n",
      "Words longer than 6 characters: ['strawberry']\n"
     ]
    }
   ],
   "source": [
    "#6.  Create a Python program that uses `filter()` to select words longer than a certain length from a list of strings\n",
    "# List of strings\n",
    "words = [\"apple\", \"banana\", \"kiwi\", \"grape\", \"orange\", \"strawberry\"]\n",
    "\n",
    "# Minimum length to filter words\n",
    "min_length = 6\n",
    "\n",
    "# Use filter() to select words longer than the specified length\n",
    "filtered_words = filter(lambda word: len(word) > min_length, words)\n",
    "\n",
    "# Convert the result to a list (as filter() returns an iterator)\n",
    "filtered_words_list = list(filtered_words)\n",
    "\n",
    "# Display the result\n",
    "print(\"Original words:\", words)\n",
    "print(f\"Words longer than {min_length} characters:\", filtered_words_list)\n"
   ]
  },
  {
   "cell_type": "code",
   "execution_count": 35,
   "id": "0f58ac93",
   "metadata": {},
   "outputs": [
    {
     "name": "stdout",
     "output_type": "stream",
     "text": [
      "Original values: [15, 7, 22, 30, 10, 5, 18]\n",
      "Values greater than 15: [22, 30, 18]\n"
     ]
    }
   ],
   "source": [
    "#7. Write aPython program that uses the `filter()` function to select elements greater than a specified threshold from a list of values.\n",
    "# List of values\n",
    "values = [15, 7, 22, 30, 10, 5, 18]\n",
    "\n",
    "# Threshold for filtering\n",
    "threshold = 15\n",
    "\n",
    "# Use filter() to select elements greater than the specified threshold\n",
    "filtered_values = filter(lambda x: x > threshold, values)\n",
    "\n",
    "# Convert the result to a list (as filter() returns an iterator)\n",
    "filtered_values_list = list(filtered_values)\n",
    "\n",
    "# Display the result\n",
    "print(\"Original values:\", values)\n",
    "print(f\"Values greater than {threshold}:\", filtered_values_list)\n"
   ]
  },
  {
   "cell_type": "markdown",
   "id": "fc9076d1",
   "metadata": {},
   "source": [
    "# Recursion"
   ]
  },
  {
   "cell_type": "code",
   "execution_count": null,
   "id": "3795ad17",
   "metadata": {},
   "outputs": [],
   "source": [
    "# Explain the concept of recursion in Python. How does it differ from iteration\n",
    "'''Recursion and iteration are both programming concepts that involve repetitive execution of code, but they achieve this in different ways. Let's start with recursion.\n",
    "\n",
    "Recursion in Python:\n",
    "Recursion is a programming technique where a function calls itself in its own definition. In other words, a function solves a problem by solving smaller instances of the same problem. In Python, a recursive function consists of a base case and a recursive case.\n",
    "\n",
    "Here's a simple example of a recursive function to calculate the factorial of a number:\n",
    "def factorial(n):\n",
    "    if n == 0 or n == 1:\n",
    "        return 1\n",
    "    else:\n",
    "        return n * factorial(n - 1)\n",
    "In this example:\n",
    "\n",
    "The base case is n == 0 or n == 1, where the function returns 1.\n",
    "The recursive case is return n * factorial(n - 1), where the function calls itself with a smaller argument.\n",
    "Iteration in Python:\n",
    "Iteration, on the other hand, is the process of repeatedly executing a set of statements using loops. In Python, you often use for and while loops for iteration.\n",
    "\n",
    "Here's an example using a for loop to calculate the factorial of a number:\n",
    "def factorial_iterative(n):\n",
    "    result = 1\n",
    "    for i in range(1, n + 1):\n",
    "        result *= i\n",
    "    return result\n",
    "In this example:\n",
    "\n",
    "The variable result is initialized to 1.\n",
    "The for loop iterates through the range from 1 to n + 1, multiplying each value with result.\n",
    "Differences:\n",
    "\n",
    "Control Flow:\n",
    "\n",
    "Recursion relies on function calls and a stack to keep track of multiple instances of the same function.\n",
    "Iteration uses loops and maintains control flow through the loop construct.\n",
    "Memory Usage:\n",
    "\n",
    "Recursion may use more memory due to the call stack, potentially leading to a stack overflow for very deep recursive calls.\n",
    "Iteration typically uses less memory as it doesn't involve a call stack.\n",
    "Readability:\n",
    "\n",
    "Recursive solutions can be more elegant for certain problems, expressing the problem in a more natural way.\n",
    "Iterative solutions may be more straightforward and easier to understand for some programmers.\n",
    "Choosing between Recursion and Iteration:\n",
    "The choice between recursion and iteration often depends on the problem at hand and personal preference. Some problems naturally lend themselves to recursive solutions, while others may be more straightforward with iteration. Additionally, some languages optimize certain types of recursion, making it more efficient. In Python, however, iteration is generally more common due to its simplicity and the potential for lower memory usage.'''"
   ]
  },
  {
   "cell_type": "code",
   "execution_count": 3,
   "id": "292cfbe1",
   "metadata": {},
   "outputs": [
    {
     "data": {
      "text/plain": [
       "24"
      ]
     },
     "execution_count": 3,
     "metadata": {},
     "output_type": "execute_result"
    }
   ],
   "source": [
    "# Write aPython program to calculate the factorial of a number using recursion.\n",
    "def factorial(n):\n",
    "    if n == 0 or n == 1:\n",
    "        return 1\n",
    "    else:\n",
    "        return n * factorial(n - 1)\n",
    "factorial(4)"
   ]
  },
  {
   "cell_type": "code",
   "execution_count": 4,
   "id": "2a576be4",
   "metadata": {},
   "outputs": [
    {
     "name": "stdout",
     "output_type": "stream",
     "text": [
      "The 7th Fibonacci number is: 8\n"
     ]
    }
   ],
   "source": [
    "# Create a recursive Python function to find the nth Fibonacci number.\n",
    "def fibonacci(n):\n",
    "    if n <= 0:\n",
    "        return \"Invalid input. Please provide a positive integer for n.\"\n",
    "    elif n == 1:\n",
    "        return 0\n",
    "    elif n == 2:\n",
    "        return 1\n",
    "    else:\n",
    "        return fibonacci(n - 1) + fibonacci(n - 2)\n",
    "\n",
    "# Example usage:\n",
    "n = 7\n",
    "result = fibonacci(n)\n",
    "print(f\"The {n}th Fibonacci number is: {result}\")\n"
   ]
  },
  {
   "cell_type": "code",
   "execution_count": 5,
   "id": "1d1ab9e6",
   "metadata": {},
   "outputs": [
    {
     "name": "stdout",
     "output_type": "stream",
     "text": [
      "The sum of the elements in the list is: 15\n"
     ]
    }
   ],
   "source": [
    "# Write arecursive Python function to calculate the sum of all elements in a list\n",
    "def recursive_sum(lst):\n",
    "    if not lst:\n",
    "        return 0\n",
    "    else:\n",
    "        return lst[0] + recursive_sum(lst[1:])\n",
    "\n",
    "# Example usage:\n",
    "my_list = [1, 2, 3, 4, 5]\n",
    "result = recursive_sum(my_list)\n",
    "print(f\"The sum of the elements in the list is: {result}\")\n"
   ]
  },
  {
   "cell_type": "code",
   "execution_count": null,
   "id": "541823ad",
   "metadata": {},
   "outputs": [],
   "source": [
    "# Howcanyoupreventarecursive function from running indefinitely, causing a stack overflow error\n",
    "'''Preventing a recursive function from running indefinitely and causing a stack overflow error involves implementing proper termination conditions and ensuring that the input to the function converges towards the base case. Here are some tips to avoid infinite recursion:\n",
    "\n",
    "Base Case:\n",
    "\n",
    "Ensure that your recursive function has a well-defined base case. This is the condition under which the function stops calling itself and returns a result.\n",
    "Input Convergence:\n",
    "\n",
    "Make sure that the input to the recursive function is decreasing or converging towards the base case. If the input is not getting smaller with each recursive call, it can lead to infinite recursion.\n",
    "Debugging and Print Statements:\n",
    "\n",
    "Use print statements or logging to debug your recursive function. Print key variables or arguments at different stages of the recursion to understand how they change. This can help identify patterns that lead to infinite recursion.\n",
    "Test with Small Inputs:\n",
    "\n",
    "Initially, test your recursive function with small inputs to ensure it works as expected. This makes it easier to spot any issues with the recursion logic.\n",
    "Limit Recursive Depth:\n",
    "\n",
    "In some cases, you might want to limit the maximum recursion depth to prevent stack overflow. This can be done using the sys.setrecursionlimit function, but it's generally not recommended. It's better to fix the recursive function logic.'''"
   ]
  },
  {
   "cell_type": "code",
   "execution_count": 6,
   "id": "dcac6994",
   "metadata": {},
   "outputs": [
    {
     "name": "stdout",
     "output_type": "stream",
     "text": [
      "The GCD of 48 and 18 is: 6\n"
     ]
    }
   ],
   "source": [
    "# Create a recursive Python function to find the greatest common divisor (GCD) of two numbers using the Euclidean algorithm.\n",
    "def gcd(a, b):\n",
    "    # Base case\n",
    "    if b == 0:\n",
    "        return a\n",
    "    else:\n",
    "        # Recursive case\n",
    "        return gcd(b, a % b)\n",
    "\n",
    "# Example usage:\n",
    "num1 = 48\n",
    "num2 = 18\n",
    "result = gcd(num1, num2)\n",
    "print(f\"The GCD of {num1} and {num2} is: {result}\")\n"
   ]
  },
  {
   "cell_type": "code",
   "execution_count": 7,
   "id": "a946401c",
   "metadata": {},
   "outputs": [
    {
     "name": "stdout",
     "output_type": "stream",
     "text": [
      "The original string: Hello, World!\n",
      "The reversed string: !dlroW ,olleH\n"
     ]
    }
   ],
   "source": [
    "#Write arecursive Python function to reverse a string\n",
    "def reverse_string(input_str):\n",
    "    # Base case\n",
    "    if len(input_str) == 0:\n",
    "        return input_str\n",
    "    else:\n",
    "        # Recursive case\n",
    "        return input_str[-1] + reverse_string(input_str[:-1])\n",
    "\n",
    "# Example usage:\n",
    "original_str = \"Hello, World!\"\n",
    "reversed_str = reverse_string(original_str)\n",
    "print(f\"The original string: {original_str}\")\n",
    "print(f\"The reversed string: {reversed_str}\")\n"
   ]
  },
  {
   "cell_type": "code",
   "execution_count": 8,
   "id": "f54a8f56",
   "metadata": {},
   "outputs": [
    {
     "name": "stdout",
     "output_type": "stream",
     "text": [
      "2 raised to the power of 3 is: 8\n"
     ]
    }
   ],
   "source": [
    "#. Create a recursive Python function to calculate the power of a number (x^n)\n",
    "def power(x, n):\n",
    "    # Base case\n",
    "    if n == 0:\n",
    "        return 1\n",
    "    else:\n",
    "        # Recursive case\n",
    "        return x * power(x, n - 1)\n",
    "\n",
    "# Example usage:\n",
    "base = 2\n",
    "exponent = 3\n",
    "result = power(base, exponent)\n",
    "print(f\"{base} raised to the power of {exponent} is: {result}\")\n"
   ]
  },
  {
   "cell_type": "code",
   "execution_count": 9,
   "id": "90a74bb2",
   "metadata": {},
   "outputs": [
    {
     "name": "stdout",
     "output_type": "stream",
     "text": [
      "All permutations of 'abc': ['abc', 'acb', 'bac', 'bca', 'cab', 'cba']\n"
     ]
    }
   ],
   "source": [
    "# Write arecursive Python function to find all permutations of a given string.\n",
    "def get_permutations(s):\n",
    "    if len(s) == 1:\n",
    "        return [s]\n",
    "    \n",
    "    all_permutations = []\n",
    "    for i in range(len(s)):\n",
    "        first_char = s[i]\n",
    "        remaining_chars = s[:i] + s[i+1:]\n",
    "        \n",
    "        # Recursively get permutations for the remaining characters\n",
    "        remaining_permutations = get_permutations(remaining_chars)\n",
    "        \n",
    "        # Combine the first character with each permutation of the remaining characters\n",
    "        for perm in remaining_permutations:\n",
    "            all_permutations.append(first_char + perm)\n",
    "    \n",
    "    return all_permutations\n",
    "\n",
    "# Example usage:\n",
    "input_str = \"abc\"\n",
    "result = get_permutations(input_str)\n",
    "print(f\"All permutations of '{input_str}': {result}\")\n"
   ]
  },
  {
   "cell_type": "code",
   "execution_count": 10,
   "id": "eb7a34d2",
   "metadata": {},
   "outputs": [
    {
     "name": "stdout",
     "output_type": "stream",
     "text": [
      "The string 'radar' is a palindrome: True\n"
     ]
    }
   ],
   "source": [
    "# Write a recursive Python function to check if a string is a palindrome.\n",
    "def is_palindrome(s):\n",
    "    # Base case: an empty string or a single character is a palindrome\n",
    "    if len(s) <= 1:\n",
    "        return True\n",
    "    \n",
    "    # Check if the first and last characters are the same\n",
    "    if s[0] == s[-1]:\n",
    "        # Recursively check if the substring excluding the first and last characters is a palindrome\n",
    "        return is_palindrome(s[1:-1])\n",
    "    else:\n",
    "        return False\n",
    "\n",
    "# Example usage:\n",
    "input_str = \"radar\"\n",
    "result = is_palindrome(input_str)\n",
    "print(f\"The string '{input_str}' is a palindrome: {result}\")\n"
   ]
  },
  {
   "cell_type": "code",
   "execution_count": 11,
   "id": "3b67b902",
   "metadata": {},
   "outputs": [
    {
     "name": "stdout",
     "output_type": "stream",
     "text": [
      "All combinations of [1, 2, 3, 4] choose 2: [[1, 2], [1, 3], [1, 4], [2, 3], [2, 4], [3, 4]]\n"
     ]
    }
   ],
   "source": [
    "#Create a recursive Python function to generate all possible combinations of a list of elements.\n",
    "def generate_combinations(elements, k):\n",
    "    all_combinations = []\n",
    "    \n",
    "    def helper(current_combination, remaining_elements, k):\n",
    "        if k == 0:\n",
    "            all_combinations.append(current_combination)\n",
    "            return\n",
    "        \n",
    "        for i, element in enumerate(remaining_elements):\n",
    "            updated_combination = current_combination + [element]\n",
    "            updated_remaining_elements = remaining_elements[i+1:]\n",
    "            helper(updated_combination, updated_remaining_elements, k - 1)\n",
    "    \n",
    "    helper([], elements, k)\n",
    "    return all_combinations\n",
    "\n",
    "# Example usage:\n",
    "my_list = [1, 2, 3, 4]\n",
    "k = 2\n",
    "result = generate_combinations(my_list, k)\n",
    "print(f\"All combinations of {my_list} choose {k}: {result}\")\n"
   ]
  },
  {
   "cell_type": "code",
   "execution_count": 12,
   "id": "9f3188e2",
   "metadata": {},
   "outputs": [
    {
     "name": "stdout",
     "output_type": "stream",
     "text": [
      "All combinations of [1, 2, 3]: [[], [1], [1, 2], [1, 2, 3], [1, 3], [2], [2, 3], [3]]\n"
     ]
    }
   ],
   "source": [
    "#Write aPython program that defines a function to calculate the sum of two numbers and then calls the function.#\n",
    "def generate_all_combinations(elements):\n",
    "    all_combinations = []\n",
    "\n",
    "    def helper(current_combination, remaining_elements):\n",
    "        all_combinations.append(current_combination)\n",
    "\n",
    "        for i, element in enumerate(remaining_elements):\n",
    "            updated_combination = current_combination + [element]\n",
    "            updated_remaining_elements = remaining_elements[i + 1:]\n",
    "            helper(updated_combination, updated_remaining_elements)\n",
    "\n",
    "    helper([], elements)\n",
    "    return all_combinations\n",
    "\n",
    "# Example usage:\n",
    "my_list = [1, 2, 3]\n",
    "result = generate_all_combinations(my_list)\n",
    "print(f\"All combinations of {my_list}: {result}\")\n"
   ]
  },
  {
   "cell_type": "code",
   "execution_count": 14,
   "id": "1ceda481",
   "metadata": {},
   "outputs": [
    {
     "name": "stdout",
     "output_type": "stream",
     "text": [
      "Enter the first number: 45\n",
      "Enter the second number: 45\n",
      "The product of 45.0 and 45.0 is: 2025.0\n"
     ]
    }
   ],
   "source": [
    "# Create a Python function that takes two arguments and returns their product.\n",
    "def calculate_product(a, b):\n",
    "    \"\"\"Function to calculate the product of two numbers.\"\"\"\n",
    "    return a * b\n",
    "\n",
    "# Example usage:\n",
    "num1 = float(input(\"Enter the first number: \"))\n",
    "num2 = float(input(\"Enter the second number: \"))\n",
    "\n",
    "result = calculate_product(num1, num2)\n",
    "print(f\"The product of {num1} and {num2} is: {result}\")\n"
   ]
  },
  {
   "cell_type": "code",
   "execution_count": 15,
   "id": "49f26d04",
   "metadata": {},
   "outputs": [
    {
     "name": "stdout",
     "output_type": "stream",
     "text": [
      "Enter your name: samiksha\n",
      "Hello, samiksha!\n",
      "Enter a custom greeting: hiieee\n",
      "hiieee, samiksha!\n"
     ]
    }
   ],
   "source": [
    "# Write aPython program that defines a function with default argument values.\n",
    "def greet(name, greeting=\"Hello\"):\n",
    "    \"\"\"Function to greet a person with an optional custom greeting.\"\"\"\n",
    "    print(f\"{greeting}, {name}!\")\n",
    "\n",
    "# Example usage:\n",
    "user_name = input(\"Enter your name: \")\n",
    "\n",
    "# Call the function without providing a custom greeting (uses the default \"Hello\")\n",
    "greet(user_name)\n",
    "\n",
    "# Call the function with a custom greeting\n",
    "custom_greeting = input(\"Enter a custom greeting: \")\n",
    "greet(user_name, custom_greeting)\n"
   ]
  },
  {
   "cell_type": "code",
   "execution_count": 16,
   "id": "b224bf3e",
   "metadata": {},
   "outputs": [
    {
     "name": "stdout",
     "output_type": "stream",
     "text": [
      "The sum is: 15\n"
     ]
    }
   ],
   "source": [
    "# Create a Python function that accepts a variable number of arguments and calculates their sum\n",
    "def calculate_sum(*args):\n",
    "    \"\"\"Function to calculate the sum of variable arguments.\"\"\"\n",
    "    return sum(args)\n",
    "\n",
    "# Example usage:\n",
    "result = calculate_sum(1, 2, 3, 4, 5)\n",
    "print(f\"The sum is: {result}\")\n"
   ]
  },
  {
   "cell_type": "code",
   "execution_count": 17,
   "id": "f161005f",
   "metadata": {},
   "outputs": [
    {
     "name": "stdout",
     "output_type": "stream",
     "text": [
      "Global variable before modification: 10\n",
      "Inside the function: 15\n",
      "Global variable after modification: 15\n"
     ]
    }
   ],
   "source": [
    "#3. Write aPython program that demonstrates the use of global variables within functions.\n",
    "# Global variable\n",
    "global_variable = 10\n",
    "\n",
    "def modify_global_variable():\n",
    "    \"\"\"Function to modify the global variable.\"\"\"\n",
    "    global global_variable\n",
    "    global_variable += 5\n",
    "    print(\"Inside the function:\", global_variable)\n",
    "\n",
    "def main():\n",
    "    \"\"\"Main function.\"\"\"\n",
    "    print(\"Global variable before modification:\", global_variable)\n",
    "    \n",
    "    # Call the function to modify the global variable\n",
    "    modify_global_variable()\n",
    "    \n",
    "    print(\"Global variable after modification:\", global_variable)\n",
    "\n",
    "# Call the main function\n",
    "main()\n"
   ]
  },
  {
   "cell_type": "code",
   "execution_count": 18,
   "id": "6f2298d0",
   "metadata": {},
   "outputs": [
    {
     "name": "stdout",
     "output_type": "stream",
     "text": [
      "Enter a non-negative integer to calculate its factorial: 45\n",
      "The factorial of 45 is: 119622220865480194561963161495657715064383733760000000000\n"
     ]
    }
   ],
   "source": [
    "# Create a Python function that calculates the factorial of a number and returns it.\n",
    "def factorial(n):\n",
    "    \"\"\"Calculate the factorial of a number.\"\"\"\n",
    "    if n == 0 or n == 1:\n",
    "        return 1\n",
    "    else:\n",
    "        return n * factorial(n - 1)\n",
    "\n",
    "# Example usage:\n",
    "number = int(input(\"Enter a non-negative integer to calculate its factorial: \"))\n",
    "\n",
    "result = factorial(number)\n",
    "print(f\"The factorial of {number} is: {result}\")\n"
   ]
  },
  {
   "cell_type": "code",
   "execution_count": 19,
   "id": "e1d850cf",
   "metadata": {},
   "outputs": [
    {
     "name": "stdout",
     "output_type": "stream",
     "text": [
      "Original list of tuples: [(1, 5), (3, 2), (8, 9), (4, 7), (6, 1)]\n",
      "Sorted list based on the second element: [(6, 1), (3, 2), (1, 5), (4, 7), (8, 9)]\n"
     ]
    }
   ],
   "source": [
    "#Write aPython program that uses lambda functions to sort a list of tuples based on the second element\n",
    "# List of tuples\n",
    "list_of_tuples = [(1, 5), (3, 2), (8, 9), (4, 7), (6, 1)]\n",
    "\n",
    "# Sorting the list based on the second element of each tuple\n",
    "sorted_list = sorted(list_of_tuples, key=lambda x: x[1])\n",
    "\n",
    "# Displaying the sorted list\n",
    "print(\"Original list of tuples:\", list_of_tuples)\n",
    "print(\"Sorted list based on the second element:\", sorted_list)\n"
   ]
  },
  {
   "cell_type": "code",
   "execution_count": 21,
   "id": "f4dfbcdb",
   "metadata": {},
   "outputs": [
    {
     "name": "stdout",
     "output_type": "stream",
     "text": [
      "1\n",
      "2\n",
      "3\n",
      "4\n",
      "5\n",
      "6\n",
      "7\n",
      "8\n",
      "None\n"
     ]
    }
   ],
   "source": [
    "# Create a Python function that takes a list of numbers and a function as arguments, applying the function to each element in the list.\n",
    "def func(list1):\n",
    "    for i in list1:\n",
    "        print(i)\n",
    "        \n",
    "list1=[1,2,3,4,5,6,7,8]\n",
    "print(func(list1))"
   ]
  },
  {
   "cell_type": "code",
   "execution_count": 24,
   "id": "abe837c0",
   "metadata": {},
   "outputs": [
    {
     "name": "stdout",
     "output_type": "stream",
     "text": [
      "Original list: [1, 2, 3, 4, 5]\n",
      "After applying square function using map(): [1, 4, 9, 16, 25]\n"
     ]
    }
   ],
   "source": [
    "# Write aPython program that uses the `map()` function to apply a function to each element of a list.\n",
    "def square(x):\n",
    "    return x ** 2\n",
    "\n",
    "# List of numbers\n",
    "numbers = [1, 2, 3, 4, 5]\n",
    "\n",
    "# Using map() to apply the square function to each element in the list\n",
    "result_square = list(map(square, numbers))\n",
    "\n",
    "# Displaying the original list and the result after applying the function\n",
    "print(\"Original list:\", numbers)\n",
    "print(\"After applying square function using map():\", result_square)\n"
   ]
  },
  {
   "cell_type": "code",
   "execution_count": 25,
   "id": "54ee69b6",
   "metadata": {},
   "outputs": [
    {
     "name": "stdout",
     "output_type": "stream",
     "text": [
      "Original list: [2, 3, 4, 5]\n",
      "Product of all elements using reduce(): 120\n"
     ]
    }
   ],
   "source": [
    "#Create a Python program that uses the `reduce()` function to find the product of all elements ina list.\n",
    "from functools import reduce\n",
    "\n",
    "# List of numbers\n",
    "numbers = [2, 3, 4, 5]\n",
    "\n",
    "# Define a function to calculate the product of two numbers\n",
    "def multiply(x, y):\n",
    "    return x * y\n",
    "\n",
    "# Use reduce() to find the product of all elements in the list\n",
    "product = reduce(multiply, numbers)\n",
    "\n",
    "# Displaying the original list and the product\n",
    "print(\"Original list:\", numbers)\n",
    "print(\"Product of all elements using reduce():\", product)\n"
   ]
  },
  {
   "cell_type": "code",
   "execution_count": null,
   "id": "db9fb3b5",
   "metadata": {},
   "outputs": [],
   "source": [
    "#2. Describe some best practices for naming functions and variables in Python, including naming conventions and guidelines.\n",
    "'''If you have a calculate_sum function, don't use add for a similar function.\n",
    "Variables:\n",
    "Use Descriptive Names:\n",
    "\n",
    "Similar to functions, choose variable names that convey the purpose of the variable.\n",
    "Avoid generic names like temp or foo.\n",
    "Follow Snake Case:\n",
    "\n",
    "Use lowercase letters with underscores to separate words (snake_case).\n",
    "Example: total_amount, user_input.\n",
    "Be Explicit:\n",
    "\n",
    "Choose names that are explicit about the data or information stored in the variable.\n",
    "Instead of data, use user_data or employee_records.\n",
    "Avoid Acronyms and Single-Letter Names:\n",
    "\n",
    "If an acronym is used, make sure it's well-known or defined in comments.\n",
    "Exception: Single-letter names can be used in short-lived situations (e.g., loop counters).\n",
    "Use Plural for Collections:\n",
    "\n",
    "When a variable represents a collection or sequence, use a plural form.\n",
    "Example: users, items.\n",
    "General Best Practices:\n",
    "Avoid Ambiguity:\n",
    "\n",
    "Names should be unambiguous, reducing the chances of misinterpretation.\n",
    "Clearly distinguish between variables and functions.\n",
    "Follow PEP 8:\n",
    "\n",
    "PEP 8 is the style guide for Python code. It provides conventions for writing clean, readable code.\n",
    "Follow PEP 8 for consistent and Pythonic naming.\n",
    "Use Meaningful Prefixes:\n",
    "\n",
    "In some cases, prefixes like is_ for boolean variables or get_ for getter methods can improve clarity.\n",
    "Consider Context:\n",
    "\n",
    "Be mindful of the context in which the code is written.\n",
    "Adjust naming conventions if the codebase has a prevailing style.\n",
    "Document Unusual Names:\n",
    "\n",
    "If you use unconventional names or abbreviations, provide comments or documentation to explain them.\n",
    "Remember, the key is to strike a balance between brevity and descriptiveness. Well-chosen names enhance code readability and maintainability. Always aim for code that is easy for others (and your future self) to understand.'''"
   ]
  }
 ],
 "metadata": {
  "kernelspec": {
   "display_name": "Python 3 (ipykernel)",
   "language": "python",
   "name": "python3"
  },
  "language_info": {
   "codemirror_mode": {
    "name": "ipython",
    "version": 3
   },
   "file_extension": ".py",
   "mimetype": "text/x-python",
   "name": "python",
   "nbconvert_exporter": "python",
   "pygments_lexer": "ipython3",
   "version": "3.11.5"
  }
 },
 "nbformat": 4,
 "nbformat_minor": 5
}
