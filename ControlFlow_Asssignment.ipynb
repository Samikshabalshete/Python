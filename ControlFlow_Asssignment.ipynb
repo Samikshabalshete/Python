{
 "cells": [
  {
   "cell_type": "markdown",
   "id": "98b80796",
   "metadata": {},
   "source": [
    "# Basic If-Else Statements"
   ]
  },
  {
   "cell_type": "code",
   "execution_count": 1,
   "id": "b7881277",
   "metadata": {},
   "outputs": [
    {
     "name": "stdout",
     "output_type": "stream",
     "text": [
      "enter the number :54\n",
      "Entered number is positive\n"
     ]
    }
   ],
   "source": [
    " #1. Write a Python program to check if a given number is positive or negative\n",
    "n = int(input(\"enter the number :\"))\n",
    "if n<0:\n",
    "    print(\"Entered number is negative\")\n",
    "else:\n",
    "    print(\"Entered number is positive\")"
   ]
  },
  {
   "cell_type": "code",
   "execution_count": 2,
   "id": "dc27272c",
   "metadata": {},
   "outputs": [
    {
     "name": "stdout",
     "output_type": "stream",
     "text": [
      "enter your age :12\n",
      "You are not eligible to vote\n"
     ]
    }
   ],
   "source": [
    "#2. Create a program that determines if a person is eligible to vote based on their age.\n",
    "age = int(input(\"enter your age :\"))\n",
    "if age>=18:\n",
    "    print(\"You are eligible to vote\")\n",
    "else:\n",
    "    print(\"You are not eligible to vote\")"
   ]
  },
  {
   "cell_type": "code",
   "execution_count": 3,
   "id": "2d182d1a",
   "metadata": {},
   "outputs": [
    {
     "name": "stdout",
     "output_type": "stream",
     "text": [
      "Enter the 1st no : 12\n",
      "Enter the 2nd no : 21\n",
      "2nd number is max\n"
     ]
    }
   ],
   "source": [
    "#3. Develop a program to find the maximum of two numbers using if-else statements.\n",
    "a =int(input(\"Enter the 1st no : \"))\n",
    "b =int(input(\"Enter the 2nd no : \"))\n",
    "if a>b:\n",
    "    print(\"1st number is max\")\n",
    "else:\n",
    "    print(\"2nd number is max\")"
   ]
  },
  {
   "cell_type": "code",
   "execution_count": 4,
   "id": "42357937",
   "metadata": {},
   "outputs": [
    {
     "name": "stdout",
     "output_type": "stream",
     "text": [
      "Enter a year: 2025\n",
      "2025 is not a leap year.\n"
     ]
    }
   ],
   "source": [
    "#4. Write a Python script to classify a given year as a leap year or not.\n",
    " \n",
    "def is_leap_year(year):\n",
    "    #\"\"\"Returns True if the given year is a leap year, False otherwise.\"\"\"\n",
    "    if year % 4 == 0:\n",
    "        if year % 100 == 0:\n",
    "            if year % 400 == 0:\n",
    "                return True\n",
    "            else :\n",
    "                return False\n",
    "        else:\n",
    "            return True\n",
    "    else:\n",
    "        return False\n",
    "    \n",
    "def main():\n",
    "      # \" \"\"Prompts the user for a year and prints whether it is a leap year or not.\"\"\"\n",
    "    year = int(input(\"Enter a year: \"))\n",
    "    if is_leap_year(year):\n",
    "        print(f\"{year} is a leap year.\")\n",
    "    else:\n",
    "        print(f\"{year} is not a leap year.\")\n",
    "\n",
    "main()\n",
    "\n"
   ]
  },
  {
   "cell_type": "code",
   "execution_count": 5,
   "id": "830ff935",
   "metadata": {},
   "outputs": [
    {
     "name": "stdout",
     "output_type": "stream",
     "text": [
      "Enter a Charactera\n",
      "character is vowel\n"
     ]
    }
   ],
   "source": [
    "# Create a program that checks whether a character is a vowel or a consonant.\n",
    "char = ['a','e','i','o','u','A', 'E','I','O','U']\n",
    "n = input(\"Enter a Character\")\n",
    "if n in char:\n",
    "    print(\"character is vowel\")\n",
    "else:\n",
    "    print(\"Character is constant\")"
   ]
  },
  {
   "cell_type": "code",
   "execution_count": 6,
   "id": "e3b20cba",
   "metadata": {},
   "outputs": [
    {
     "name": "stdout",
     "output_type": "stream",
     "text": [
      "Enter a number25\n",
      "Number is odd\n"
     ]
    }
   ],
   "source": [
    "#6. Implement a program to determine whether a given number is even or odd.\n",
    "n = int(input(\"Enter a number\"))\n",
    "if n%2==0 :\n",
    "    print(\"Number is even\")\n",
    "else:\n",
    "    print(\"Number is odd\")"
   ]
  },
  {
   "cell_type": "code",
   "execution_count": 7,
   "id": "29f5169a",
   "metadata": {},
   "outputs": [
    {
     "name": "stdout",
     "output_type": "stream",
     "text": [
      "Enter a number-52\n",
      "52\n"
     ]
    }
   ],
   "source": [
    "#7.Write a Python function to calculate the absolute value of a number without using the `abs()` function\n",
    "\n",
    "def absoulte(n):\n",
    "    if n < 0:\n",
    "        return n * -1\n",
    "    else:\n",
    "        return n * 1\n",
    "    \n",
    "n=int(input(\"Enter a number\"))\n",
    "print(absoulte(n))\n",
    "    "
   ]
  },
  {
   "cell_type": "code",
   "execution_count": 8,
   "id": "2a2df245",
   "metadata": {},
   "outputs": [
    {
     "name": "stdout",
     "output_type": "stream",
     "text": [
      "Enter 1st number52\n",
      "Enter 2nd number12\n",
      "Enter 3rd number65\n",
      "3rd number is largest \n"
     ]
    }
   ],
   "source": [
    "#8. Develop a program that determines the largest of three given numbers using if-else statements.\n",
    "n1=int(input(\"Enter 1st number\"))\n",
    "n2=int(input(\"Enter 2nd number\"))\n",
    "n3=int(input(\"Enter 3rd number\"))\n",
    "if n1>n2 and n1>n3:\n",
    "    print(\"1st number is largest \")\n",
    "elif n2>n1 and n2>n3:\n",
    "    print(\"2nd number is largest\")\n",
    "else:\n",
    "    print(\"3rd number is largest \")"
   ]
  },
  {
   "cell_type": "code",
   "execution_count": 9,
   "id": "9762aba6",
   "metadata": {},
   "outputs": [
    {
     "name": "stdout",
     "output_type": "stream",
     "text": [
      "Enter a stringabcba\n",
      "String is palindrome\n"
     ]
    }
   ],
   "source": [
    "#9.Create a program that checks if a given string is a palindrome.\n",
    "n = input(\"Enter a string\")\n",
    "if n == n[::-1]:\n",
    "    print(\"String is palindrome\")\n",
    "else:\n",
    "    print(\"String is not plaindrome\")"
   ]
  },
  {
   "cell_type": "code",
   "execution_count": 11,
   "id": "3a13d713",
   "metadata": {},
   "outputs": [
    {
     "name": "stdout",
     "output_type": "stream",
     "text": [
      "Enter score :87\n",
      "grade is A\n"
     ]
    }
   ],
   "source": [
    "#10. Write a Python program to calculate the grade based on a student's score.\n",
    "n = int(input(\"Enter score :\"))\n",
    "if n>=90:\n",
    "    print(\"grade is A+\")\n",
    "elif 90>n>80:\n",
    "    print(\"grade is A\")\n",
    "elif 80>n>70:\n",
    "    print(\"grade is B\")\n",
    "elif 70>n>60:\n",
    "    print(\"grade is c\")\n",
    "elif 60>n>50:\n",
    "    print(\"grade is D\")\n",
    "else:\n",
    "    print(\"You failed\")\n"
   ]
  },
  {
   "cell_type": "markdown",
   "id": "e1004a4a",
   "metadata": {},
   "source": [
    "# Nested If-Else Statements"
   ]
  },
  {
   "cell_type": "code",
   "execution_count": 11,
   "id": "0c22ac03",
   "metadata": {},
   "outputs": [
    {
     "name": "stdout",
     "output_type": "stream",
     "text": [
      "Enter 1st number45\n",
      "Enter 2nd number64\n",
      "Enter 3rd number54\n",
      "2nd number is largest\n"
     ]
    }
   ],
   "source": [
    "#Write a program to find the largest among three numbers using nested if-else statements.\n",
    "n1=int(input(\"Enter 1st number\"))\n",
    "n2=int(input(\"Enter 2nd number\"))\n",
    "n3=int(input(\"Enter 3rd number\"))\n",
    "if n1>n2 and n1>n3:\n",
    "    print(\"1st number is largest \")\n",
    "elif n2>n1 and n2>n3:\n",
    "    print(\"2nd number is largest\")\n",
    "else:\n",
    "    print(\"3rd number is largest \")"
   ]
  },
  {
   "cell_type": "code",
   "execution_count": 12,
   "id": "049e93d9",
   "metadata": {},
   "outputs": [
    {
     "name": "stdout",
     "output_type": "stream",
     "text": [
      "It is scalene traingle\n"
     ]
    }
   ],
   "source": [
    "#12.. Implement a program to determine if a triangle is equilateral, isosceles, or scalene\n",
    "def triangle(s1, s2, s3):\n",
    "    if s1==s2==s3:\n",
    "        print(\"It is equilateral traingle\")\n",
    "    elif s1==s2 or s2==s3 or s1==s3:\n",
    "        print(\"It is isosceles triangle\")\n",
    "    else:\n",
    "        print(\"It is scalene traingle\")\n",
    "        \n",
    "triangle(25,32,23)\n",
    "        "
   ]
  },
  {
   "cell_type": "code",
   "execution_count": 13,
   "id": "5ba6e3bb",
   "metadata": {},
   "outputs": [
    {
     "name": "stdout",
     "output_type": "stream",
     "text": [
      "It is not Leap year\n",
      "It is not Century year\n"
     ]
    }
   ],
   "source": [
    "#.13.Develop a program that checks if a year is a leap year and also if it is a century year.\n",
    "def check_leap_century(year):\n",
    "    if year%4==0:\n",
    "            \n",
    "        if year%100==0:\n",
    "            if year%400==0:\n",
    "                print(\"It is Leap year\")\n",
    "            else:\n",
    "                print(\"It is not Leap year\")\n",
    "        else:\n",
    "            print(\"It is Leap year\")\n",
    "    else:\n",
    "        print(\"It is not Leap year\")\n",
    "        \n",
    "        \n",
    "    if year%100 == 0:\n",
    "        print(\"It is Century year\")\n",
    "    else:\n",
    "        print(\"It is not Century year\")\n",
    "        \n",
    "        \n",
    "        \n",
    "check_leap_century(3031)      \n",
    "        \n",
    "                    \n",
    "                \n",
    "            \n",
    "        \n",
    "            "
   ]
  },
  {
   "cell_type": "code",
   "execution_count": 14,
   "id": "224260b5",
   "metadata": {},
   "outputs": [
    {
     "name": "stdout",
     "output_type": "stream",
     "text": [
      "Enter a number0\n",
      "Zero number\n"
     ]
    }
   ],
   "source": [
    "# 14.Write a Python script to determine if a number is positive, negative, or zero.\n",
    "n= int(input(\"Enter a number\"))\n",
    "if n>0:\n",
    "    print(\"Number is positive\")\n",
    "elif n<0:\n",
    "    print(\"Number is negative\")\n",
    "else:\n",
    "    print(\"Zero number\")"
   ]
  },
  {
   "cell_type": "code",
   "execution_count": 15,
   "id": "ef81775e",
   "metadata": {},
   "outputs": [
    {
     "name": "stdout",
     "output_type": "stream",
     "text": [
      "Enter the person's age13\n",
      "You are child\n"
     ]
    }
   ],
   "source": [
    "# 15.Create a program to check if a person is a teenager (between 13 and 19 years old).\n",
    "age = int(input(\"Enter the person's age\"))\n",
    "if age>19:\n",
    "    print(\"You are adult\")\n",
    "elif 19>age>13:\n",
    "    print(\"you are teenager\")\n",
    "else:\n",
    "    print(\"You are child\")"
   ]
  },
  {
   "cell_type": "code",
   "execution_count": 16,
   "id": "95e1c48a",
   "metadata": {},
   "outputs": [
    {
     "name": "stdout",
     "output_type": "stream",
     "text": [
      "It is obtuse angle\n"
     ]
    }
   ],
   "source": [
    "#16. Develop a program that determines the type of angle based on its measure (acute, obtuse, or right).\n",
    "def type(angle):\n",
    "    if angle==90:\n",
    "        print(\"It is a right angle\")\n",
    "    elif angle<90:\n",
    "        print(\"It is a acute angle\")\n",
    "    else :\n",
    "        print(\"It is obtuse angle\")\n",
    "        \n",
    "type(180)"
   ]
  },
  {
   "cell_type": "code",
   "execution_count": 17,
   "id": "5aff733c",
   "metadata": {},
   "outputs": [
    {
     "name": "stdout",
     "output_type": "stream",
     "text": [
      "Enter a:52\n",
      "Enter b:12\n",
      "Enter c:45\n",
      "Complex Roots\n",
      "-0.11538461538461539  + i 96.0\n",
      "-0.11538461538461539  - i 96.0\n"
     ]
    }
   ],
   "source": [
    "#17.Write a Python program to calculate the roots of a quadratic equation.\n",
    "# Python program to find roots of quadratic equation  \n",
    "import math  \n",
    "  \n",
    "#function for finding roots  \n",
    "def findRoots(a, b, c):  \n",
    "  \n",
    "    dis_form = b * b - 4 * a * c  \n",
    "    sqrt_val = math.sqrt(abs(dis_form))  \n",
    "  \n",
    "  \n",
    "    if dis_form > 0:  \n",
    "        print(\" real and different roots \")  \n",
    "        print((-b + sqrt_val) / (2 * a))  \n",
    "        print((-b - sqrt_val) / (2 * a))  \n",
    "  \n",
    "    elif dis_form == 0:  \n",
    "        print(\" real and same roots\")  \n",
    "        print(-b / (2 * a))  \n",
    "  \n",
    "  \n",
    "    else:  \n",
    "        print(\"Complex Roots\")  \n",
    "        print(- b / (2 * a), \" + i\", sqrt_val)  \n",
    "        print(- b / (2 * a), \" - i\", sqrt_val)  \n",
    "  \n",
    "  \n",
    "a = int(input('Enter a:'))  \n",
    "b = int(input('Enter b:'))  \n",
    "c = int(input('Enter c:'))  \n",
    "  \n",
    "# If a is 0, then incorrect equation  \n",
    "if a == 0:  \n",
    "    print(\"Input correct quadratic equation\") \n",
    "else:  \n",
    "    findRoots(a, b, c)  "
   ]
  },
  {
   "cell_type": "code",
   "execution_count": 21,
   "id": "a8d435c4",
   "metadata": {},
   "outputs": [
    {
     "name": "stdout",
     "output_type": "stream",
     "text": [
      "Provide a number for day 5\n",
      "It is Friday\n"
     ]
    }
   ],
   "source": [
    " #18.Implement a program to determine the day of the week based on a user-provided number (1 for Monday, 2 or Tuesday, etc.).\n",
    "n = int(input(\"Provide a number for day \"))\n",
    "if n==1:\n",
    "    print(\"It is monday\")\n",
    "elif n==2:\n",
    "    print(\"It is Tuesday\")\n",
    "elif n==3:\n",
    "    print(\"It is Wednesday\")\n",
    "elif n==4:\n",
    "    print(\"It is Thursday\")\n",
    "elif n==5:\n",
    "    print(\"It is Friday\")\n",
    "elif n==6:\n",
    "    print(\"It is Saturday\")\n",
    "else:\n",
    "    print(\"It is Sunday\")"
   ]
  },
  {
   "cell_type": "code",
   "execution_count": 27,
   "id": "3c249eca",
   "metadata": {},
   "outputs": [
    {
     "name": "stdout",
     "output_type": "stream",
     "text": [
      "Enter a year4521\n",
      "It is not leap year\n",
      "It is not divisible by 400\n"
     ]
    }
   ],
   "source": [
    "#19.Create a program that determines if a year is a leap year and also if it is evenly divisible by 400.\n",
    "#function to create leap year\n",
    "def is_leap(year):\n",
    "    return (year%4==0 and (year%100 !=0 or year%400 == 0))\n",
    "def even_divisible(year):\n",
    "    return year%400==0\n",
    "\n",
    "def main(leap):\n",
    "    if is_leap(year):\n",
    "        print(\"It is leap year\")\n",
    "    else:\n",
    "        print(\"It is not leap year\")\n",
    "    if even_divisible(year):\n",
    "        print(\"IT is divisible by 400\")\n",
    "    else:\n",
    "        print(\"It is not divisible by 400\")\n",
    "        \n",
    "        \n",
    "year= int(input(\"Enter a year\")) \n",
    "main(year)"
   ]
  },
  {
   "cell_type": "code",
   "execution_count": 29,
   "id": "79829a82",
   "metadata": {},
   "outputs": [
    {
     "name": "stdout",
     "output_type": "stream",
     "text": [
      "Enter a number: 78\n",
      "78 is not a prime number.\n"
     ]
    }
   ],
   "source": [
    "#20.Develop a program that checks if a given number is prime or not using nested if-else statements\n",
    "def is_prime(n):\n",
    "    if n <= 1:\n",
    "        return False\n",
    "    for i in range(2, int(n**0.5) + 1):\n",
    "        if n % i == 0:\n",
    "            return False\n",
    "    return True\n",
    "\n",
    "number = int(input(\"Enter a number: \"))\n",
    "if is_prime(number):\n",
    "    print(number, \"is a prime number.\")\n",
    "else:\n",
    "    print(number, \"is not a prime number.\")"
   ]
  },
  {
   "cell_type": "markdown",
   "id": "a611d0f2",
   "metadata": {},
   "source": [
    "# Elif statements"
   ]
  },
  {
   "cell_type": "code",
   "execution_count": 31,
   "id": "c3ba1857",
   "metadata": {},
   "outputs": [
    {
     "name": "stdout",
     "output_type": "stream",
     "text": [
      "Enter a score56\n",
      "C Grade\n"
     ]
    }
   ],
   "source": [
    "#21.Write a Python program to assign grades based on different ranges of scores using elif statements.\n",
    "n = int(input(\"Enter a score\"))\n",
    "if n>=90:\n",
    "    print(\"A+ Grade\")\n",
    "elif 90>n>80:\n",
    "    print(\"A Grade\")\n",
    "elif 80>n>70:\n",
    "    print(\"B+ Grade\")\n",
    "elif 70>n>60:\n",
    "    print(\"B+ Grade\")\n",
    "elif 60>n>50:\n",
    "    print(\"C Grade\")\n",
    "elif 50>n>40 :\n",
    "    print(\"D grade\")\n",
    "else: \n",
    "    print(\"You failed....!\")\n"
   ]
  },
  {
   "cell_type": "code",
   "execution_count": 32,
   "id": "e68d0612",
   "metadata": {},
   "outputs": [
    {
     "name": "stdout",
     "output_type": "stream",
     "text": [
      "It is obtuse angle\n"
     ]
    }
   ],
   "source": [
    "#22.Implement a program to determine the type of a triangle based on its angles.\n",
    "def type(angle):\n",
    "    if angle==90:\n",
    "        print(\"It is a right angle\")\n",
    "    elif angle<90:\n",
    "        print(\"It is a acute angle\")\n",
    "    else :\n",
    "        print(\"It is obtuse angle\")\n",
    "        \n",
    "type(180)"
   ]
  },
  {
   "cell_type": "code",
   "execution_count": 33,
   "id": "7f0146e8",
   "metadata": {},
   "outputs": [
    {
     "name": "stdout",
     "output_type": "stream",
     "text": [
      "Enter your height in meters: 45\n",
      "Enter your weight in kg: 28\n",
      "Welcome to the BMI calculator.\n",
      "Your BMI is:  0.01\n",
      "You are underweight.\n"
     ]
    }
   ],
   "source": [
    "# 23.Develop a program to categorize a given person's BMI into underweight, normal, overweight, or obese using elif statements.\n",
    "#Simple BMI calculator using python\n",
    "\n",
    "def bodymassindex(height, weight):\n",
    "    return round((weight / height**2),2)\n",
    "\n",
    "\n",
    "h = float(input(\"Enter your height in meters: \"))\n",
    "w = float(input(\"Enter your weight in kg: \"))\n",
    "\n",
    "\n",
    "print(\"Welcome to the BMI calculator.\")\n",
    "\n",
    "bmi = bodymassindex(h, w)\n",
    "print(\"Your BMI is: \", bmi)\n",
    "\n",
    "\n",
    "if bmi <= 18.5:\n",
    "    print(\"You are underweight.\")\n",
    "elif 18.5 < bmi <= 24.9:\n",
    "    print(\"Your weight is normal.\")\n",
    "elif 25 < bmi <= 29.29:\n",
    "    print(\"You are overweight.\")\n",
    "else:\n",
    "    print(\"You are obese.\")"
   ]
  },
  {
   "cell_type": "code",
   "execution_count": 34,
   "id": "853d0da0",
   "metadata": {},
   "outputs": [
    {
     "name": "stdout",
     "output_type": "stream",
     "text": [
      "Enter a number52\n",
      "Number is positive\n"
     ]
    }
   ],
   "source": [
    "#24.Create a program that determines whether a given number is positive, negative, or zero using elif statements.\n",
    "n= int(input(\"Enter a number\"))\n",
    "if n>0:\n",
    "    print(\"Number is positive\")\n",
    "elif n<0:\n",
    "    print(\"Number is negative\")\n",
    "else:\n",
    "    print(\"Zero number\")"
   ]
  },
  {
   "cell_type": "code",
   "execution_count": 35,
   "id": "3081324e",
   "metadata": {},
   "outputs": [
    {
     "name": "stdout",
     "output_type": "stream",
     "text": [
      "Enter a characterSamiksha\n",
      "Char is special\n"
     ]
    }
   ],
   "source": [
    "#25. Write a Python script to determine the type of a character (uppercase, lowercase, or special) using elif statements.\n",
    "char = input(\"Enter a character\")\n",
    "if char.isupper():\n",
    "    print(\"char is uppercase\")\n",
    "elif char.islower():\n",
    "    print(\"char is lowercase\")\n",
    "else:\n",
    "    print(\"Char is special\")\n",
    "    "
   ]
  },
  {
   "cell_type": "code",
   "execution_count": 36,
   "id": "c958c3dc",
   "metadata": {},
   "outputs": [
    {
     "name": "stdout",
     "output_type": "stream",
     "text": [
      "Enter the purchase amount: 10000\n",
      "The discounted price is: 9000.0\n"
     ]
    }
   ],
   "source": [
    "#26.Implement a program to calculate the discounted price based on different purchase amounts using elif statements.\n",
    "# Define the purchase amount.\n",
    "purchase_amount = float(input(\"Enter the purchase amount: \"))\n",
    "\n",
    "# Calculate the discount based on the purchase amount.\n",
    "if purchase_amount >= 1000:\n",
    "    discount = purchase_amount * 0.10\n",
    "elif purchase_amount >= 500:\n",
    "    discount = purchase_amount * 0.05\n",
    "elif purchase_amount >= 200:\n",
    "    discount = purchase_amount * 0.02\n",
    "else:\n",
    "    discount = 0\n",
    "\n",
    "# Calculate the discounted price.\n",
    "discounted_price = purchase_amount - discount\n",
    "\n",
    "# Print the discounted price.\n",
    "print(\"The discounted price is:\", discounted_price)"
   ]
  },
  {
   "cell_type": "code",
   "execution_count": 40,
   "id": "3869cba9",
   "metadata": {},
   "outputs": [
    {
     "name": "stdout",
     "output_type": "stream",
     "text": [
      "please enter the number of units you consumed in a month10000\n",
      "\n",
      "Electicity bill=1500.00\n"
     ]
    }
   ],
   "source": [
    "#27.Develop a program to calculate the electricity bill based on different consumption slabs using elif statements.\n",
    "'''\n",
    "1 - 100 unit - 1.5/= \n",
    "101-200 unit - 2.5/= \n",
    "201-300 unit - 4/= \n",
    "300 - 350 unit - 5/=\n",
    "above 300 - fixed charge 1500/=\n",
    "\n",
    "this program can explain as follows\n",
    "\n",
    "Declare total unit consumed by the customer using the variable unit.\n",
    "If the unit consumed less or equal to 100 units, calculates the total amount of consumed =units*1.5\n",
    "If the unit consumed between 100 to 200 units, calculates the total amount of consumed=(100*1.5)+(unit-100)*2.5)\n",
    "If  unit consumed between 200 to 300 units ,calculates total amount ofconsumed=(100*1.5)+(200-100)*2.5+(units-200)*4\n",
    "If unit consumed between 300-350 units ,calculates total amount of consumed=(100*1.5)+(200-100)*2.5+(300-200)*4+(units-350)*5\n",
    "If the unit consumed above 350 units, fixed charge – 1500/=\n",
    " \n",
    "\n",
    "additional charges\n",
    "if units<=100 – 25.00\n",
    "if 100< units and units<=200 – 50.00\n",
    "if 200 < units and units<=300 – 75.00\n",
    "if 300<units and units<=350 – 100.00\n",
    "if units above 350 – No additional charges\n",
    "'''\n",
    "\n",
    "#program for calculating electricity bill in Python\n",
    "units=int(input(\"please enter the number of units you consumed in a month\"))\n",
    "if(units<=100):\n",
    "    payAmount=units*1.5\n",
    "    fixedcharge=25.00\n",
    "elif(units<=200):\n",
    "    payAmount=(100*1.5)+(units-100)*2.5\n",
    "    fixedcharge=50.00\n",
    "elif(units<=300):\n",
    "    payAmount=(100*1.5)+(200-100)*2.5+(units-200)*4\n",
    "    fixedcharge=75.00\n",
    "elif(units<=350):\n",
    "    payAmount=(100*1.5)+(200-100)*2.5+(300-200)*4+(units-300)*5\n",
    "    fixedcharge=100.00\n",
    "else:\n",
    "    payAmount=0\n",
    "    fixedcharge=1500.00\n",
    "Total=payAmount+fixedcharge;\n",
    "print(\"\\nElecticity bill=%.2f\" %Total)"
   ]
  },
  {
   "cell_type": "code",
   "execution_count": 1,
   "id": "0bcf8706",
   "metadata": {},
   "outputs": [
    {
     "name": "stdout",
     "output_type": "stream",
     "text": [
      "The quadrilateral is a rectangle.\n"
     ]
    }
   ],
   "source": [
    "#28.Create a program to determine the type of quadrilateral based on its angles and sides using elif statements.\n",
    "def determine_quadrilateral_type(a, b, c, d, A, B, C, D):\n",
    "    # Check if the angles and sides are valid\n",
    "    if A + B + C + D == 360 and a + b + c + d > 0:\n",
    "        # Check for different types of quadrilaterals\n",
    "        if A == B == C == D == 90:\n",
    "            print(\"The quadrilateral is a rectangle.\")\n",
    "        elif A == C == 90 or B == D == 90:\n",
    "            print(\"The quadrilateral is a parallelogram.\")\n",
    "        elif A == B == C == D:\n",
    "            print(\"The quadrilateral is a rhombus.\")\n",
    "        elif A == C and B == D:\n",
    "            print(\"The quadrilateral is a kite.\")\n",
    "        else:\n",
    "            print(\"The quadrilateral is a general quadrilateral.\")\n",
    "    else:\n",
    "        print(\"Invalid input: The angles should add up to 360, and sides should be positive.\")\n",
    "\n",
    "# Example usage\n",
    "a = 4\n",
    "b = 4\n",
    "c = 5\n",
    "d = 5\n",
    "A = 90\n",
    "B = 90\n",
    "C = 90\n",
    "D = 90\n",
    "\n",
    "determine_quadrilateral_type(a, b, c, d, A, B, C, D)\n"
   ]
  },
  {
   "cell_type": "code",
   "execution_count": 6,
   "id": "f9bc1482",
   "metadata": {},
   "outputs": [
    {
     "name": "stdout",
     "output_type": "stream",
     "text": [
      "Enyter month : march\n",
      "Summmer\n"
     ]
    }
   ],
   "source": [
    "#29.Write a Python script to determine the season based on a user-provided month using elif statements.\n",
    "def det_season(month):\n",
    "    month = month.lower()\n",
    "    if month in {'december', 'january', 'novenmber', 'october'}:\n",
    "        print(\"Winter\")\n",
    "    elif month in {'march', 'february', 'april', 'may'}:\n",
    "        print(\"Summmer\")\n",
    "    elif month in {'june', 'july', 'august', 'september'}:\n",
    "        print(\"Monsoon\")\n",
    "    else:\n",
    "        print(\"Provide valid month\")\n",
    "        \n",
    "n = input(\"Enyter month : \")\n",
    "det_season(n)"
   ]
  },
  {
   "cell_type": "code",
   "execution_count": 7,
   "id": "d743b515",
   "metadata": {},
   "outputs": [
    {
     "name": "stdout",
     "output_type": "stream",
     "text": [
      "Enter a year: 2025\n",
      "Enter a month (1-12): 6\n",
      "The year 2025 is a common year.\n",
      "The month 6 has 30 days.\n"
     ]
    }
   ],
   "source": [
    "#30 Implement a program to determine the type of a year (leap or common) and month (30 or 31 days) using elif statements\n",
    "def is_leap_year(year):\n",
    "    # Leap years are divisible by 4, but not divisible by 100 unless also divisible by 400\n",
    "    return (year % 4 == 0 and year % 100 != 0) or (year % 400 == 0)\n",
    "\n",
    "def determine_days_in_month(month, year):\n",
    "    # Check for months with 30 days\n",
    "    if month in {4, 6, 9, 11}:\n",
    "        days_in_month = 30\n",
    "    # Check for February\n",
    "    elif month == 2:\n",
    "        # Determine the number of days based on whether it's a leap year or not\n",
    "        days_in_month = 29 if is_leap_year(year) else 28\n",
    "    # For other months with 31 days\n",
    "    elif month in {1, 3, 5, 7, 8, 10, 12}:\n",
    "        days_in_month = 31\n",
    "    else:\n",
    "        days_in_month = None  # Invalid month\n",
    "\n",
    "    return days_in_month\n",
    "\n",
    "# Get user input for the year and month\n",
    "user_year = int(input(\"Enter a year: \"))\n",
    "user_month = int(input(\"Enter a month (1-12): \"))\n",
    "\n",
    "# Determine and display the type of year and days in the month\n",
    "leap_year_status = \"leap\" if is_leap_year(user_year) else \"common\"\n",
    "days_in_month_result = determine_days_in_month(user_month, user_year)\n",
    "\n",
    "if days_in_month_result is not None:\n",
    "    print(f\"The year {user_year} is a {leap_year_status} year.\")\n",
    "    print(f\"The month {user_month} has {days_in_month_result} days.\")\n",
    "else:\n",
    "    print(\"Invalid month input. Please enter a month between 1 and 12.\")\n"
   ]
  },
  {
   "cell_type": "markdown",
   "id": "a16e7eaf",
   "metadata": {},
   "source": [
    "# #Basic Level:"
   ]
  },
  {
   "cell_type": "code",
   "execution_count": 8,
   "id": "44ec238f",
   "metadata": {},
   "outputs": [
    {
     "name": "stdout",
     "output_type": "stream",
     "text": [
      "enter the number :76\n",
      "Entered number is positive\n"
     ]
    }
   ],
   "source": [
    "#1. Write a Python program that checks if a given number is positive, negative, or zero\n",
    "n = int(input(\"enter the number :\"))\n",
    "if n<0:\n",
    "    print(\"Entered number is negative\")\n",
    "else:\n",
    "    print(\"Entered number is positive\")"
   ]
  },
  {
   "cell_type": "code",
   "execution_count": 9,
   "id": "376987a7",
   "metadata": {},
   "outputs": [
    {
     "name": "stdout",
     "output_type": "stream",
     "text": [
      "enter your age :87\n",
      "You are eligible to vote\n"
     ]
    }
   ],
   "source": [
    "#2 Create a program to determine if a person is eligible to vote based on their age.#\n",
    "age = int(input(\"enter your age :\"))\n",
    "if age>=18:\n",
    "    print(\"You are eligible to vote\")\n",
    "else:\n",
    "    print(\"You are not eligible to vote\")"
   ]
  },
  {
   "cell_type": "code",
   "execution_count": 10,
   "id": "1f143837",
   "metadata": {},
   "outputs": [
    {
     "name": "stdout",
     "output_type": "stream",
     "text": [
      "Enter the 1st no : 65\n",
      "Enter the 2nd no : 76\n",
      "2nd number is max\n"
     ]
    }
   ],
   "source": [
    "#3. Write a program to find the maximum of two given numbers using conditional statements\n",
    "a =int(input(\"Enter the 1st no : \"))\n",
    "b =int(input(\"Enter the 2nd no : \"))\n",
    "if a>b:\n",
    "    print(\"1st number is max\")\n",
    "else:\n",
    "    print(\"2nd number is max\")"
   ]
  },
  {
   "cell_type": "code",
   "execution_count": 12,
   "id": "61f3f134",
   "metadata": {},
   "outputs": [
    {
     "name": "stdout",
     "output_type": "stream",
     "text": [
      "Enter score :65\n",
      "grade is c\n"
     ]
    }
   ],
   "source": [
    "#4.. Develop a program that calculates the grade of a student based on their exam score.\n",
    "n = int(input(\"Enter score :\"))\n",
    "if n>=90:\n",
    "    print(\"grade is A+\")\n",
    "elif 90>n>80:\n",
    "    print(\"grade is A\")\n",
    "elif 80>n>70:\n",
    "    print(\"grade is B\")\n",
    "elif 70>n>60:\n",
    "    print(\"grade is c\")\n",
    "elif 60>n>50:\n",
    "    print(\"grade is D\")\n",
    "else:\n",
    "    print(\"You failed\")"
   ]
  },
  {
   "cell_type": "code",
   "execution_count": 15,
   "id": "3f355943",
   "metadata": {},
   "outputs": [
    {
     "name": "stdout",
     "output_type": "stream",
     "text": [
      "False\n"
     ]
    }
   ],
   "source": [
    "#5. Create a program that checks if a year is a leap year or not.\n",
    "def is_leap_year(year):\n",
    "    #\"\"\"Returns True if the given year is a leap year, False otherwise.\"\"\"\n",
    "    if year % 4 == 0:\n",
    "        if year % 100 == 0:\n",
    "            if year % 400 == 0:\n",
    "                return True\n",
    "            else :\n",
    "                return False\n",
    "        else:\n",
    "            return True\n",
    "    else:\n",
    "        return False\n",
    "    \n",
    "print(is_leap_year(6543))"
   ]
  },
  {
   "cell_type": "code",
   "execution_count": 17,
   "id": "77706bbe",
   "metadata": {},
   "outputs": [
    {
     "name": "stdout",
     "output_type": "stream",
     "text": [
      "Enter the length of side 1: 21\n",
      "Enter the length of side 2: 21\n",
      "Enter the length of side 3: 65\n",
      "The triangle with sides 21.0, 21.0, 65.0 is a Isosceles Triangle.\n"
     ]
    }
   ],
   "source": [
    "#6. Write a program to classify a triangle based on its sides' lengths\n",
    "def classify_triangle(side1, side2, side3):\n",
    "    if side1 == side2 == side3:\n",
    "        return \"Equilateral Triangle\"\n",
    "    elif side1 == side2 or side1 == side3 or side2 == side3:\n",
    "        return \"Isosceles Triangle\"\n",
    "    else:\n",
    "        return \"Scalene Triangle\"\n",
    "\n",
    "# Get user input for the sides of the triangle\n",
    "side1 = float(input(\"Enter the length of side 1: \"))\n",
    "side2 = float(input(\"Enter the length of side 2: \"))\n",
    "side3 = float(input(\"Enter the length of side 3: \"))\n",
    "\n",
    "# Check and display the classification of the triangle\n",
    "classification = classify_triangle(side1, side2, side3)\n",
    "print(f\"The triangle with sides {side1}, {side2}, {side3} is a {classification}.\")\n"
   ]
  },
  {
   "cell_type": "code",
   "execution_count": 19,
   "id": "fcd6b76b",
   "metadata": {},
   "outputs": [
    {
     "name": "stdout",
     "output_type": "stream",
     "text": [
      "Enter 1st number12\n",
      "Enter 2nd number53\n",
      "Enter 3rd number54\n",
      "3rd number is largest \n"
     ]
    }
   ],
   "source": [
    "#7. Build a program that determines the largest of three given numbers\n",
    "n1=int(input(\"Enter 1st number\"))\n",
    "n2=int(input(\"Enter 2nd number\"))\n",
    "n3=int(input(\"Enter 3rd number\"))\n",
    "if n1>n2 and n1>n3:\n",
    "    print(\"1st number is largest \")\n",
    "elif n2>n1 and n2>n3:\n",
    "    print(\"2nd number is largest\")\n",
    "else:\n",
    "    print(\"3rd number is largest \")"
   ]
  },
  {
   "cell_type": "code",
   "execution_count": 20,
   "id": "e048a99b",
   "metadata": {},
   "outputs": [
    {
     "name": "stdout",
     "output_type": "stream",
     "text": [
      "Enter a Characterk\n",
      "Character is constant\n"
     ]
    }
   ],
   "source": [
    "#8. Develop a program that checks whether a character is a vowel or a consonant.\n",
    "char = ['a','e','i','o','u','A', 'E','I','O','U']\n",
    "n = input(\"Enter a Character\")\n",
    "if n in char:\n",
    "    print(\"character is vowel\")\n",
    "else:\n",
    "    print(\"Character is constant\")"
   ]
  },
  {
   "cell_type": "code",
   "execution_count": 23,
   "id": "bdac9552",
   "metadata": {},
   "outputs": [
    {
     "name": "stdout",
     "output_type": "stream",
     "text": [
      "The total cost of the shopping cart is: $2082.50\n"
     ]
    }
   ],
   "source": [
    "#9.Create a program to calculate the total cost of a shopping cart based on discounts.\n",
    "def calculate_discounted_price(item_price, quantity, discount_rate):\n",
    "    total_price = item_price * quantity\n",
    "    discount_amount = total_price * discount_rate\n",
    "    discounted_price = total_price - discount_amount\n",
    "    return discounted_price\n",
    "\n",
    "def calculate_total_cost(cart):\n",
    "    total_cost = 0\n",
    "    for item in cart:\n",
    "        item_price = item['price']\n",
    "        quantity = item['quantity']\n",
    "        discount_rate = item.get('discount', 0)\n",
    "        discounted_price = calculate_discounted_price(item_price, quantity, discount_rate)\n",
    "        total_cost += discounted_price\n",
    "    return total_cost\n",
    "\n",
    "# Example shopping cart\n",
    "shopping_cart = [\n",
    "    {'item': 'Laptop', 'price': 800, 'quantity': 2, 'discount': 0.1},\n",
    "    {'item': 'Phone', 'price': 500, 'quantity': 1},\n",
    "    {'item': 'Headphones', 'price': 50, 'quantity': 3, 'discount': 0.05}\n",
    "]\n",
    "\n",
    "# Calculate and display the total cost\n",
    "total_cost = calculate_total_cost(shopping_cart)\n",
    "print(f'The total cost of the shopping cart is: ${total_cost:.2f}')\n"
   ]
  },
  {
   "cell_type": "code",
   "execution_count": 22,
   "id": "048cab28",
   "metadata": {},
   "outputs": [
    {
     "name": "stdout",
     "output_type": "stream",
     "text": [
      "Enter a number: 56\n",
      "The number 56 is Even.\n"
     ]
    }
   ],
   "source": [
    "#10. Write a program that checks if a given number is even or odd\n",
    "def check_even_odd(number):\n",
    "    if number % 2 == 0:\n",
    "        return \"Even\"\n",
    "    else:\n",
    "        return \"Odd\"\n",
    "\n",
    "# Get user input for the number\n",
    "user_number = int(input(\"Enter a number: \"))\n",
    "\n",
    "# Check and display if the number is even or odd\n",
    "result = check_even_odd(user_number)\n",
    "print(f\"The number {user_number} is {result}.\")\n"
   ]
  },
  {
   "cell_type": "markdown",
   "id": "62fa15f4",
   "metadata": {},
   "source": [
    "# Intermediate Level:"
   ]
  },
  {
   "cell_type": "code",
   "execution_count": 26,
   "id": "a51e8d2e",
   "metadata": {},
   "outputs": [
    {
     "name": "stdout",
     "output_type": "stream",
     "text": [
      "Enter a:12\n",
      "Enter b:1\n",
      "Enter c:3\n",
      "Complex Roots\n",
      "-0.041666666666666664  + i 11.958260743101398\n",
      "-0.041666666666666664  - i 11.958260743101398\n"
     ]
    }
   ],
   "source": [
    "#11.Write a program that calculates the roots of a quadratic equation \n",
    "import math  \n",
    "  \n",
    "#function for finding roots  \n",
    "def findRoots(a, b, c):  \n",
    "  \n",
    "    dis_form = b * b - 4 * a * c  \n",
    "    sqrt_val = math.sqrt(abs(dis_form))  \n",
    "  \n",
    "  \n",
    "    if dis_form > 0:  \n",
    "        print(\" real and different roots \")  \n",
    "        print((-b + sqrt_val) / (2 * a))  \n",
    "        print((-b - sqrt_val) / (2 * a))  \n",
    "  \n",
    "    elif dis_form == 0:  \n",
    "        print(\" real and same roots\")  \n",
    "        print(-b / (2 * a))  \n",
    "  \n",
    "  \n",
    "    else:  \n",
    "        print(\"Complex Roots\")  \n",
    "        print(- b / (2 * a), \" + i\", sqrt_val)  \n",
    "        print(- b / (2 * a), \" - i\", sqrt_val)  \n",
    "  \n",
    "  \n",
    "a = int(input('Enter a:'))  \n",
    "b = int(input('Enter b:'))  \n",
    "c = int(input('Enter c:'))  \n",
    "  \n",
    "# If a is 0, then incorrect equation  \n",
    "if a == 0:  \n",
    "    print(\"Input correct quadratic equation\") \n",
    "else:  \n",
    "    findRoots(a, b, c)  "
   ]
  },
  {
   "cell_type": "code",
   "execution_count": 27,
   "id": "cff3543f",
   "metadata": {},
   "outputs": [
    {
     "name": "stdout",
     "output_type": "stream",
     "text": [
      "Provide a number for day 4\n",
      "It is Thursday\n"
     ]
    }
   ],
   "source": [
    "#12. Create a program that determines the day of the week based on the day number (1-7)\n",
    "n = int(input(\"Provide a number for day \"))\n",
    "if n==1:\n",
    "    print(\"It is monday\")\n",
    "elif n==2:\n",
    "    print(\"It is Tuesday\")\n",
    "elif n==3:\n",
    "    print(\"It is Wednesday\")\n",
    "elif n==4:\n",
    "    print(\"It is Thursday\")\n",
    "elif n==5:\n",
    "    print(\"It is Friday\")\n",
    "elif n==6:\n",
    "    print(\"It is Saturday\")\n",
    "else:\n",
    "    print(\"It is Sunday\")"
   ]
  },
  {
   "cell_type": "code",
   "execution_count": 1,
   "id": "cd06108d",
   "metadata": {},
   "outputs": [
    {
     "name": "stdout",
     "output_type": "stream",
     "text": [
      "56\n",
      "710998587804863451854045647463724949736497978881168458687447040000000000000\n"
     ]
    }
   ],
   "source": [
    "#13. Develop a program that calculates the factorial of a given number using recursion.\n",
    "\n",
    "def fact(n):\n",
    "    if n ==0 or n==1:\n",
    "        return 1\n",
    "    else:\n",
    "        return n * fact(n-1)\n",
    "        \n",
    "n= int(input())\n",
    "result = fact(n)\n",
    "print(result)"
   ]
  },
  {
   "cell_type": "code",
   "execution_count": 2,
   "id": "710eb4d7",
   "metadata": {},
   "outputs": [
    {
     "name": "stdout",
     "output_type": "stream",
     "text": [
      "Enter 1st number54\n",
      "Enter 2nd number45\n",
      "Enter 3rd number75\n",
      "3rd number is largest \n"
     ]
    }
   ],
   "source": [
    "#Write a program to find the largest among three numbers without using the `max()` function\n",
    "n1=int(input(\"Enter 1st number\"))\n",
    "n2=int(input(\"Enter 2nd number\"))\n",
    "n3=int(input(\"Enter 3rd number\"))\n",
    "if n1>n2 and n1>n3:\n",
    "    print(\"1st number is largest \")\n",
    "elif n2>n1 and n2>n3:\n",
    "    print(\"2nd number is largest\")\n",
    "else:\n",
    "    print(\"3rd number is largest \")"
   ]
  },
  {
   "cell_type": "code",
   "execution_count": 3,
   "id": "07fb88a0",
   "metadata": {},
   "outputs": [
    {
     "name": "stdout",
     "output_type": "stream",
     "text": [
      "\n",
      "ATM Transaction Menu:\n",
      "1. Display Balance\n",
      "2. Deposit Money\n",
      "3. Withdraw Money\n",
      "4. Exit\n",
      "Enter your choice (1-4): 4\n",
      "Thank you for using the ATM. Goodbye!\n"
     ]
    }
   ],
   "source": [
    "#15. Create a program that simulates a basic ATM transaction menu.\n",
    "class ATM:\n",
    "    def __init__(self, balance=1000):\n",
    "        self.balance = balance\n",
    "\n",
    "    def display_balance(self):\n",
    "        print(f\"Your account balance is: ${self.balance}\")\n",
    "\n",
    "    def deposit(self, amount):\n",
    "        self.balance += amount\n",
    "        print(f\"Deposit successful. Your new balance is: ${self.balance}\")\n",
    "\n",
    "    def withdraw(self, amount):\n",
    "        if amount > self.balance:\n",
    "            print(\"Insufficient funds. Withdrawal failed.\")\n",
    "        else:\n",
    "            self.balance -= amount\n",
    "            print(f\"Withdrawal successful. Your new balance is: ${self.balance}\")\n",
    "\n",
    "# Create an instance of the ATM\n",
    "my_atm = ATM()\n",
    "\n",
    "# ATM Transaction Menu\n",
    "while True:\n",
    "    print(\"\\nATM Transaction Menu:\")\n",
    "    print(\"1. Display Balance\")\n",
    "    print(\"2. Deposit Money\")\n",
    "    print(\"3. Withdraw Money\")\n",
    "    print(\"4. Exit\")\n",
    "\n",
    "    choice = input(\"Enter your choice (1-4): \")\n",
    "\n",
    "    if choice == '1':\n",
    "        my_atm.display_balance()\n",
    "    elif choice == '2':\n",
    "        amount = float(input(\"Enter the deposit amount: $\"))\n",
    "        my_atm.deposit(amount)\n",
    "    elif choice == '3':\n",
    "        amount = float(input(\"Enter the withdrawal amount: $\"))\n",
    "        my_atm.withdraw(amount)\n",
    "    elif choice == '4':\n",
    "        print(\"Thank you for using the ATM. Goodbye!\")\n",
    "        break\n",
    "    else:\n",
    "        print(\"Invalid choice. Please enter a number from 1 to 4.\")\n"
   ]
  },
  {
   "cell_type": "code",
   "execution_count": 4,
   "id": "c33dc55d",
   "metadata": {},
   "outputs": [
    {
     "name": "stdout",
     "output_type": "stream",
     "text": [
      "Enter a stringabcba\n",
      "String is palindrome\n"
     ]
    }
   ],
   "source": [
    "#16. Build a program that checks if a given string is a palindrome or not\n",
    "n = input(\"Enter a string\")\n",
    "if n == n[::-1]:\n",
    "    print(\"String is palindrome\")\n",
    "else:\n",
    "    print(\"String is not plaindrome\")"
   ]
  },
  {
   "cell_type": "code",
   "execution_count": 5,
   "id": "9e5a87ed",
   "metadata": {},
   "outputs": [
    {
     "name": "stdout",
     "output_type": "stream",
     "text": [
      "The average of the list excluding the smallest and largest values is: 8.0\n"
     ]
    }
   ],
   "source": [
    "#17. Write a program that calculates the average of a list of numbers, excluding the smallest and largest values.\n",
    "def calculate_average_excluding_extremes(numbers):\n",
    "    if len(numbers) < 3:\n",
    "        print(\"Insufficient number of elements to calculate the average.\")\n",
    "        return\n",
    "\n",
    "    # Remove the smallest and largest values from the list\n",
    "    numbers.remove(min(numbers))\n",
    "    numbers.remove(max(numbers))\n",
    "\n",
    "    # Calculate the average of the remaining values\n",
    "    average = sum(numbers) / len(numbers)\n",
    "    return average\n",
    "\n",
    "# Example list of numbers\n",
    "number_list = [4, 8, 12, 6, 10]\n",
    "\n",
    "# Calculate and display the average excluding extremes\n",
    "result = calculate_average_excluding_extremes(number_list)\n",
    "print(f\"The average of the list excluding the smallest and largest values is: {result}\")\n"
   ]
  },
  {
   "cell_type": "code",
   "execution_count": 6,
   "id": "e766fe54",
   "metadata": {},
   "outputs": [
    {
     "name": "stdout",
     "output_type": "stream",
     "text": [
      "Enter the temperature in Celsius: 52\n",
      "52.0 degrees Celsius is equal to 125.60 degrees Fahrenheit.\n"
     ]
    }
   ],
   "source": [
    "#18. Develop a program that converts a given temperature from Celsius to Fahrenheit.\n",
    "def celsius_to_fahrenheit(celsius):\n",
    "    fahrenheit = (celsius * 9/5) + 32\n",
    "    return fahrenheit\n",
    "\n",
    "# Get user input for the temperature in Celsius\n",
    "celsius_temperature = float(input(\"Enter the temperature in Celsius: \"))\n",
    "\n",
    "# Convert and display the temperature in Fahrenheit\n",
    "fahrenheit_temperature = celsius_to_fahrenheit(celsius_temperature)\n",
    "print(f\"{celsius_temperature} degrees Celsius is equal to {fahrenheit_temperature:.2f} degrees Fahrenheit.\")\n"
   ]
  },
  {
   "cell_type": "code",
   "execution_count": 7,
   "id": "0687a48f",
   "metadata": {},
   "outputs": [
    {
     "name": "stdout",
     "output_type": "stream",
     "text": [
      "\n",
      "Basic Calculator:\n",
      "1. Addition\n",
      "2. Subtraction\n",
      "3. Multiplication\n",
      "4. Division\n",
      "5. Exit\n",
      "Enter your choice (1-5): 5\n",
      "Exiting the calculator. Goodbye!\n"
     ]
    }
   ],
   "source": [
    "#19.Create a program that simulates a basic calculator for addition, subtraction, multiplication, and division\n",
    "def add(x, y):\n",
    "    return x + y\n",
    "\n",
    "def subtract(x, y):\n",
    "    return x - y\n",
    "\n",
    "def multiply(x, y):\n",
    "    return x * y\n",
    "\n",
    "def divide(x, y):\n",
    "    if y != 0:\n",
    "        return x / y\n",
    "    else:\n",
    "        return \"Error: Division by zero\"\n",
    "\n",
    "# Calculator Menu\n",
    "while True:\n",
    "    print(\"\\nBasic Calculator:\")\n",
    "    print(\"1. Addition\")\n",
    "    print(\"2. Subtraction\")\n",
    "    print(\"3. Multiplication\")\n",
    "    print(\"4. Division\")\n",
    "    print(\"5. Exit\")\n",
    "\n",
    "    choice = input(\"Enter your choice (1-5): \")\n",
    "\n",
    "    if choice in {'1', '2', '3', '4'}:\n",
    "        num1 = float(input(\"Enter the first number: \"))\n",
    "        num2 = float(input(\"Enter the second number: \"))\n",
    "\n",
    "        if choice == '1':\n",
    "            result = add(num1, num2)\n",
    "            print(f\"The sum is: {result}\")\n",
    "        elif choice == '2':\n",
    "            result = subtract(num1, num2)\n",
    "            print(f\"The difference is: {result}\")\n",
    "        elif choice == '3':\n",
    "            result = multiply(num1, num2)\n",
    "            print(f\"The product is: {result}\")\n",
    "        elif choice == '4':\n",
    "            result = divide(num1, num2)\n",
    "            print(f\"The quotient is: {result}\")\n",
    "    elif choice == '5':\n",
    "        print(\"Exiting the calculator. Goodbye!\")\n",
    "        break\n",
    "    else:\n",
    "        print(\"Invalid choice. Please enter a number from 1 to 5.\")\n"
   ]
  },
  {
   "cell_type": "code",
   "execution_count": 12,
   "id": "312668ce",
   "metadata": {},
   "outputs": [
    {
     "name": "stdout",
     "output_type": "stream",
     "text": [
      "Enter the coefficient a: 1.5\n",
      "Enter the coefficient b: 4\n",
      "Enter the coefficient c: 5\n",
      "Enter the coefficient d: 2\n",
      "The roots of the cubic equation are:\n",
      "Root 1: (-1.2503718265615893-0.49934813806325495j)\n",
      "Root 2: (-0.165923013543488-1.7910509359962394e-16j)\n",
      "Root 3: (-1.250371826561589+0.4993481380632553j)\n"
     ]
    }
   ],
   "source": [
    "#20. Write a program that determines the roots of a cubic equation using the Cardano formula\n",
    "import cmath \n",
    "import math# Import the complex math module\n",
    "\n",
    "def cubic_roots(a, b, c, d):\n",
    "    # Calculate the discriminant and its cube root\n",
    "    delta = 18 * a * b * c * d - 4 * b**3 * d + b**2 * c**2 - 4 * a * c**3 - 27 * a**2 * d**2\n",
    "    delta_cubed_root = delta ** (1/3)\n",
    "\n",
    "\n",
    "    # Calculate the intermediate values\n",
    "    p = (3 * a * c - b**2) / (3 * a**2)\n",
    "    q = (2 * b**3 - 9 * a * b * c + 27 * a**2 * d) / (27 * a**3)\n",
    "\n",
    "    # Calculate the roots using Cardano's formula\n",
    "    root1 = -1 / (3 * a) * (b + delta_cubed_root + p / delta_cubed_root)\n",
    "    root2 = -1 / (3 * a) * (b + cmath.exp(2j * cmath.pi / 3) * delta_cubed_root + p / cmath.exp(2j * cmath.pi / 3) / delta_cubed_root)\n",
    "    root3 = -1 / (3 * a) * (b + cmath.exp(4j * cmath.pi / 3) * delta_cubed_root + p / cmath.exp(4j * cmath.pi / 3) / delta_cubed_root)\n",
    "\n",
    "    return root1, root2, root3\n",
    "\n",
    "# Get user input for the coefficients of the cubic equation\n",
    "a = float(input(\"Enter the coefficient a: \"))\n",
    "b = float(input(\"Enter the coefficient b: \"))\n",
    "c = float(input(\"Enter the coefficient c: \"))\n",
    "d = float(input(\"Enter the coefficient d: \"))\n",
    "\n",
    "# Calculate and display the roots\n",
    "roots = cubic_roots(a, b, c, d)\n",
    "print(f\"The roots of the cubic equation are:\")\n",
    "for i, root in enumerate(roots, start=1):\n",
    "    print(f\"Root {i}: {root}\")\n"
   ]
  },
  {
   "cell_type": "markdown",
   "id": "1d599dbc",
   "metadata": {},
   "source": [
    "# Advanced Level:"
   ]
  },
  {
   "cell_type": "code",
   "execution_count": 13,
   "id": "c234daf1",
   "metadata": {},
   "outputs": [
    {
     "name": "stdout",
     "output_type": "stream",
     "text": [
      "Enter your income: $512365489\n",
      "The income tax for an income of $512365489.00 is: $153696646.70\n"
     ]
    }
   ],
   "source": [
    "#21. Create a program that calculates the income tax based on the user's income and tax brackets\n",
    "def calculate_income_tax(income):\n",
    "    # Define tax brackets and their corresponding rates\n",
    "    brackets = [0, 10000, 40000, 80000, float('inf')]\n",
    "    rates = [0.0, 0.1, 0.2, 0.3]\n",
    "\n",
    "    # Calculate tax based on the user's income\n",
    "    tax = 0\n",
    "    for i in range(1, len(brackets)):\n",
    "        if income > brackets[i]:\n",
    "            tax += (brackets[i] - brackets[i - 1]) * rates[i - 1]\n",
    "        else:\n",
    "            tax += (income - brackets[i - 1]) * rates[i - 1]\n",
    "            break\n",
    "\n",
    "    return tax\n",
    "\n",
    "# Get user input for income\n",
    "income = float(input(\"Enter your income: $\"))\n",
    "\n",
    "# Calculate and display the income tax\n",
    "income_tax = calculate_income_tax(income)\n",
    "print(f\"The income tax for an income of ${income:.2f} is: ${income_tax:.2f}\")\n"
   ]
  },
  {
   "cell_type": "code",
   "execution_count": 14,
   "id": "72cfd5d5",
   "metadata": {},
   "outputs": [
    {
     "name": "stdout",
     "output_type": "stream",
     "text": [
      "Enter your choice (rock, paper, or scissors): rock\n",
      "\n",
      "You chose: rock\n",
      "Computer chose: rock\n",
      "It's a tie!\n",
      "\n",
      "Do you want to play again? (yes/no): yes\n",
      "Enter your choice (rock, paper, or scissors): paper\n",
      "\n",
      "You chose: paper\n",
      "Computer chose: scissors\n",
      "Computer wins!\n",
      "\n",
      "Do you want to play again? (yes/no): no\n",
      "Thanks for playing. Goodbye!\n"
     ]
    }
   ],
   "source": [
    "#22. Write a program that simulates a rock-paper-scissors game against the computer.\n",
    "import random\n",
    "\n",
    "def get_user_choice():\n",
    "    user_choice = input(\"Enter your choice (rock, paper, or scissors): \").lower()\n",
    "    while user_choice not in {'rock', 'paper', 'scissors'}:\n",
    "        print(\"Invalid choice. Please enter rock, paper, or scissors.\")\n",
    "        user_choice = input(\"Enter your choice (rock, paper, or scissors): \").lower()\n",
    "    return user_choice\n",
    "\n",
    "def get_computer_choice():\n",
    "    return random.choice(['rock', 'paper', 'scissors'])\n",
    "\n",
    "def determine_winner(user_choice, computer_choice):\n",
    "    if user_choice == computer_choice:\n",
    "        return \"It's a tie!\"\n",
    "    elif (\n",
    "        (user_choice == 'rock' and computer_choice == 'scissors') or\n",
    "        (user_choice == 'paper' and computer_choice == 'rock') or\n",
    "        (user_choice == 'scissors' and computer_choice == 'paper')\n",
    "    ):\n",
    "        return \"You win!\"\n",
    "    else:\n",
    "        return \"Computer wins!\"\n",
    "\n",
    "# Main game loop\n",
    "while True:\n",
    "    user_choice = get_user_choice()\n",
    "    computer_choice = get_computer_choice()\n",
    "\n",
    "    print(f\"\\nYou chose: {user_choice}\")\n",
    "    print(f\"Computer chose: {computer_choice}\")\n",
    "\n",
    "    result = determine_winner(user_choice, computer_choice)\n",
    "    print(result)\n",
    "\n",
    "    play_again = input(\"\\nDo you want to play again? (yes/no): \").lower()\n",
    "    if play_again != 'yes':\n",
    "        print(\"Thanks for playing. Goodbye!\")\n",
    "        break\n"
   ]
  },
  {
   "cell_type": "code",
   "execution_count": 16,
   "id": "d5ab2cea",
   "metadata": {},
   "outputs": [
    {
     "name": "stdout",
     "output_type": "stream",
     "text": [
      "Enter the desired password length: 9\n",
      "Include uppercase letters? (yes/no): yes\n",
      "Include digits? (yes/no): yes\n",
      "Include special characters? (yes/no): no\n",
      "Generated Password: qHR08eqOA\n"
     ]
    }
   ],
   "source": [
    "#23. Develop a program that generates a random password based on user preferences (length, complexity)\n",
    "import random\n",
    "import string\n",
    "\n",
    "def generate_password(length, include_uppercase, include_digits, include_special_chars):\n",
    "    # Define character sets based on complexity preferences\n",
    "    lowercase_chars = string.ascii_lowercase\n",
    "    uppercase_chars = string.ascii_uppercase if include_uppercase else ''\n",
    "    digit_chars = string.digits if include_digits else ''\n",
    "    special_chars = string.punctuation if include_special_chars else ''\n",
    "\n",
    "    # Combine character sets\n",
    "    all_chars = lowercase_chars + uppercase_chars + digit_chars + special_chars\n",
    "\n",
    "    # Ensure the password length is at least 8 characters\n",
    "    length = max(length, 8)\n",
    "\n",
    "    # Generate the password\n",
    "    password = ''.join(random.choice(all_chars) for _ in range(length))\n",
    "\n",
    "    return password\n",
    "\n",
    "# Get user preferences for password generation\n",
    "length = int(input(\"Enter the desired password length: \"))\n",
    "include_uppercase = input(\"Include uppercase letters? (yes/no): \").lower() == 'yes'\n",
    "include_digits = input(\"Include digits? (yes/no): \").lower() == 'yes'\n",
    "include_special_chars = input(\"Include special characters? (yes/no): \").lower() == 'yes'\n",
    "\n",
    "# Generate and display the password\n",
    "password = generate_password(length, include_uppercase, include_digits, include_special_chars)\n",
    "print(f\"Generated Password: {password}\")\n"
   ]
  },
  {
   "cell_type": "code",
   "execution_count": 18,
   "id": "272bb19d",
   "metadata": {},
   "outputs": [
    {
     "name": "stdout",
     "output_type": "stream",
     "text": [
      "Welcome to the Text Adventure Game!\n",
      "You find yourself in a mysterious forest.\n",
      "As you walk, you come across a fork in the path.\n",
      "Which path will you take?\n",
      "1. Go left\n",
      "2. Go right\n",
      "Enter the number of your choice: 2\n",
      "You take the right path and encounter a mysterious figure.\n",
      "What will you do?\n",
      "1. Approach the figure\n",
      "2. Ignore and continue\n",
      "Enter the number of your choice: 2\n",
      "You decide to ignore the figure and continue on your own.\n",
      "Congratulations! You have completed the adventure.\n"
     ]
    }
   ],
   "source": [
    "# Create a program that implements a simple text-based adventure game with branching scenarios.\n",
    "import time\n",
    "\n",
    "def introduction():\n",
    "    print(\"Welcome to the Text Adventure Game!\")\n",
    "    time.sleep(1)\n",
    "    print(\"You find yourself in a mysterious forest.\")\n",
    "    time.sleep(1)\n",
    "    print(\"As you walk, you come across a fork in the path.\")\n",
    "\n",
    "def make_choice(prompt, options):\n",
    "    print(prompt)\n",
    "    for i, option in enumerate(options, start=1):\n",
    "        print(f\"{i}. {option}\")\n",
    "\n",
    "    choice = int(input(\"Enter the number of your choice: \"))\n",
    "    while choice not in range(1, len(options) + 1):\n",
    "        print(\"Invalid choice. Please choose again.\")\n",
    "        choice = int(input(\"Enter the number of your choice: \"))\n",
    "\n",
    "    return choice\n",
    "\n",
    "def main():\n",
    "    introduction()\n",
    "\n",
    "    # Scenario 1\n",
    "    choice_1 = make_choice(\"Which path will you take?\", [\"Go left\", \"Go right\"])\n",
    "    if choice_1 == 1:\n",
    "        print(\"You follow the left path and discover a hidden treasure!\")\n",
    "    else:\n",
    "        print(\"You take the right path and encounter a mysterious figure.\")\n",
    "\n",
    "        # Scenario 2\n",
    "        choice_2 = make_choice(\"What will you do?\", [\"Approach the figure\", \"Ignore and continue\"])\n",
    "        if choice_2 == 1:\n",
    "            print(\"The figure turns out to be a friendly guide who helps you on your journey.\")\n",
    "        else:\n",
    "            print(\"You decide to ignore the figure and continue on your own.\")\n",
    "\n",
    "    print(\"Congratulations! You have completed the adventure.\")\n",
    "\n",
    "if __name__ == \"__main__\":\n",
    "    main()\n"
   ]
  },
  {
   "cell_type": "code",
   "execution_count": 20,
   "id": "4e7a3e47",
   "metadata": {},
   "outputs": [
    {
     "name": "stdout",
     "output_type": "stream",
     "text": [
      "Enter the coefficient a: 45\n",
      "Enter the coefficient b: 45\n",
      "The solution for x is: -1.0\n"
     ]
    }
   ],
   "source": [
    " #25.Build a program that solves a linear equation  for x, considering different cases.\n",
    "def solve_linear_equation(a, b):\n",
    "    if a == 0:\n",
    "        if b == 0:\n",
    "            return \"Infinite solutions (any value of x is a solution)\"\n",
    "        else:\n",
    "            return \"No solution (contradiction)\"\n",
    "    else:\n",
    "        x = -b / a\n",
    "        return f\"The solution for x is: {x}\"\n",
    "\n",
    "# Get user input for coefficients of the linear equation (ax + b = 0)\n",
    "a = float(input(\"Enter the coefficient a: \"))\n",
    "b = float(input(\"Enter the coefficient b: \"))\n",
    "\n",
    "# Solve and display the result\n",
    "result = solve_linear_equation(a, b)\n",
    "print(result)\n"
   ]
  },
  {
   "cell_type": "code",
   "execution_count": 23,
   "id": "b86f9f2e",
   "metadata": {},
   "outputs": [
    {
     "name": "stdout",
     "output_type": "stream",
     "text": [
      "\n",
      "What is the capital of France?\n",
      "1. A. Paris\n",
      "2. B. Berlin\n",
      "3. C. Rome\n",
      "4. D. Madrid\n",
      "Enter the letter of your answer: A\n",
      "Correct!\n",
      "\n",
      "Which planet is known as the Red Planet?\n",
      "1. A. Mars\n",
      "2. B. Venus\n",
      "3. C. Jupiter\n",
      "4. D. Saturn\n",
      "Enter the letter of your answer: C\n",
      "Wrong! The correct answer is: A. Mars\n",
      "\n",
      "What is the largest mammal on Earth?\n",
      "1. A. Elephant\n",
      "2. B. Blue Whale\n",
      "3. C. Giraffe\n",
      "4. D. Hippopotamus\n",
      "Enter the letter of your answer: A\n",
      "Wrong! The correct answer is: B. Blue Whale\n",
      "\n",
      "Quiz completed! Your final score is: 1/3\n"
     ]
    }
   ],
   "source": [
    "#26.. Write a program that simulates a basic quiz game with multiple-choice questions and scoring.\n",
    "def run_quiz(questions):\n",
    "    score = 0\n",
    "\n",
    "    for question, options, correct_answer in questions:\n",
    "        print(\"\\n\" + question)\n",
    "        for i, option in enumerate(options, start=1):\n",
    "            print(f\"{i}. {option}\")\n",
    "\n",
    "        user_answer = input(\"Enter the letter of your answer: \").upper()\n",
    "\n",
    "        if user_answer in {'A', 'B', 'C', 'D'} and options[ord(user_answer) - ord('A')] == correct_answer:\n",
    "            print(\"Correct!\")\n",
    "            score += 1\n",
    "        else:\n",
    "            print(f\"Wrong! The correct answer is: {correct_answer}\")\n",
    "\n",
    "    print(f\"\\nQuiz completed! Your final score is: {score}/{len(questions)}\")\n",
    "\n",
    "# Define quiz questions (question, options, correct_answer)\n",
    "quiz_questions = [\n",
    "    (\"What is the capital of France?\", [\"A. Paris\", \"B. Berlin\", \"C. Rome\", \"D. Madrid\"], \"A. Paris\"),\n",
    "    (\"Which planet is known as the Red Planet?\", [\"A. Mars\", \"B. Venus\", \"C. Jupiter\", \"D. Saturn\"], \"A. Mars\"),\n",
    "    (\"What is the largest mammal on Earth?\", [\"A. Elephant\", \"B. Blue Whale\", \"C. Giraffe\", \"D. Hippopotamus\"], \"B. Blue Whale\"),\n",
    "]\n",
    "\n",
    "# Run the quiz\n",
    "run_quiz(quiz_questions)\n",
    "\n"
   ]
  },
  {
   "cell_type": "code",
   "execution_count": 24,
   "id": "47d87b2d",
   "metadata": {},
   "outputs": [
    {
     "name": "stdout",
     "output_type": "stream",
     "text": [
      "Enter a year: 1232\n",
      "1232 is not a prime number.\n"
     ]
    }
   ],
   "source": [
    " #Develop a program that determines whether a given year is a prime number or not.\n",
    "\n",
    "def is_prime(year):\n",
    "    if year < 2:\n",
    "        return False\n",
    "    for i in range(2, int(year**0.5) + 1):\n",
    "        if year % i == 0:\n",
    "            return False\n",
    "    return True\n",
    "\n",
    "# Get user input for the year\n",
    "year = int(input(\"Enter a year: \"))\n",
    "\n",
    "# Check and display the result\n",
    "if is_prime(year):\n",
    "    print(f\"{year} is a prime number.\")\n",
    "else:\n",
    "    print(f\"{year} is not a prime number.\")\n"
   ]
  },
  {
   "cell_type": "code",
   "execution_count": 25,
   "id": "d1280d51",
   "metadata": {},
   "outputs": [
    {
     "name": "stdout",
     "output_type": "stream",
     "text": [
      "Enter the first number: 45\n",
      "Enter the second number: 54\n",
      "Enter the third number: 14\n",
      "Sorted numbers in ascending order: (14.0, 45.0, 54.0)\n"
     ]
    }
   ],
   "source": [
    "# Create a program that sorts three numbers in ascending order using conditional statements\n",
    "# Get user input for three numbers\n",
    "num1 = float(input(\"Enter the first number: \"))\n",
    "num2 = float(input(\"Enter the second number: \"))\n",
    "num3 = float(input(\"Enter the third number: \"))\n",
    "\n",
    "# Sorting using conditional statements\n",
    "if num1 <= num2 <= num3:\n",
    "    sorted_nums = (num1, num2, num3)\n",
    "elif num1 <= num3 <= num2:\n",
    "    sorted_nums = (num1, num3, num2)\n",
    "elif num2 <= num1 <= num3:\n",
    "    sorted_nums = (num2, num1, num3)\n",
    "elif num2 <= num3 <= num1:\n",
    "    sorted_nums = (num2, num3, num1)\n",
    "elif num3 <= num1 <= num2:\n",
    "    sorted_nums = (num3, num1, num2)\n",
    "else:\n",
    "    sorted_nums = (num3, num2, num1)\n",
    "\n",
    "# Display the sorted numbers\n",
    "print(\"Sorted numbers in ascending order:\", sorted_nums)\n"
   ]
  },
  {
   "cell_type": "code",
   "execution_count": 26,
   "id": "a42a88cc",
   "metadata": {},
   "outputs": [
    {
     "name": "stdout",
     "output_type": "stream",
     "text": [
      "Enter coefficient a: 12\n",
      "Enter coefficient b: 21\n",
      "Enter coefficient c: 10\n",
      "Enter coefficient d: 10\n",
      "Enter coefficient e: 10\n",
      "Enter an initial guess for the root: 2\n",
      "\n",
      "Newton-Raphson method did not converge within the maximum number of iterations.\n"
     ]
    }
   ],
   "source": [
    "#Build a program that determines the roots of a quartic equation using numerical methods.\n",
    "def quartic_equation(x, a, b, c, d, e):\n",
    "    return a * x**4 + b * x**3 + c * x**2 + d * x + e\n",
    "\n",
    "def derivative_quartic(x, a, b, c, d):\n",
    "    return 4 * a * x**3 + 3 * b * x**2 + 2 * c * x + d\n",
    "\n",
    "def newton_raphson_quartic(a, b, c, d, e, initial_guess, tolerance=1e-6, max_iterations=100):\n",
    "    x = initial_guess\n",
    "\n",
    "    for iteration in range(max_iterations):\n",
    "        f_x = quartic_equation(x, a, b, c, d, e)\n",
    "        f_prime_x = derivative_quartic(x, a, b, c, d)\n",
    "\n",
    "        if abs(f_x) < tolerance:\n",
    "            return x, iteration\n",
    "\n",
    "        x -= f_x / f_prime_x\n",
    "\n",
    "    return None, max_iterations\n",
    "\n",
    "# Get coefficients for the quartic equation ax^4 + bx^3 + cx^2 + dx + e = 0\n",
    "a = float(input(\"Enter coefficient a: \"))\n",
    "b = float(input(\"Enter coefficient b: \"))\n",
    "c = float(input(\"Enter coefficient c: \"))\n",
    "d = float(input(\"Enter coefficient d: \"))\n",
    "e = float(input(\"Enter coefficient e: \"))\n",
    "\n",
    "# Get an initial guess for the root\n",
    "initial_guess = float(input(\"Enter an initial guess for the root: \"))\n",
    "\n",
    "# Use Newton-Raphson method to find the root\n",
    "root, iterations = newton_raphson_quartic(a, b, c, d, e, initial_guess)\n",
    "\n",
    "# Display the result\n",
    "if root is not None:\n",
    "    print(f\"\\nRoot found: {root} after {iterations} iterations.\")\n",
    "else:\n",
    "    print(\"\\nNewton-Raphson method did not converge within the maximum number of iterations.\")\n"
   ]
  },
  {
   "cell_type": "code",
   "execution_count": 27,
   "id": "505e36ed",
   "metadata": {},
   "outputs": [
    {
     "name": "stdout",
     "output_type": "stream",
     "text": [
      "Enter your weight in kilograms: 45\n",
      "Enter your height in meters: 5\n",
      "\n",
      "Your BMI is: 1.80\n",
      "BMI Category: Underweight\n",
      "You may want to consult with a healthcare professional to ensure you are meeting nutritional needs.\n"
     ]
    }
   ],
   "source": [
    "#30. Write a program that calculates the BMI (Body Mass Index) and provides health recommendations based on the user's input.\n",
    "def calculate_bmi(weight, height):\n",
    "    return weight / (height ** 2)\n",
    "\n",
    "def bmi_category(bmi):\n",
    "    if bmi < 18.5:\n",
    "        return \"Underweight\"\n",
    "    elif 18.5 <= bmi < 24.9:\n",
    "        return \"Normal Weight\"\n",
    "    elif 25 <= bmi < 29.9:\n",
    "        return \"Overweight\"\n",
    "    else:\n",
    "        return \"Obese\"\n",
    "\n",
    "def health_recommendations(category):\n",
    "    if category == \"Underweight\":\n",
    "        return \"You may want to consult with a healthcare professional to ensure you are meeting nutritional needs.\"\n",
    "\n",
    "    if category == \"Normal Weight\":\n",
    "        return \"Keep up the good work! Maintain a healthy lifestyle with balanced nutrition and regular exercise.\"\n",
    "\n",
    "    if category == \"Overweight\":\n",
    "        return \"Consider adopting a healthier diet and increasing physical activity to achieve a healthy weight.\"\n",
    "\n",
    "    if category == \"Obese\":\n",
    "        return \"It's important to make lifestyle changes. Consult with a healthcare professional for personalized advice.\"\n",
    "\n",
    "# Get user input for weight and height\n",
    "weight = float(input(\"Enter your weight in kilograms: \"))\n",
    "height = float(input(\"Enter your height in meters: \"))\n",
    "\n",
    "# Calculate BMI\n",
    "bmi = calculate_bmi(weight, height)\n",
    "\n",
    "# Determine BMI category\n",
    "category = bmi_category(bmi)\n",
    "\n",
    "# Display BMI and health recommendations\n",
    "print(f\"\\nYour BMI is: {bmi:.2f}\")\n",
    "print(f\"BMI Category: {category}\")\n",
    "print(health_recommendations(category))\n"
   ]
  },
  {
   "cell_type": "markdown",
   "id": "fa6e4a42",
   "metadata": {},
   "source": [
    "# Challenge Level:"
   ]
  },
  {
   "cell_type": "code",
   "execution_count": 28,
   "id": "e25811c1",
   "metadata": {},
   "outputs": [
    {
     "name": "stdout",
     "output_type": "stream",
     "text": [
      "Enter a password: Samiksha@1008\n",
      "Password is valid.\n"
     ]
    }
   ],
   "source": [
    "#31. Create a program that validates a password based on complexity rules (length, characters, etc.)\n",
    "import re\n",
    "\n",
    "def is_valid_password(password):\n",
    "    # Check if the password meets length requirements\n",
    "    if len(password) < 8:\n",
    "        return False\n",
    "\n",
    "    # Check if the password contains at least one uppercase letter\n",
    "    if not any(char.isupper() for char in password):\n",
    "        return False\n",
    "\n",
    "    # Check if the password contains at least one lowercase letter\n",
    "    if not any(char.islower() for char in password):\n",
    "        return False\n",
    "\n",
    "    # Check if the password contains at least one digit\n",
    "    if not any(char.isdigit() for char in password):\n",
    "        return False\n",
    "\n",
    "    # Check if the password contains at least one special character\n",
    "    if not re.search(\"[!@#$%^&*()-_+=]\", password):\n",
    "        return False\n",
    "\n",
    "    # Password passed all checks\n",
    "    return True\n",
    "\n",
    "# Get user input for the password\n",
    "password = input(\"Enter a password: \")\n",
    "\n",
    "# Validate the password\n",
    "if is_valid_password(password):\n",
    "    print(\"Password is valid.\")\n",
    "else:\n",
    "    print(\"Password is not valid. Please follow the complexity rules.\")\n"
   ]
  },
  {
   "cell_type": "code",
   "execution_count": 3,
   "id": "2fed3c5f",
   "metadata": {},
   "outputs": [
    {
     "name": "stdout",
     "output_type": "stream",
     "text": [
      "Enter details for Matrix A:\n",
      "Enter the number of rows: 2\n",
      "Enter the number of columns: 2\n",
      "Enter the matrix elements (2x2):\n",
      "Row 1: 21 23\n",
      "Row 2: 34 45\n",
      "\n",
      "Enter details for Matrix B:\n",
      "Enter the number of rows: 2\n",
      "Enter the number of columns: 2\n",
      "Enter the matrix elements (2x2):\n",
      "Row 1: 24 56\n",
      "Row 2: 56 78\n",
      "\n",
      "Matrix A:\n",
      "[21.0, 23.0]\n",
      "[34.0, 45.0]\n",
      "\n",
      "Matrix B:\n",
      "[24.0, 56.0]\n",
      "[56.0, 78.0]\n",
      "\n",
      "Matrix A + Matrix B (Sum):\n",
      "[45.0, 79.0]\n",
      "[90.0, 123.0]\n",
      "\n",
      "Matrix A - Matrix B (Difference):\n",
      "[-3.0, -33.0]\n",
      "[-22.0, -33.0]\n"
     ]
    }
   ],
   "source": [
    "#32. Develop a program that performs matrix addition and subtraction based on user input.\n",
    "def matrix_addition(matrix1, matrix2):\n",
    "    result = [[0 for _ in range(len(matrix1[0]))] for _ in range(len(matrix1))]\n",
    "\n",
    "    for i in range(len(matrix1)):\n",
    "        for j in range(len(matrix1[0])):\n",
    "            result[i][j] = matrix1[i][j] + matrix2[i][j]\n",
    "\n",
    "    return result\n",
    "\n",
    "def matrix_subtraction(matrix1, matrix2):\n",
    "    result = [[0 for _ in range(len(matrix1[0]))] for _ in range(len(matrix1))]\n",
    "\n",
    "    for i in range(len(matrix1)):\n",
    "        for j in range(len(matrix1[0])):\n",
    "            result[i][j] = matrix1[i][j] - matrix2[i][j]\n",
    "\n",
    "    return result\n",
    "\n",
    "def input_matrix():\n",
    "    rows = int(input(\"Enter the number of rows: \"))\n",
    "    cols = int(input(\"Enter the number of columns: \"))\n",
    "\n",
    "    matrix = []\n",
    "    print(f\"Enter the matrix elements ({rows}x{cols}):\")\n",
    "    for i in range(rows):\n",
    "        row = [float(x) for x in input(f\"Row {i + 1}: \").split()]\n",
    "        matrix.append(row)\n",
    "\n",
    "    return matrix\n",
    "\n",
    "\n",
    "\n",
    "\n",
    "def display_matrix(matrix, label):\n",
    "    print(f\"\\n{label}:\")\n",
    "    for row in matrix:\n",
    "        print(row)\n",
    "\n",
    "# Get user input for the matrices\n",
    "print(\"Enter details for Matrix A:\")\n",
    "matrix_A = input_matrix()\n",
    "\n",
    "print(\"\\nEnter details for Matrix B:\")\n",
    "matrix_B = input_matrix()\n",
    "\n",
    "# Perform matrix addition and subtraction\n",
    "matrix_sum = matrix_addition(matrix_A, matrix_B)\n",
    "matrix_difference = matrix_subtraction(matrix_A, matrix_B)\n",
    "\n",
    "# Display the result\n",
    "display_matrix(matrix_A, \"Matrix A\")\n",
    "display_matrix(matrix_B, \"Matrix B\")\n",
    "display_matrix(matrix_sum, \"Matrix A + Matrix B (Sum)\")\n",
    "display_matrix(matrix_difference, \"Matrix A - Matrix B (Difference)\")\n"
   ]
  },
  {
   "cell_type": "code",
   "execution_count": 4,
   "id": "f0358b22",
   "metadata": {},
   "outputs": [
    {
     "name": "stdout",
     "output_type": "stream",
     "text": [
      "Enter the first number: 12\n",
      "Enter the second number: 45\n",
      "The GCD of 12 and 45 is: 3\n"
     ]
    }
   ],
   "source": [
    "# Write a program that calculates the greatest common divisor (GCD) of two numbers using the Euclidean algorithm.\n",
    "def euclidean_gcd(a, b):\n",
    "    while b:\n",
    "        a, b = b, a % b\n",
    "    return a\n",
    "\n",
    "# Get user input for two numbers\n",
    "num1 = int(input(\"Enter the first number: \"))\n",
    "num2 = int(input(\"Enter the second number: \"))\n",
    "\n",
    "# Calculate the GCD using the Euclidean algorithm\n",
    "gcd_result = euclidean_gcd(num1, num2)\n",
    "\n",
    "# Display the result\n",
    "print(f\"The GCD of {num1} and {num2} is: {gcd_result}\")\n"
   ]
  },
  {
   "cell_type": "code",
   "execution_count": 6,
   "id": "a7c89241",
   "metadata": {},
   "outputs": [
    {
     "name": "stdout",
     "output_type": "stream",
     "text": [
      "Enter details for Matrix A:\n",
      "Enter the number of rows: 2\n",
      "Enter the number of columns: 2\n",
      "Enter the matrix elements (2x2):\n",
      "Row 1: 23 43\n",
      "Row 2: 45 56\n",
      "\n",
      "Enter details for Matrix B:\n",
      "Enter the number of rows: 2\n",
      "Enter the number of columns: 2\n",
      "Enter the matrix elements (2x2):\n",
      "Row 1: 23 45\n",
      "Row 2: 56 76\n",
      "\n",
      "Matrix A:\n",
      "[23.0, 43.0]\n",
      "[45.0, 56.0]\n",
      "\n",
      "Matrix B:\n",
      "[23.0, 45.0]\n",
      "[56.0, 76.0]\n",
      "\n",
      "Mat:\n",
      "[2937.0, 4303.0]\n",
      "[4171.0, 6281.0]\n"
     ]
    }
   ],
   "source": [
    "# Build a program that performs matrix multiplication using nested loops and conditional statements.\n",
    "def matrix_multiply(matrix1, matrix2):\n",
    "    rows1, cols1 = len(matrix1), len(matrix1[0])\n",
    "    rows2, cols2 = len(matrix2), len(matrix2[0])\n",
    "\n",
    "    # Check if matrix multiplication is possible\n",
    "    if cols1 != rows2:\n",
    "        return None\n",
    "\n",
    "    result = [[0 for _ in range(cols2)] for _ in range(rows1)]\n",
    "\n",
    "    for i in range(rows1):\n",
    "        for j in range(cols2):\n",
    "            for k in range(cols1):\n",
    "                result[i][j] += matrix1[i][k] * matrix2[k][j]\n",
    "\n",
    "    return result\n",
    "\n",
    "def input_matrix():\n",
    "    rows = int(input(\"Enter the number of rows: \"))\n",
    "    cols = int(input(\"Enter the number of columns: \"))\n",
    "\n",
    "    matrix = []\n",
    "    print(f\"Enter the matrix elements ({rows}x{cols}):\")\n",
    "    for i in range(rows):\n",
    "        row = [float(x) for x in input(f\"Row {i + 1}: \").split()]\n",
    "        matrix.append(row)\n",
    "\n",
    "    return matrix\n",
    "\n",
    "def display_matrix(matrix, label):\n",
    "    print(f\"\\n{label}:\")\n",
    "    for row in matrix:\n",
    "        print(row)\n",
    "\n",
    "# Get user input for matrices A and B\n",
    "print(\"Enter details for Matrix A:\")\n",
    "matrix_A = input_matrix()\n",
    "\n",
    "print(\"\\nEnter details for Matrix B:\")\n",
    "matrix_B = input_matrix()\n",
    "\n",
    "# Perform matrix multiplication\n",
    "matrix_result = matrix_multiply(matrix_A, matrix_B)\n",
    "\n",
    "# Display the result\n",
    "display_matrix(matrix_A, \"Matrix A\")\n",
    "display_matrix(matrix_B, \"Matrix B\")\n",
    "\n",
    "if matrix_result:\n",
    "    display_matrix(matrix_result, \"Mat\")\n"
   ]
  },
  {
   "cell_type": "code",
   "execution_count": 7,
   "id": "387b13f9",
   "metadata": {},
   "outputs": [
    {
     "name": "stdout",
     "output_type": "stream",
     "text": [
      "Welcome to Tic-Tac-Toe!\n",
      "  |   |  \n",
      "---------\n",
      "  |   |  \n",
      "---------\n",
      "  |   |  \n",
      "---------\n",
      "Enter the row (1, 2, or 3): 2\n",
      "Enter the column (1, 2, or 3): 3\n",
      "  |   |  \n",
      "---------\n",
      "  |   | X\n",
      "---------\n",
      "  |   |  \n",
      "---------\n",
      "Computer's turn:\n",
      "  | O |  \n",
      "---------\n",
      "  |   | X\n",
      "---------\n",
      "  |   |  \n",
      "---------\n",
      "Enter the row (1, 2, or 3): 2\n",
      "Enter the column (1, 2, or 3): 2\n",
      "  | O |  \n",
      "---------\n",
      "  | X | X\n",
      "---------\n",
      "  |   |  \n",
      "---------\n",
      "Computer's turn:\n",
      "  | O | O\n",
      "---------\n",
      "  | X | X\n",
      "---------\n",
      "  |   |  \n",
      "---------\n",
      "Enter the row (1, 2, or 3): 2\n",
      "Enter the column (1, 2, or 3): 1\n",
      "  | O | O\n",
      "---------\n",
      "X | X | X\n",
      "---------\n",
      "  |   |  \n",
      "---------\n",
      "Congratulations! You win!\n"
     ]
    }
   ],
   "source": [
    "#Create a program that simulates a basic text-based tic-tac-toe game against the computer.\n",
    "import random\n",
    "\n",
    "def print_board(board):\n",
    "    for row in board:\n",
    "        print(\" | \".join(row))\n",
    "        print(\"-\" * 9)\n",
    "\n",
    "def check_winner(board, player):\n",
    "    # Check rows and columns\n",
    "    for i in range(3):\n",
    "        if all(board[i][j] == player for j in range(3)) or all(board[j][i] == player for j in range(3)):\n",
    "            return True\n",
    "\n",
    "    # Check diagonals\n",
    "    if all(board[i][i] == player for i in range(3)) or all(board[i][2 - i] == player for i in range(3)):\n",
    "        return True\n",
    "\n",
    "    return False\n",
    "\n",
    "def is_board_full(board):\n",
    "    return all(board[i][j] != ' ' for i in range(3) for j in range(3))\n",
    "import random\n",
    "\n",
    "def print_board(board):\n",
    "    for row in board:\n",
    "        print(\" | \".join(row))\n",
    "        print(\"-\" * 9)\n",
    "\n",
    "def check_winner(board, player):\n",
    "    # Check rows and columns\n",
    "    for i in range(3):\n",
    "        if all(board[i][j] == player for j in range(3)) or all(board[j][i] == player for j in range(3)):\n",
    "            return True\n",
    "\n",
    "    # Check diagonals\n",
    "    if all(board[i][i] == player for i in range(3)) or all(board[i][2 - i] == player for i in range(3)):\n",
    "        return True\n",
    "\n",
    "    return False\n",
    "\n",
    "def is_board_full(board):\n",
    "    return all(board[i][j] != ' ' for i in range(3) for j in range(3))\n",
    "\n",
    "def get_empty_positions(board):\n",
    "    return [(i, j) for i in range(3) for j in range(3) if board[i][j] == ' ']\n",
    "\n",
    "def player_move(board):\n",
    "    while True:\n",
    "        try:\n",
    "            row = int(input(\"Enter the row (1, 2, or 3): \")) - 1\n",
    "            col = int(input(\"Enter the column (1, 2, or 3): \")) - 1\n",
    "\n",
    "            if board[row][col] == ' ':\n",
    "                return row, col\n",
    "            else:\n",
    "                print(\"That position is already taken. Try again.\")\n",
    "        except (ValueError, IndexError):\n",
    "            print(\"Invalid input. Please enter a valid row and column.\")\n",
    "\n",
    "def computer_move(board):\n",
    "    empty_positions = get_empty_positions(board)\n",
    "    return random.choice(empty_positions)\n",
    "\n",
    "def play_tic_tac_toe():\n",
    "    board = [[' ' for _ in range(3)] for _ in range(3)]\n",
    "\n",
    "    print(\"Welcome to Tic-Tac-Toe!\")\n",
    "    print_board(board)\n",
    "\n",
    "    while True:\n",
    "        # Player move\n",
    "        player_row, player_col = player_move(board)\n",
    "        board[player_row][player_col] = 'X'\n",
    "        print_board(board)\n",
    "\n",
    "        # Check if the player wins\n",
    "        if check_winner(board, 'X'):\n",
    "            print(\"Congratulations! You win!\")\n",
    "            break\n",
    "\n",
    "        # Check for a tie\n",
    "        if is_board_full(board):\n",
    "            print(\"It's a tie!\")\n",
    "            break\n",
    "\n",
    "        # Computer move\n",
    "        print(\"Computer's turn:\")\n",
    "        computer_row, computer_col = computer_move(board)\n",
    "        board[computer_row][computer_col] = 'O'\n",
    "        print_board(board)\n",
    "\n",
    "        # Check if the computer wins\n",
    "        if check_winner(board, 'O'):\n",
    "            print(\"Oops! The computer wins!\")\n",
    "            break\n",
    "\n",
    "        # Check for a tie\n",
    "        if is_board_full(board):\n",
    "            print(\"It's a tie!\")\n",
    "            break\n",
    "\n",
    "if __name__ == \"__main__\":\n",
    "    play_tic_tac_toe()\n"
   ]
  },
  {
   "cell_type": "code",
   "execution_count": 8,
   "id": "dba3f476",
   "metadata": {},
   "outputs": [
    {
     "name": "stdout",
     "output_type": "stream",
     "text": [
      "Enter the number of Fibonacci terms to generate: 12\n",
      "\n",
      "Fibonacci sequence up to term 12:\n",
      "[0, 1, 1, 2, 3, 5, 8, 13, 21, 34, 55, 89]\n"
     ]
    }
   ],
   "source": [
    " #Write a program that generates Fibonacci numbers up to a specified term using iterative methods.#\n",
    "def generate_fibonacci(n):\n",
    "    fibonacci_sequence = [0, 1]\n",
    "\n",
    "    for i in range(2, n):\n",
    "        next_term = fibonacci_sequence[i - 1] + fibonacci_sequence[i - 2]\n",
    "        fibonacci_sequence.append(next_term)\n",
    "\n",
    "    return fibonacci_sequence\n",
    "\n",
    "# Get user input for the number of terms\n",
    "try:\n",
    "    n = int(input(\"Enter the number of Fibonacci terms to generate: \"))\n",
    "    if n < 1:\n",
    "        raise ValueError(\"Please enter a positive integer.\")\n",
    "except ValueError as e:\n",
    "    print(f\"Error: {e}\")\n",
    "    exit()\n",
    "\n",
    "# Generate and display Fibonacci sequence\n",
    "fibonacci_sequence = generate_fibonacci(n)\n",
    "print(f\"\\nFibonacci sequence up to term {n}:\")\n",
    "print(fibonacci_sequence)"
   ]
  },
  {
   "cell_type": "code",
   "execution_count": 9,
   "id": "09688f01",
   "metadata": {},
   "outputs": [
    {
     "name": "stdout",
     "output_type": "stream",
     "text": [
      "Enter the desired term (n) for the Fibonacci sequence: 23\n",
      "\n",
      "The 23-th term of the Fibonacci sequence is: 28657\n"
     ]
    }
   ],
   "source": [
    "#Develop a program that calculates the nth term of the Fibonacci sequence using memoization.\n",
    "def fibonacci_memoization(n, memo={}):\n",
    "    if n <= 1:\n",
    "        return n\n",
    "\n",
    "    if n not in memo:\n",
    "        memo[n] = fibonacci_memoization(n - 1, memo) + fibonacci_memoization(n - 2, memo)\n",
    "\n",
    "    return memo[n]\n",
    "\n",
    "# Get user input for the desired term\n",
    "try:\n",
    "    term = int(input(\"Enter the desired term (n) for the Fibonacci sequence: \"))\n",
    "    if term < 0:\n",
    "        raise ValueError(\"Please enter a non-negative integer.\")\n",
    "except ValueError as e:\n",
    "    print(f\"Error: {e}\")\n",
    "    exit()\n",
    "\n",
    "# Calculate and display the nth term of the Fibonacci sequence\n",
    "result = fibonacci_memoization(term)\n",
    "print(f\"\\nThe {term}-th term of the Fibonacci sequence is: {result}\")\n"
   ]
  },
  {
   "cell_type": "code",
   "execution_count": 2,
   "id": "206b25fe",
   "metadata": {},
   "outputs": [
    {
     "name": "stdout",
     "output_type": "stream",
     "text": [
      "Enter the year: 2003\n",
      "Enter the month (1-12): 10\n",
      "\n",
      "Calendar for October 2003:\n",
      "\n",
      " Mo Tu We Th Fr Sa Su\n",
      "       1  2  3  4  5 \n",
      " 6  7  8  9 10 11 12 \n",
      "13 14 15 16 17 18 19 \n",
      "20 21 22 23 24 25 26 \n",
      "27 28 29 30 31       \n"
     ]
    }
   ],
   "source": [
    "# Create a program that generates a calendar for a given month and year using conditional statements.\n",
    "import calendar\n",
    "\n",
    "def generate_calendar(year, month):\n",
    "    cal = calendar.monthcalendar(year, month)\n",
    "    return cal\n",
    "\n",
    "# Get user input for the year and month\n",
    "try:\n",
    "    year = int(input(\"Enter the year: \"))\n",
    "    month = int(input(\"Enter the month (1-12): \"))\n",
    "    if not (1 <= month <= 12):\n",
    "        raise ValueError(\"Month should be in the range 1-12.\")\n",
    "except ValueError as e:\n",
    "    print(f\"Error: {e}\")\n",
    "    exit()\n",
    "\n",
    "# Generate and display the calendar\n",
    "cal = generate_calendar(year, month)\n",
    "print(f\"\\nCalendar for {calendar.month_name[month]} {year}:\\n\")\n",
    "print(\" Mo Tu We Th Fr Sa Su\")\n",
    "\n",
    "for week in cal:\n",
    "    week_str = \"\"\n",
    "    for day in week:\n",
    "        if day == 0:\n",
    "            week_str += \"   \"\n",
    "        else:\n",
    "            week_str += f\"{day:2d} \"\n",
    "    print(week_str)\n"
   ]
  },
  {
   "cell_type": "code",
   "execution_count": 3,
   "id": "6b1b0dc9",
   "metadata": {},
   "outputs": [
    {
     "name": "stdout",
     "output_type": "stream",
     "text": [
      "Your cards: [2, 11], current score: 13\n",
      "Computer's first card: 8\n",
      "Type 'y' to get another card, 'n' to pass: y\n",
      "Your cards: [2, 11, 3], current score: 16\n",
      "Computer's first card: 8\n",
      "Type 'y' to get another card, 'n' to pass: n\n",
      "\n",
      "Your final hand: [2, 11, 3], final score: 16\n",
      "Computer's final hand: [8, 10], final score: 18\n",
      "You lose!\n"
     ]
    }
   ],
   "source": [
    "#39. Build a program that simulates a basic text-based blackjack game against the computer.\n",
    "import random\n",
    "\n",
    "def deal_card():\n",
    "    cards = [11, 2, 3, 4, 5, 6, 7, 8, 9, 10, 10, 10, 10]\n",
    "    return random.choice(cards)\n",
    "\n",
    "def calculate_score(cards):\n",
    "    if sum(cards) == 21 and len(cards) == 2:\n",
    "        return 0  # Blackjack\n",
    "    if 11 in cards and sum(cards) > 21:\n",
    "        cards.remove(11)\n",
    "        cards.append(1)\n",
    "    return sum(cards)\n",
    "\n",
    "def compare(user_score, computer_score):\n",
    "    if user_score > 21 and computer_score > 21:\n",
    "        return \"You went over. You lose!\"\n",
    "    if user_score == computer_score:\n",
    "        return \"It's a draw!\"\n",
    "    elif computer_score == 0:\n",
    "        return \"Computer has Blackjack. You lose!\"\n",
    "    elif user_score == 0:\n",
    "        return \"Blackjack! You win!\"\n",
    "    elif user_score > 21:\n",
    "        return \"You went over. You lose!\"\n",
    "    elif computer_score > 21:\n",
    "        return \"Computer went over. You win!\"\n",
    "    elif user_score > computer_score:\n",
    "        return \"You win!\"\n",
    "    else:\n",
    "        return \"You lose!\"\n",
    "\n",
    "def play_game():\n",
    "    user_cards = []\n",
    "    computer_cards = []\n",
    "    game_over = False\n",
    "\n",
    "    for _ in range(2):\n",
    "        user_cards.append(deal_card())\n",
    "        computer_cards.append(deal_card())\n",
    "\n",
    "    while not game_over:\n",
    "        user_score = calculate_score(user_cards)\n",
    "        computer_score = calculate_score(computer_cards)\n",
    "\n",
    "        print(f\"Your cards: {user_cards}, current score: {user_score}\")\n",
    "        print(f\"Computer's first card: {computer_cards[0]}\")\n",
    "\n",
    "        if user_score == 0 or computer_score == 0 or user_score > 21:\n",
    "            game_over = True\n",
    "        else:\n",
    "            should_continue = input(\"Type 'y' to get another card, 'n' to pass: \").lower()\n",
    "            if should_continue == 'y':\n",
    "                user_cards.append(deal_card())\n",
    "            else:\n",
    "                game_over = True\n",
    "\n",
    "    while computer_score != 0 and computer_score < 17:\n",
    "        computer_cards.append(deal_card())\n",
    "        computer_score = calculate_score(computer_cards)\n",
    "\n",
    "    print(f\"\\nYour final hand: {user_cards}, final score: {user_score}\")\n",
    "    print(f\"Computer's final hand: {computer_cards}, final score: {computer_score}\")\n",
    "    print(compare(user_score, computer_score))\n",
    "\n",
    "# Start the game\n",
    "play_game()\n"
   ]
  },
  {
   "cell_type": "code",
   "execution_count": 4,
   "id": "b68ebd54",
   "metadata": {},
   "outputs": [
    {
     "name": "stdout",
     "output_type": "stream",
     "text": [
      "Enter a positive integer: 12\n",
      "\n",
      "The prime factors of 12 are: [2, 2, 3]\n"
     ]
    }
   ],
   "source": [
    "#40.. Write a program that generates the prime factors of a given number using trial division.\n",
    "def generate_prime_factors(number):\n",
    "    prime_factors = []\n",
    "    divisor = 2\n",
    "\n",
    "    while divisor <= number:\n",
    "        if number % divisor == 0:\n",
    "            prime_factors.append(divisor)\n",
    "            number //= divisor\n",
    "        else:\n",
    "            divisor += 1\n",
    "\n",
    "    return prime_factors\n",
    "\n",
    "# Get user input for the number\n",
    "try:\n",
    "    num = int(input(\"Enter a positive integer: \"))\n",
    "    if num < 1:\n",
    "        raise ValueError(\"Please enter a positive integer.\")\n",
    "except ValueError as e:\n",
    "    print(f\"Error: {e}\")\n",
    "    exit()\n",
    "\n",
    "# Generate and display the prime factors\n",
    "result = generate_prime_factors(num)\n",
    "\n",
    "if len(result) == 1:\n",
    "    print(f\"\\nThe prime factor of {num} is: {result[0]}\")\n",
    "else:\n",
    "    print(f\"\\nThe prime factors of {num} are: {result}\")\n"
   ]
  },
  {
   "cell_type": "code",
   "execution_count": null,
   "id": "8d3fc308",
   "metadata": {},
   "outputs": [],
   "source": []
  }
 ],
 "metadata": {
  "kernelspec": {
   "display_name": "Python 3 (ipykernel)",
   "language": "python",
   "name": "python3"
  },
  "language_info": {
   "codemirror_mode": {
    "name": "ipython",
    "version": 3
   },
   "file_extension": ".py",
   "mimetype": "text/x-python",
   "name": "python",
   "nbconvert_exporter": "python",
   "pygments_lexer": "ipython3",
   "version": "3.11.5"
  }
 },
 "nbformat": 4,
 "nbformat_minor": 5
}
