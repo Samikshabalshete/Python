{
 "cells": [
  {
   "cell_type": "code",
   "execution_count": 12,
   "id": "734c89c1",
   "metadata": {},
   "outputs": [
    {
     "name": "stdout",
     "output_type": "stream",
     "text": [
      "Value of x: 50\n",
      "Value of y: 10\n"
     ]
    }
   ],
   "source": [
    "#TOPIC : PYTHON BASIC VARIABLE\n",
    "'''1. Declare two variables, `x` and `y`, and assign them integer values. Swap the\n",
    "values of these variables without using any temporary variable.'''\n",
    "x = 10\n",
    "y = 50\n",
    "\n",
    "x, y = y, x\n",
    " \n",
    "print(\"Value of x:\", x)\n",
    "print(\"Value of y:\", y)\n",
    "\n"
   ]
  },
  {
   "cell_type": "code",
   "execution_count": 13,
   "id": "baf26016",
   "metadata": {},
   "outputs": [
    {
     "name": "stdout",
     "output_type": "stream",
     "text": [
      "23\n"
     ]
    }
   ],
   "source": [
    "''' 2.Create a program that calculates the area of a rectangle. Take the length and\n",
    "width as inputs from the user and store them in variables. Calculate and\n",
    "display the area.'''\n",
    "length = int(input())"
   ]
  },
  {
   "cell_type": "code",
   "execution_count": 14,
   "id": "899bb1c0",
   "metadata": {},
   "outputs": [
    {
     "name": "stdout",
     "output_type": "stream",
     "text": [
      "34\n"
     ]
    }
   ],
   "source": [
    "width = int(input())"
   ]
  },
  {
   "cell_type": "code",
   "execution_count": 15,
   "id": "55a1c1b7",
   "metadata": {},
   "outputs": [],
   "source": [
    "area = length * width"
   ]
  },
  {
   "cell_type": "code",
   "execution_count": 16,
   "id": "4d5a8cec",
   "metadata": {},
   "outputs": [
    {
     "data": {
      "text/plain": [
       "782"
      ]
     },
     "execution_count": 16,
     "metadata": {},
     "output_type": "execute_result"
    }
   ],
   "source": [
    "area"
   ]
  },
  {
   "cell_type": "code",
   "execution_count": 19,
   "id": "bc224087",
   "metadata": {},
   "outputs": [
    {
     "name": "stdout",
     "output_type": "stream",
     "text": [
      "Tempearture in celsius :  32.4\n",
      "The temperature in fahrenheit is :  90.32\n"
     ]
    }
   ],
   "source": [
    "''' 3.Write a Python program that converts temperatures from Celsius to\n",
    "Fahrenheit. Take the temperature in Celsius as input, store it in a variable,\n",
    "convert it to Fahrenheit, and display the result.'''\n",
    "celsius = float(input(\"Tempearture in celsius :  \"))\n",
    "Fahrenheit_1 = (celsius * 1.8) + 32 \n",
    "print(\"The temperature in fahrenheit is : \" ,Fahrenheit_1 )"
   ]
  },
  {
   "cell_type": "code",
   "execution_count": 27,
   "id": "05407770",
   "metadata": {},
   "outputs": [
    {
     "name": "stdout",
     "output_type": "stream",
     "text": [
      "samiksha\n"
     ]
    }
   ],
   "source": [
    "\n",
    "#TOPIC : String Based Questions\n",
    "'''1. Write a Python program that takes a string as input and prints the length of\n",
    "the string.'''\n",
    "stringgg = input()"
   ]
  },
  {
   "cell_type": "code",
   "execution_count": 28,
   "id": "a956363e",
   "metadata": {},
   "outputs": [
    {
     "data": {
      "text/plain": [
       "str"
      ]
     },
     "execution_count": 28,
     "metadata": {},
     "output_type": "execute_result"
    }
   ],
   "source": [
    "type(string)"
   ]
  },
  {
   "cell_type": "code",
   "execution_count": 29,
   "id": "f4b662bf",
   "metadata": {},
   "outputs": [
    {
     "data": {
      "text/plain": [
       "8"
      ]
     },
     "execution_count": 29,
     "metadata": {},
     "output_type": "execute_result"
    }
   ],
   "source": [
    "len(stringgg)"
   ]
  },
  {
   "cell_type": "code",
   "execution_count": 41,
   "id": "c3d234b4",
   "metadata": {},
   "outputs": [
    {
     "name": "stdout",
     "output_type": "stream",
     "text": [
      "enter the sentence My name is Samiksha\n",
      "Number of vowels in given sentence is :  6\n"
     ]
    }
   ],
   "source": [
    "'''2. Create a program that takes a sentence from the user and counts the number\n",
    "of vowels (a, e, i, o, u) in the string.'''\n",
    "sen = input(\"enter the sentence \")\n",
    "st = sen.lower()\n",
    "count = 0\n",
    "list1 = [\"a\", \"e\",\"i\",\"o\",\"u\"]\n",
    "for char in st:\n",
    "    if char in list1:\n",
    "        count = count+1\n",
    "print(\"Number of vowels in given sentence is : \", count )\n"
   ]
  },
  {
   "cell_type": "code",
   "execution_count": 45,
   "id": "42665637",
   "metadata": {},
   "outputs": [
    {
     "name": "stdout",
     "output_type": "stream",
     "text": [
      "Given string is : My name is Samiksha\n",
      "Reversed string is : ahskimaS si eman yM\n"
     ]
    }
   ],
   "source": [
    "'''3. Given a string, reverse the order of characters using string slicing and print\n",
    "the reversed string.'''\n",
    "string = \"My name is Samiksha\"\n",
    "print(\"Given string is :\", string)\n",
    "sen =string[::-1]\n",
    "print(\"Reversed string is :\", sen)\n"
   ]
  },
  {
   "cell_type": "code",
   "execution_count": 51,
   "id": "0cd4cd60",
   "metadata": {},
   "outputs": [
    {
     "name": "stdout",
     "output_type": "stream",
     "text": [
      "Enter a string :abcddcba\n",
      "abcddcba String is palindrome\n"
     ]
    }
   ],
   "source": [
    "'''4. Write a program that takes a string as input and checks if it is a palindrome\n",
    "(reads the same forwards and backwards).'''\n",
    "s = input(\"Enter a string :\")\n",
    "if s == s[::-1]:\n",
    "    print(s + \" String is palindrome\")\n",
    "else:\n",
    "    print(s + \" String is not palindrome\")\n"
   ]
  },
  {
   "cell_type": "code",
   "execution_count": 54,
   "id": "c1253f88",
   "metadata": {},
   "outputs": [
    {
     "name": "stdout",
     "output_type": "stream",
     "text": [
      "Input a string :String is Input\n",
      "StringisInput\n"
     ]
    }
   ],
   "source": [
    "'''5. Create a program that takes a string as input and removes all the spaces from\n",
    "it. Print the modified string without spaces.'''\n",
    "string = input(\"Input a string :\")\n",
    "str2 = \"\"\n",
    "for i in string:\n",
    "    if i != \" \":\n",
    "        str2 = str2 + i\n",
    "print(str2)"
   ]
  },
  {
   "cell_type": "code",
   "execution_count": null,
   "id": "0fde98fb",
   "metadata": {},
   "outputs": [],
   "source": []
  }
 ],
 "metadata": {
  "kernelspec": {
   "display_name": "Python 3 (ipykernel)",
   "language": "python",
   "name": "python3"
  },
  "language_info": {
   "codemirror_mode": {
    "name": "ipython",
    "version": 3
   },
   "file_extension": ".py",
   "mimetype": "text/x-python",
   "name": "python",
   "nbconvert_exporter": "python",
   "pygments_lexer": "ipython3",
   "version": "3.11.5"
  }
 },
 "nbformat": 4,
 "nbformat_minor": 5
}
