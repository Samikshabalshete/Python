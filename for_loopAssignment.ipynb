{
 "cells": [
  {
   "cell_type": "markdown",
   "id": "ddc401bb",
   "metadata": {},
   "source": [
    "# Basic Level:\n",
    " "
   ]
  },
  {
   "cell_type": "code",
   "execution_count": 1,
   "id": "acf62d67",
   "metadata": {},
   "outputs": [
    {
     "name": "stdout",
     "output_type": "stream",
     "text": [
      "1\n",
      "2\n",
      "3\n",
      "4\n",
      "5\n",
      "6\n",
      "7\n",
      "8\n",
      "9\n",
      "10\n"
     ]
    }
   ],
   "source": [
    "#. Write a Python program to print the numbers from 1 to 10 using a `for` loop.\n",
    "for i in range(1,11):\n",
    "    print(i)\n",
    " "
   ]
  },
  {
   "cell_type": "code",
   "execution_count": 2,
   "id": "87c5a707",
   "metadata": {},
   "outputs": [
    {
     "name": "stdout",
     "output_type": "stream",
     "text": [
      "How many numbers : 5\n",
      "Enter number43\n",
      "Enter number34\n",
      "Enter number23\n",
      "Enter number11\n",
      "Enter number21\n",
      "Sum of numbers in list : 132\n"
     ]
    }
   ],
   "source": [
    "#2. Create a program that calculates the sum of all numbers in a list using a `for` loop.\n",
    "ls=[]\n",
    "num=int(input(\"How many numbers : \"))\n",
    "for i in range(num):\n",
    "    numbers = int(input(\"Enter number\"))\n",
    "    ls.append(numbers)\n",
    "print(\"Sum of numbers in list :\" , sum(ls))"
   ]
  },
  {
   "cell_type": "code",
   "execution_count": 3,
   "id": "ad98cb02",
   "metadata": {},
   "outputs": [
    {
     "name": "stdout",
     "output_type": "stream",
     "text": [
      "Enter a string: Samiksha\n",
      "The reversed string is: ahskimaS\n"
     ]
    }
   ],
   "source": [
    "#.3. Write a program to print the characters of a string in reverse order using a `for` loop.\n",
    "def reverse_string(string):\n",
    "  \"\"\"Reverses the order of the characters in a string.\n",
    "\n",
    "  Args:\n",
    "    string: The string to reverse.\n",
    "\n",
    "  Returns:\n",
    "    A string with the characters in reverse order.\n",
    "  \"\"\"\n",
    "\n",
    "  reversed_string = \"\"\n",
    "  for i in range(len(string) - 1, -1, -1):\n",
    "    reversed_string += string[i]\n",
    "  return reversed_string\n",
    "\n",
    "\n",
    "if __name__ == \"__main__\":\n",
    "  string = input(\"Enter a string: \")\n",
    "  reversed_string = reverse_string(string)\n",
    "  print(f\"The reversed string is: {reversed_string}\")\n"
   ]
  },
  {
   "cell_type": "code",
   "execution_count": 5,
   "id": "9d4c4584",
   "metadata": {},
   "outputs": [
    {
     "name": "stdout",
     "output_type": "stream",
     "text": [
      "enter number4\n",
      "The factorial of 4 is 24\n"
     ]
    }
   ],
   "source": [
    "#4 Develop a program that finds the factorial of a given number using a `for` loop.\n",
    "num=int(input(\"enter number\"))\n",
    "fact =1\n",
    "for i in range(1,num+1):\n",
    "    fact = fact * i\n",
    "print(\"The factorial of\" , num ,\"is\",fact)\n"
   ]
  },
  {
   "cell_type": "code",
   "execution_count": 7,
   "id": "3a9cefba",
   "metadata": {},
   "outputs": [
    {
     "name": "stdout",
     "output_type": "stream",
     "text": [
      "Enter the number5\n",
      "5 * 1 = 5\n",
      "5 * 2 = 10\n",
      "5 * 3 = 15\n",
      "5 * 4 = 20\n",
      "5 * 5 = 25\n",
      "5 * 6 = 30\n",
      "5 * 7 = 35\n",
      "5 * 8 = 40\n",
      "5 * 9 = 45\n",
      "5 * 10 = 50\n"
     ]
    }
   ],
   "source": [
    "#5. Create a program to print the multiplication table of a given number using a `for` loop.\n",
    "n=int(input(\"Enter the number\"))\n",
    "for i in range(1,11):\n",
    "    print(n ,'*',i ,\"=\",n*i)\n"
   ]
  },
  {
   "cell_type": "code",
   "execution_count": 9,
   "id": "48622fb2",
   "metadata": {},
   "outputs": [
    {
     "name": "stdout",
     "output_type": "stream",
     "text": [
      "Even numbers  [2, 4, 6]\n",
      "Odd numbers  [1, 3, 5, 7]\n"
     ]
    }
   ],
   "source": [
    "#6.Write a program that counts the number of even and odd numbers in a list using a `for` loop.\n",
    "lst=[1,2,3,4,5,6,7]\n",
    "even=[]\n",
    "odd=[]\n",
    "for i in lst:\n",
    "    if(i%2==0):\n",
    "        even.append(i)\n",
    "    else:\n",
    "        odd.append(i)\n",
    "print(\"Even numbers \",even)\n",
    "print(\"Odd numbers \",odd)\n",
    "        "
   ]
  },
  {
   "cell_type": "code",
   "execution_count": 12,
   "id": "3c622b82",
   "metadata": {},
   "outputs": [
    {
     "name": "stdout",
     "output_type": "stream",
     "text": [
      "square  : 1\n",
      "square  : 4\n",
      "square  : 9\n",
      "square  : 16\n",
      "square  : 25\n"
     ]
    }
   ],
   "source": [
    "#7. Develop a program that prints the squares of numbers from 1 to 5 using a `for` loop.\n",
    "for i in range(1,6):\n",
    "    print(\"square  :\", i*i)"
   ]
  },
  {
   "cell_type": "code",
   "execution_count": 2,
   "id": "3bd8e268",
   "metadata": {},
   "outputs": [
    {
     "name": "stdout",
     "output_type": "stream",
     "text": [
      "lenght of string is : 8\n"
     ]
    }
   ],
   "source": [
    "#8. Create a program to find the length of a string without using the `len()` function.\n",
    "string = \"Samiksha\"\n",
    "count=0\n",
    "for i in string:\n",
    "    count+=1\n",
    "print(\"lenght of string is :\",count)\n",
    "    \n",
    "    "
   ]
  },
  {
   "cell_type": "code",
   "execution_count": 6,
   "id": "8144deba",
   "metadata": {},
   "outputs": [
    {
     "name": "stdout",
     "output_type": "stream",
     "text": [
      "3.0\n"
     ]
    }
   ],
   "source": [
    "#9. Write a program that calculates the average of a list of numbers using a `for` loop.\n",
    "\n",
    "def average(numbers):\n",
    "    sum=0\n",
    "    for number in numbers:\n",
    "        sum += number\n",
    "    return sum/len(numbers)\n",
    "\n",
    "numbers = [1, 2, 3, 4, 5]\n",
    "average = average(numbers)\n",
    "print(average)\n"
   ]
  },
  {
   "cell_type": "code",
   "execution_count": 7,
   "id": "9e1c8d5f",
   "metadata": {},
   "outputs": [
    {
     "name": "stdout",
     "output_type": "stream",
     "text": [
      "Enter the number of Fibonacci numbers to print: 5\n",
      "0 1 1 2 3 "
     ]
    }
   ],
   "source": [
    "#10.Develop a program that prints the first `n` Fibonacci numbers using a `for` loop.\n",
    "def fibonacci(n):\n",
    "  \"\"\"Prints the first n Fibonacci numbers.\"\"\"\n",
    "  a, b = 0, 1\n",
    "  for i in range(n):\n",
    "    print(a, end=\" \")\n",
    "    a, b = b, a + b\n",
    "\n",
    "if __name__ == \"__main__\":\n",
    "  n = int(input(\"Enter the number of Fibonacci numbers to print: \"))\n",
    "  fibonacci(n)"
   ]
  },
  {
   "cell_type": "markdown",
   "id": "b62968aa",
   "metadata": {},
   "source": [
    "# Intermediate Level:\n"
   ]
  },
  {
   "cell_type": "code",
   "execution_count": 14,
   "id": "f0cf0765",
   "metadata": {},
   "outputs": [
    {
     "name": "stdout",
     "output_type": "stream",
     "text": [
      "[20, 30, -20, 60]\n"
     ]
    }
   ],
   "source": [
    "# 11.Write a program to check if a given list contains any duplicates using a `for` loop.\n",
    "# Python program to print \n",
    "# duplicates from a list \n",
    "# of integers\n",
    "def Repeat(x):\n",
    "\t_size = len(x)\n",
    "\trepeated = []\n",
    "\tfor i in range(_size):\n",
    "\t\tk = i + 1\n",
    "\t\tfor j in range(k, _size):\n",
    "\t\t\tif x[i] == x[j] and x[i] not in repeated:\n",
    "\t\t\t\trepeated.append(x[i])\n",
    "\treturn repeated\n",
    "\n",
    "# Driver Code\n",
    "list1 = [10, 20, 30, 20, 20, 30, 40, 50, -20, 60, 60, -20, -20]\n",
    "print (Repeat(list1))\n",
    "\n",
    "\n"
   ]
  },
  {
   "cell_type": "code",
   "execution_count": 15,
   "id": "2777a13c",
   "metadata": {},
   "outputs": [
    {
     "name": "stdout",
     "output_type": "stream",
     "text": [
      "Please, Enter the Lowest Range Value: 15\n",
      "Please, Enter the Upper Range Value: 56\n",
      "The Prime Numbers in the range are: \n",
      "17\n",
      "19\n",
      "23\n",
      "29\n",
      "31\n",
      "37\n",
      "41\n",
      "43\n",
      "47\n",
      "53\n"
     ]
    }
   ],
   "source": [
    "#12.Create a program that prints the prime numbers in a given range using a `for` loop.\n",
    "# First, we will take the input:  \n",
    "lower_value = int(input (\"Please, Enter the Lowest Range Value: \"))  \n",
    "upper_value = int(input (\"Please, Enter the Upper Range Value: \"))  \n",
    "  \n",
    "print (\"The Prime Numbers in the range are: \")  \n",
    "for number in range (lower_value, upper_value + 1):  \n",
    "    if number > 1:  \n",
    "        for i in range (2, number):  \n",
    "            if (number % i) == 0:  \n",
    "                break  \n",
    "        else:  \n",
    "            print (number) "
   ]
  },
  {
   "cell_type": "code",
   "execution_count": 19,
   "id": "c8dad429",
   "metadata": {},
   "outputs": [
    {
     "name": "stdout",
     "output_type": "stream",
     "text": [
      "Enter a string :Aeiouthrdfghioudfgj\n",
      "8\n"
     ]
    }
   ],
   "source": [
    "#13.Develop a program that counts the number of vowels in a string using a `for` loop\n",
    "string = input(\"Enter a string :\")\n",
    "count =0\n",
    "for i in string:\n",
    "    if i  in ['a','e','i','o','u','A','I','E','O','U']:\n",
    "        count +=1\n",
    "print(count)\n"
   ]
  },
  {
   "cell_type": "code",
   "execution_count": 20,
   "id": "c09bb5fe",
   "metadata": {},
   "outputs": [
    {
     "name": "stdout",
     "output_type": "stream",
     "text": [
      "89\n",
      "89\n",
      "89\n",
      "89\n"
     ]
    }
   ],
   "source": [
    "#14.Write a program to find the maximum element in a 2D list using a nested `for` loop.\n",
    "ls =[34,65,76,89]\n",
    "for i in ls:\n",
    "    print(max(ls))\n"
   ]
  },
  {
   "cell_type": "code",
   "execution_count": 2,
   "id": "5ff6cc0c",
   "metadata": {},
   "outputs": [
    {
     "name": "stdout",
     "output_type": "stream",
     "text": [
      "[1, 3, 4, 3]\n"
     ]
    }
   ],
   "source": [
    " #15.Create a program that removes all occurrences of a specific element from a list using a `for` loop.\n",
    "def remove_values_from_list(the_list, val):\n",
    "   return [value for value in the_list if value != val]\n",
    "\n",
    "x = [1, 2, 3, 4, 2, 2, 3]\n",
    "x = remove_values_from_list(x, 2)\n",
    "print(x)"
   ]
  },
  {
   "cell_type": "code",
   "execution_count": 2,
   "id": "a169c4a8",
   "metadata": {},
   "outputs": [
    {
     "name": "stdout",
     "output_type": "stream",
     "text": [
      "Enter the number3\n",
      "3 * 1 = 3\n",
      "3 * 2 = 6\n",
      "3 * 3 = 9\n",
      "3 * 4 = 12\n",
      "3 * 5 = 15\n",
      "3 * 6 = 18\n",
      "3 * 7 = 21\n",
      "3 * 8 = 24\n",
      "3 * 9 = 27\n",
      "3 * 10 = 30\n"
     ]
    }
   ],
   "source": [
    "#16.Develop a program that generates a multiplication table for numbers from 1 to 5 using a nested `for` loop.\n",
    "n = int(input(\"Enter the number\"))\n",
    "for i in range(1,11):\n",
    "    print(n ,\"*\",i,\"=\",n*i)"
   ]
  },
  {
   "cell_type": "code",
   "execution_count": 7,
   "id": "a07a44da",
   "metadata": {},
   "outputs": [
    {
     "name": "stdout",
     "output_type": "stream",
     "text": [
      "1.11\n"
     ]
    }
   ],
   "source": [
    "#17.Write a program that converts a list of Fahrenheit temperatures to Celsius using a `for` loop.\n",
    "def convert_c(f):\n",
    "    f = (f-32)*5/9\n",
    "    return round(f,2)\n",
    "print(convert_c(34))\n",
    "\n"
   ]
  },
  {
   "cell_type": "code",
   "execution_count": 10,
   "id": "b8be3e04",
   "metadata": {},
   "outputs": [
    {
     "name": "stdout",
     "output_type": "stream",
     "text": [
      "[2, 5, 7]\n"
     ]
    }
   ],
   "source": [
    "#18.. Create a program to print the common elements from two lists using a `for` loop.\n",
    "l1 = [2,4,5,6,7,8]\n",
    "l2 = [3,5,56,7,2]\n",
    "l3=[]\n",
    "for i in l1:\n",
    "    for j in l2:\n",
    "        if i==j:\n",
    "            l3.append(i)\n",
    "        else:\n",
    "            continue\n",
    "print(l3)\n",
    "            \n",
    "\n",
    "            \n",
    "            "
   ]
  },
  {
   "cell_type": "code",
   "execution_count": 15,
   "id": "7a742e48",
   "metadata": {},
   "outputs": [
    {
     "name": "stdout",
     "output_type": "stream",
     "text": [
      "Enter the number of rows you want to print :3\n",
      "* \n",
      "* * \n",
      "* * * \n"
     ]
    }
   ],
   "source": [
    "#19. Develop a program that prints the pattern of right-angled triangles using a `for` loop. Use ‘*’ to draw the pattern\n",
    "n = int(input(\"Enter the number of rows you want to print :\"))\n",
    "for i in range(n):\n",
    "    for j in range(i+1):\n",
    "        print('*',end=\" \")\n",
    "    print()"
   ]
  },
  {
   "cell_type": "code",
   "execution_count": 17,
   "id": "6bc58e91",
   "metadata": {},
   "outputs": [
    {
     "name": "stdout",
     "output_type": "stream",
     "text": [
      "The G.C.D. is 6\n"
     ]
    }
   ],
   "source": [
    "#20.Write a program to find the greatest common divisor (GCD) of two numbers using a `for` loop.\n",
    "'''The highest common factor (H.C.F) or greatest common divisor (G.C.D) of two numbers\n",
    "is the largest positive integer that perfectly divides the two given numbers. For example, the H.C.F of 12 and 14 is 2.'''\n",
    "# Python program to find H.C.F of two numbers\n",
    "\n",
    "# define a function\n",
    "def compute_hcf(x, y):\n",
    "\n",
    "# choose the smaller number\n",
    "    if x > y:\n",
    "        smaller = y\n",
    "    else:\n",
    "        smaller = x\n",
    "    for i in range(1, smaller+1):\n",
    "        if((x % i == 0) and (y % i == 0)):\n",
    "            hcf = i \n",
    "    return hcf\n",
    "\n",
    "num1 = 54 \n",
    "num2 = 24\n",
    "\n",
    "print(\"The G.C.D. is\", compute_hcf(num1, num2))\n"
   ]
  },
  {
   "cell_type": "markdown",
   "id": "4d00bfb5",
   "metadata": {},
   "source": [
    "# Advanced Level"
   ]
  },
  {
   "cell_type": "code",
   "execution_count": 1,
   "id": "0d992e4f",
   "metadata": {},
   "outputs": [
    {
     "name": "stdout",
     "output_type": "stream",
     "text": [
      "The original list is : [12, 67, 98, 34]\n",
      "List Integer Summation : [3, 13, 17, 7]\n"
     ]
    }
   ],
   "source": [
    "#21. Create a program that calculates the sum of the digits of numbers in a list using a list comprehension.\n",
    "# Python3 code to demonstrate \n",
    "# Sum of number digits in List\n",
    "# using sum() + list comprehension\n",
    "\n",
    "# Initializing list\n",
    "test_list = [12, 67, 98, 34]\n",
    "\n",
    "# printing original list\n",
    "print(\"The original list is : \" + str(test_list))\n",
    "\n",
    "# Sum of number digits in List\n",
    "# using sum() + list comprehension\n",
    "res = list(map(lambda ele: sum(int(sub) for sub in str(ele)), test_list))\n",
    "\t\n",
    "# printing result \n",
    "print (\"List Integer Summation : \" + str(res))\n"
   ]
  },
  {
   "cell_type": "code",
   "execution_count": 3,
   "id": "143e19f3",
   "metadata": {},
   "outputs": [],
   "source": [
    "#22. Write a program to find the prime factors of a given number using a `for` loop and list comprehension\n",
    "def calculate_prime_factors(N):\n",
    "    prime_factors = set()\n",
    "    if N % 2 == 0:\n",
    "        prime_factors.add(2)\n",
    "    while N % 2 == 0:\n",
    "        N = N // 2\n",
    "        if N == 1:\n",
    "            return prime_factors\n",
    "    for factor in range(3, N + 1, 2):\n",
    "        if N % factor == 0:\n",
    "            prime_factors.add(factor)\n",
    "            while N % factor == 0:\n",
    "                N = N // factor\n",
    "                if N == 1:\n",
    "                    return prime_factors"
   ]
  },
  {
   "cell_type": "code",
   "execution_count": 6,
   "id": "56000e0a",
   "metadata": {},
   "outputs": [
    {
     "data": {
      "text/plain": [
       "{2, 7}"
      ]
     },
     "execution_count": 6,
     "metadata": {},
     "output_type": "execute_result"
    }
   ],
   "source": [
    "calculate_prime_factors(56)"
   ]
  },
  {
   "cell_type": "code",
   "execution_count": 7,
   "id": "ffef9c3a",
   "metadata": {},
   "outputs": [
    {
     "name": "stdout",
     "output_type": "stream",
     "text": [
      "the unique values from 1st list is\n",
      "[10, 20, 30, 40]\n",
      "\n",
      "the unique values from 2nd list is\n",
      "[1, 2, 3, 4, 5]\n"
     ]
    }
   ],
   "source": [
    "#23. Develop a program that extracts unique elements from a list and stores them in a new list using a list comprehension\n",
    "from functools import reduce\n",
    "\n",
    "def unique(list1):\n",
    "\n",
    "\t# Print directly by using * symbol\n",
    "\tans = reduce(lambda re, x: re+[x] if x not in re else re, list1, [])\n",
    "\tprint(ans)\n",
    "\n",
    "\n",
    "# driver code\n",
    "list1 = [10, 20, 10, 30, 40, 40]\n",
    "print(\"the unique values from 1st list is\")\n",
    "unique(list1)\n",
    "\n",
    "\n",
    "list2 = [1, 2, 1, 1, 3, 4, 3, 3, 5]\n",
    "print(\"\\nthe unique values from 2nd list is\")\n",
    "unique(list2)\n"
   ]
  },
  {
   "cell_type": "code",
   "execution_count": 11,
   "id": "4f2e3b0a",
   "metadata": {},
   "outputs": [
    {
     "name": "stdout",
     "output_type": "stream",
     "text": [
      "[101, 111, 121, 131, 141, 151, 161, 171, 181, 191, 202, 212, 222, 232, 242, 252, 262, 272, 282, 292, 303, 313, 323, 333, 343, 353, 363, 373, 383, 393, 404, 414, 424, 434, 444, 454, 464, 474, 484, 494, 505, 515, 525, 535, 545, 555, 565, 575, 585, 595, 606, 616, 626, 636, 646, 656, 666, 676, 686, 696, 707, 717, 727, 737, 747, 757, 767, 777, 787, 797, 808, 818, 828, 838, 848, 858, 868, 878, 888, 898, 909, 919, 929, 939, 949, 959, 969, 979, 989, 999, 1001, 1111, 1221, 1331, 1441, 1551, 1661, 1771, 1881, 1991]\n"
     ]
    }
   ],
   "source": [
    "#24. Create a program that generates a list of all palindromic numbers up to a specified limit using a list comprehension.\n",
    "def is_palindrome(num):\n",
    "\treturn str(num) == str(num)[::-1]\n",
    "\n",
    "def palindrome_range(start, end):\n",
    "\tnums = list(range(start, end+1))\n",
    "\tpalindromes = list(filter(lambda x: is_palindrome(x), nums))\n",
    "\treturn palindromes\n",
    "\n",
    "start=100\n",
    "end=2000\n",
    "print(palindrome_range(start, end))\n"
   ]
  },
  {
   "cell_type": "code",
   "execution_count": 1,
   "id": "422b596e",
   "metadata": {},
   "outputs": [
    {
     "name": "stdout",
     "output_type": "stream",
     "text": [
      "[1, 2, 3, 4, 5, 6, 7, 8, 9]\n"
     ]
    }
   ],
   "source": [
    "#25.Write a program to flatten a nested list using list comprehension.\n",
    "\n",
    "def flatten(nested_list):\n",
    "    return [item for sublist in nested_list for item in sublist]\n",
    "\n",
    "\n",
    "nested_list = [[1, 2, 3], [4, 5, 6], [7], [8, 9]]\n",
    "flattened_list = flatten(nested_list)\n",
    "print(flattened_list)"
   ]
  },
  {
   "cell_type": "code",
   "execution_count": 2,
   "id": "6f2ee782",
   "metadata": {},
   "outputs": [
    {
     "name": "stdout",
     "output_type": "stream",
     "text": [
      "The original list is : [345, 893, 1948, 34, 2346]\n",
      "Odd digit sum : 36\n",
      "Even digit sum : 40\n"
     ]
    }
   ],
   "source": [
    "#26. Develop a program that computes the sum of even and odd numbers in a list separately using list comprehension.#\n",
    "# initializing list\n",
    "test_list = [345, 893, 1948, 34, 2346]\n",
    "\n",
    "# printing original list\n",
    "print(\"The original list is : \" + str(test_list))\n",
    "\n",
    "odd_sum = 0\n",
    "even_sum = 0\n",
    "\n",
    "for sub in test_list:\n",
    "\n",
    "\t# sum() used to get summation of even and odd elements\n",
    "\todd_sum += sum([int(ele) for ele in str(sub) if int(ele) % 2 == 1])\n",
    "\teven_sum += sum([int(ele) for ele in str(sub) if int(ele) % 2 == 0])\n",
    "\n",
    "# printing result\n",
    "print(\"Odd digit sum : \" + str(odd_sum))\n",
    "print(\"Even digit sum : \" + str(even_sum))\n"
   ]
  },
  {
   "cell_type": "code",
   "execution_count": 4,
   "id": "b5da62c5",
   "metadata": {},
   "outputs": [
    {
     "name": "stdout",
     "output_type": "stream",
     "text": [
      "[1, 9, 25, 49, 81]\n"
     ]
    }
   ],
   "source": [
    "#27.. Create a program that generates a list of squares of odd numbers between 1 and 10 using list comprehension.\n",
    "\n",
    "squares = [x**2 for x in range(1, 11) if x % 2 != 0]\n",
    "print(squares)"
   ]
  },
  {
   "cell_type": "code",
   "execution_count": 5,
   "id": "b12e56ab",
   "metadata": {},
   "outputs": [
    {
     "name": "stdout",
     "output_type": "stream",
     "text": [
      "Original key list is : ['Rash', 'Kil', 'Varsha']\n",
      "Original value list is : [1, 4, 5]\n",
      "Resultant dictionary is : {'Rash': 1, 'Kil': 4, 'Varsha': 5}\n"
     ]
    }
   ],
   "source": [
    "#28. Write a program that combines two lists into a dictionary using list comprehension\n",
    "# Python3 code to demonstrate\n",
    "# conversion of lists to dictionary\n",
    "# using dictionary comprehension\n",
    "\n",
    "# initializing lists\n",
    "test_keys = [\"Rash\", \"Kil\", \"Varsha\"]\n",
    "test_values = [1, 4, 5]\n",
    "\n",
    "# Printing original keys-value lists\n",
    "print(\"Original key list is : \" + str(test_keys))\n",
    "print(\"Original value list is : \" + str(test_values))\n",
    "\n",
    "# using dictionary comprehension\n",
    "# to convert lists to dictionary\n",
    "res = {test_keys[i]: test_values[i] for i in range(len(test_keys))}\n",
    "\n",
    "# Printing resultant dictionary\n",
    "print(\"Resultant dictionary is : \" + str(res))\n"
   ]
  },
  {
   "cell_type": "code",
   "execution_count": 9,
   "id": "5cc6b1fd",
   "metadata": {},
   "outputs": [
    {
     "name": "stdout",
     "output_type": "stream",
     "text": [
      "Enter a string: Samiksha Sachin JA/in\n",
      "The vowels in the string are: ['a', 'i', 'a', 'a', 'i', 'A', 'i']\n"
     ]
    }
   ],
   "source": [
    "#29. Develop a program that extracts the vowels from a string and stores them in a list using list comprehension.\n",
    "vowels = \"aeiouAEIOU\"\n",
    "\"\"\"Extracts the vowels from a string and stores them in a list using list comprehension.\"\"\"\n",
    "def extract_vowels(string):\n",
    "    return [char for char in string if char in vowels]\n",
    "\n",
    "    \n",
    "\n",
    "    \n",
    "string = input(\"Enter a string: \")\n",
    "vowels_list = extract_vowels(string)\n",
    "print(\"The vowels in the string are:\", vowels_list)"
   ]
  },
  {
   "cell_type": "code",
   "execution_count": 13,
   "id": "13e022c9",
   "metadata": {},
   "outputs": [
    {
     "name": "stdout",
     "output_type": "stream",
     "text": [
      "['1234567890', '', '']\n"
     ]
    }
   ],
   "source": [
    "#30. Create a python program that removes all non-numeric characters from a list of strings using list comprehension.\n",
    "import re\n",
    "\n",
    "def remove_non_numeric_chars(list_of_strings):\n",
    "    return [re.sub(r\"[^\\d]\", \"\", string) for string in list_of_strings]\n",
    "   \n",
    "\n",
    "\n",
    "\n",
    "list_of_strings = [ \"1234567890\", \"This is another string with some non-numeric characters\",\"!@#$%^&*()_+-=\"]\n",
    "print(remove_non_numeric_chars(list_of_strings))"
   ]
  },
  {
   "cell_type": "markdown",
   "id": "60e28e70",
   "metadata": {},
   "source": [
    "# Challenge Level:"
   ]
  },
  {
   "cell_type": "code",
   "execution_count": 18,
   "id": "c1baa8d5",
   "metadata": {},
   "outputs": [],
   "source": [
    "#31. Write a program to generate a list of prime numbers using the Sieve of Eratosthenes algorithm and list comprehension.\n",
    "def prime_sieve(n) :\n",
    "    prime =[0 for i in range(101)]\n",
    "    for i in range(2,n+1):#2 to 50\n",
    "        if prime[i] == 0:\n",
    "            for j in range(i*i,n+1,i):\n",
    "                prime[j]=1 # 1 will be numbers which are composite\n",
    "    for i in range(2,n+1):\n",
    "        if prime[i] == 0:\n",
    "            print(i, end=' ')\n",
    "        "
   ]
  },
  {
   "cell_type": "code",
   "execution_count": 20,
   "id": "6f10ea92",
   "metadata": {},
   "outputs": [
    {
     "name": "stdout",
     "output_type": "stream",
     "text": [
      "2 3 5 7 11 13 17 19 23 29 31 37 41 43 47 53 59 61 67 "
     ]
    }
   ],
   "source": [
    "prime_sieve(70)"
   ]
  },
  {
   "cell_type": "code",
   "execution_count": 21,
   "id": "5d3749d8",
   "metadata": {},
   "outputs": [],
   "source": [
    "#32.Create a program that generates a list of all Pythagorean triplets up to a specified limit using list comprehension.\n",
    "def pythagorean_triples(limit):\n",
    "    return [(a, b, c) for a in range(1, limit + 1) for b in range(a, limit + 1)\n",
    "            for c in range(b, limit + 1) if a**2 + b**2 == c**2]"
   ]
  },
  {
   "cell_type": "code",
   "execution_count": 22,
   "id": "01bcf4cf",
   "metadata": {},
   "outputs": [
    {
     "name": "stdout",
     "output_type": "stream",
     "text": [
      "Enter the limit: 67\n",
      "[(3, 4, 5), (5, 12, 13), (6, 8, 10), (7, 24, 25), (8, 15, 17), (9, 12, 15), (9, 40, 41), (10, 24, 26), (11, 60, 61), (12, 16, 20), (12, 35, 37), (14, 48, 50), (15, 20, 25), (15, 36, 39), (16, 30, 34), (16, 63, 65), (18, 24, 30), (20, 21, 29), (20, 48, 52), (21, 28, 35), (24, 32, 40), (24, 45, 51), (25, 60, 65), (27, 36, 45), (28, 45, 53), (30, 40, 50), (33, 44, 55), (33, 56, 65), (36, 48, 60), (39, 52, 65), (40, 42, 58)]\n"
     ]
    }
   ],
   "source": [
    "limit = int(input('Enter the limit: '))\n",
    "print(pythagorean_triples(limit))"
   ]
  },
  {
   "cell_type": "code",
   "execution_count": 3,
   "id": "f16cf054",
   "metadata": {},
   "outputs": [
    {
     "name": "stdout",
     "output_type": "stream",
     "text": [
      "[[1, 4], [1, 5], [1, 6], [2, 4], [2, 5], [2, 6], [3, 4], [3, 5], [3, 6]]\n"
     ]
    }
   ],
   "source": [
    "#33. Develop a program that generates a list of all possible combinations of two lists using list comprehension.\n",
    "\"\"\"Returns a list of all possible combinations of two lists.\"\"\"\n",
    "import itertools\n",
    "def combinations(list1, list2):\n",
    "     return [list(x) for x in itertools.product(list1, list2)]\n",
    "    \n",
    "list1 = [1, 2, 3]\n",
    "list2 = [4, 5, 6]\n",
    "combinations_list = combinations(list1, list2)\n",
    "print(combinations_list)"
   ]
  },
  {
   "cell_type": "code",
   "execution_count": 4,
   "id": "621d62e6",
   "metadata": {},
   "outputs": [],
   "source": [
    "#34.Write a program that calculates the mean, median, and mode of a list of numbers using list comprehension\n"
   ]
  },
  {
   "cell_type": "code",
   "execution_count": 6,
   "id": "2a943b6d",
   "metadata": {},
   "outputs": [
    {
     "name": "stdout",
     "output_type": "stream",
     "text": [
      "[[1], [1, 1], [1, 2, 1], [1, 3, 3, 1], [1, 4, 6, 4, 1]]\n"
     ]
    }
   ],
   "source": [
    "#35 35. Create a program that generates Pascal's triangle up to a specified number of rows using list comprehension.\n",
    "def pascal_triangle(n):\n",
    "    triangle = [[1]]\n",
    "    for i in range(1, n):\n",
    "        triangle.append([1] + [sum(j) for j in zip(triangle[i - 1], triangle[i - 1][1:])] + [1])\n",
    "    return triangle\n",
    "\n",
    "print(pascal_triangle(5))"
   ]
  },
  {
   "cell_type": "code",
   "execution_count": 7,
   "id": "175b74ce",
   "metadata": {},
   "outputs": [
    {
     "name": "stdout",
     "output_type": "stream",
     "text": [
      "27\n",
      "648\n"
     ]
    }
   ],
   "source": [
    "#36. Develop a program that calculates the sum of the digits of a factorial of numbers from 1 to 5 using list comprehension.\n",
    "def sum_of_digits_factorial(n):\n",
    "\tfact = 1\n",
    "\tfor i in range(2, n+1):\n",
    "\t\tfact *= i\n",
    "\tsum_of_digits = 0\n",
    "\tfor digit in str(fact):\n",
    "\t\tsum_of_digits += int(digit)\n",
    "\treturn sum_of_digits\n",
    "\n",
    "# Example usage\n",
    "print(sum_of_digits_factorial(10)) \n",
    "print(sum_of_digits_factorial(100))\n"
   ]
  },
  {
   "cell_type": "code",
   "execution_count": 9,
   "id": "319e4491",
   "metadata": {},
   "outputs": [
    {
     "name": "stdout",
     "output_type": "stream",
     "text": [
      "The longest word in 'The quick brown fox jumps over the lazy dog.' is 'quick'.\n"
     ]
    }
   ],
   "source": [
    "#37. Write a program that finds the longest word in a sentence using list comprehension.\n",
    "def find_longest_word(sentence):\n",
    "    words = sentence.split()\n",
    "    longest_word = max([word for word in words if word.isalpha()], key=len)\n",
    "    return longest_word\n",
    "\n",
    "\n",
    "\n",
    "sentence = \"The quick brown fox jumps over the lazy dog.\"  \n",
    "longest_word = find_longest_word(sentence)\n",
    "print(f\"The longest word in '{sentence}' is '{longest_word}'.\")"
   ]
  },
  {
   "cell_type": "code",
   "execution_count": 15,
   "id": "9eac3e3c",
   "metadata": {},
   "outputs": [
    {
     "name": "stdout",
     "output_type": "stream",
     "text": [
      "['Samikshai']\n"
     ]
    }
   ],
   "source": [
    "#38.Create a program that filters a list of strings to include only those with more than three vowels using list comprehension.\n",
    "vowels = 'aeiouAEIOU'\n",
    "list_of_strings=['The', 'quick', 'brown', 'fox' ,'jumps' ,'over', 'the' ,'lazy' ,'dog', 'Samikshai']\n",
    "\n",
    "def filter_vowels(string):\n",
    "    return sum(char in vowels for char in string) > 3\n",
    "\n",
    "filtered_list = [string for string in list_of_strings if filter_vowels(string)]\n",
    "print(filtered_list)"
   ]
  },
  {
   "cell_type": "code",
   "execution_count": 16,
   "id": "6c8ad16f",
   "metadata": {},
   "outputs": [
    {
     "name": "stdout",
     "output_type": "stream",
     "text": [
      "[3, 7, 11, 15, 9]\n"
     ]
    }
   ],
   "source": [
    "#39. Develop a program that calculates the sum of the digits of numbers from 1 to 1000 using list comprehension.\n",
    "numlist = [12,34,56,78,90]\n",
    "res = [sum(map(int, str(x))) for x in numlist]\n",
    "print(res)"
   ]
  },
  {
   "cell_type": "code",
   "execution_count": 17,
   "id": "6f90ed80",
   "metadata": {},
   "outputs": [
    {
     "name": "stdout",
     "output_type": "stream",
     "text": [
      "[2, 3, 5, 7, 11, 13, 17, 19, 23, 29]\n"
     ]
    }
   ],
   "source": [
    "#40.Write a program that generates a list of prime palindromic numbers using list comprehension\n",
    "value = 30\n",
    "prime = [x for x in range(2, value) if all(x % y != 0 for y in range(2, x))]\n",
    "print(prime)"
   ]
  },
  {
   "cell_type": "code",
   "execution_count": null,
   "id": "d6dbcbd4",
   "metadata": {},
   "outputs": [],
   "source": []
  }
 ],
 "metadata": {
  "kernelspec": {
   "display_name": "Python 3 (ipykernel)",
   "language": "python",
   "name": "python3"
  },
  "language_info": {
   "codemirror_mode": {
    "name": "ipython",
    "version": 3
   },
   "file_extension": ".py",
   "mimetype": "text/x-python",
   "name": "python",
   "nbconvert_exporter": "python",
   "pygments_lexer": "ipython3",
   "version": "3.11.5"
  }
 },
 "nbformat": 4,
 "nbformat_minor": 5
}
