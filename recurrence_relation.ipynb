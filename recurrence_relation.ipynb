{
 "cells": [
  {
   "cell_type": "markdown",
   "id": "7ca4eee8",
   "metadata": {},
   "source": [
    "1.Find the value of T(2) for the recurrence relation T(n) = 3T(n-1) + 12n, given that T(0)=5."
   ]
  },
  {
   "cell_type": "code",
   "execution_count": 1,
   "id": "2f13a36d",
   "metadata": {},
   "outputs": [
    {
     "data": {
      "text/plain": [
       "105"
      ]
     },
     "execution_count": 1,
     "metadata": {},
     "output_type": "execute_result"
    }
   ],
   "source": [
    "105\n"
   ]
  },
  {
   "cell_type": "markdown",
   "id": "c68e87b8",
   "metadata": {},
   "source": [
    "2. Given a rec%rrence relation, solve it %sing the s%bstit%tion method:\n",
    "a. T(n) = T(n-1) + c\n",
    "b. T(n) = 2T(n/2) + n\n",
    "c. T(n) = 2T(n/2) + c\n",
    "d. T(n) = T(n/2) + c"
   ]
  },
  {
   "cell_type": "markdown",
   "id": "6d35fddd",
   "metadata": {},
   "source": [
    "T(n)=T(1)+nc."
   ]
  },
  {
   "cell_type": "markdown",
   "id": "8a712c15",
   "metadata": {},
   "source": [
    "3. Given a rec%rrence relation, solve it %sing the rec%rsive tree approach:\n",
    "a. T(n) = 2T(n-1) +1\n",
    "b. T(n) = 2T(n/2) + n"
   ]
  },
  {
   "cell_type": "markdown",
   "id": "ebee328d",
   "metadata": {},
   "source": [
    "T(n)=nlog *2 *n+T(1)."
   ]
  },
  {
   "cell_type": "code",
   "execution_count": null,
   "id": "4e1a420b",
   "metadata": {},
   "outputs": [],
   "source": []
  }
 ],
 "metadata": {
  "kernelspec": {
   "display_name": "Python 3 (ipykernel)",
   "language": "python",
   "name": "python3"
  },
  "language_info": {
   "codemirror_mode": {
    "name": "ipython",
    "version": 3
   },
   "file_extension": ".py",
   "mimetype": "text/x-python",
   "name": "python",
   "nbconvert_exporter": "python",
   "pygments_lexer": "ipython3",
   "version": "3.11.5"
  }
 },
 "nbformat": 4,
 "nbformat_minor": 5
}
