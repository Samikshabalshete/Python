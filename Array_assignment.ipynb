{
 "cells": [
  {
   "cell_type": "code",
   "execution_count": 4,
   "id": "f0f28c46",
   "metadata": {},
   "outputs": [
    {
     "name": "stdout",
     "output_type": "stream",
     "text": [
      "True\n"
     ]
    }
   ],
   "source": [
    "#1. Given an array, check if it contains any duplicates or not. arr = [1, 2, 4, 2, 5, 9]  Output = True\n",
    "def check_duplicate(arr):\n",
    "    seen = set()\n",
    "    for num in arr:\n",
    "        if num in seen:\n",
    "            return True\n",
    "        seen.add(num)\n",
    "    return False\n",
    "#Driver code\n",
    "arr = [1,2,3,4,5,6,5,2,7,8,9]\n",
    "print(check_duplicate(arr))   "
   ]
  },
  {
   "cell_type": "code",
   "execution_count": 5,
   "id": "da65dd31",
   "metadata": {},
   "outputs": [
    {
     "name": "stdout",
     "output_type": "stream",
     "text": [
      "[5, 6, 7, 1, 2, 3, 4]\n"
     ]
    }
   ],
   "source": [
    "#.2. Given an array and an integer k, rotate the array to the right by k steps. arr = [1, 2, 3, 4, 5, 6, 7] k = 3 \n",
    "#Output = [5, 6, 7, 1, 2, 3, 4]\n",
    "def rotate_array(arr, k):\n",
    "    # Calculate the effective rotation index\n",
    "    k = k % len(arr)\n",
    "    \n",
    "    # Rotate the array using slicing\n",
    "    rotated_array = arr[-k:] + arr[:-k]\n",
    "    \n",
    "    return rotated_array\n",
    "\n",
    "arr = [1, 2, 3, 4, 5, 6, 7]\n",
    "k = 3\n",
    "output = rotate_array(arr, k)\n",
    "print(output)\n"
   ]
  },
  {
   "cell_type": "code",
   "execution_count": 8,
   "id": "8dd06eb9",
   "metadata": {},
   "outputs": [
    {
     "name": "stdout",
     "output_type": "stream",
     "text": [
      "[12, 9, 7, 5, 4, 2]\n"
     ]
    }
   ],
   "source": [
    "#3. Reverse the given array in-place, means without using any extra data structure.arr = [2, 4, 5, 7, 9, 12] \n",
    "#Output = [12, 9, 7, 5, 4, 2]\n",
    "def reverse_arr(arr):\n",
    "    #initialize with two pointer\n",
    "    start = 0\n",
    "    end = len(arr)-1\n",
    "    while start < end :\n",
    "        #swap the start and end\n",
    "        arr[start], arr[end] = arr[end], arr[start]\n",
    "        start += 1\n",
    "        end -= 1\n",
    "#driver code \n",
    "arr = [2, 4, 5, 7, 9, 12] \n",
    "reverse_arr(arr)\n",
    "print(arr)\n"
   ]
  },
  {
   "cell_type": "code",
   "execution_count": 9,
   "id": "3fa359fc",
   "metadata": {},
   "outputs": [
    {
     "name": "stdout",
     "output_type": "stream",
     "text": [
      "10\n"
     ]
    }
   ],
   "source": [
    "#4. Given an array of integers, find the maximum element in an array\n",
    "def find_max_element(arr):\n",
    "    # Check if the array is empty\n",
    "    if not arr:\n",
    "        return None  # Return None for an empty array\n",
    "    \n",
    "    # Initialize max_element with the first element of the array\n",
    "    max_element = arr[0]\n",
    "    \n",
    "    # Iterate through the array to find the maximum element\n",
    "    for num in arr:\n",
    "        if num > max_element:\n",
    "            max_element = num  # Update max_element if a larger element is found\n",
    "    \n",
    "    return max_element\n",
    "\n",
    "# Example usage\n",
    "arr = [3, 8, 2, 10, 5]\n",
    "max_element = find_max_element(arr)\n",
    "print(max_element)\n"
   ]
  },
  {
   "cell_type": "code",
   "execution_count": 10,
   "id": "268a5af7",
   "metadata": {},
   "outputs": [
    {
     "name": "stdout",
     "output_type": "stream",
     "text": [
      "[1, 2, 3, 4, 5]\n"
     ]
    }
   ],
   "source": [
    "#5.5. Given a sorted array, remove the duplicate element without using any extra data structure. \n",
    "def remove_duplicates(arr):\n",
    "    # Check if the array is empty or has only one element\n",
    "    if len(arr) < 2:\n",
    "        return len(arr)\n",
    "    \n",
    "    # Use two pointers to track unique elements\n",
    "    unique_pointer = 0\n",
    "    \n",
    "    # Iterate through the array with the second pointer\n",
    "    for i in range(1, len(arr)):\n",
    "        if arr[i] != arr[unique_pointer]:\n",
    "            # Update the unique_pointer and overwrite the duplicate element\n",
    "            unique_pointer += 1\n",
    "            arr[unique_pointer] = arr[i]\n",
    "    \n",
    "    # The length of the array up to unique_pointer+1 contains unique elements\n",
    "    return unique_pointer + 1\n",
    "\n",
    "# Example usage\n",
    "arr = [1, 1, 2, 3, 3, 4, 4, 4, 5]\n",
    "new_length = remove_duplicates(arr)\n",
    "print(arr[:new_length])\n",
    "\n"
   ]
  },
  {
   "cell_type": "code",
   "execution_count": null,
   "id": "07e0db0e",
   "metadata": {},
   "outputs": [],
   "source": []
  }
 ],
 "metadata": {
  "kernelspec": {
   "display_name": "Python 3 (ipykernel)",
   "language": "python",
   "name": "python3"
  },
  "language_info": {
   "codemirror_mode": {
    "name": "ipython",
    "version": 3
   },
   "file_extension": ".py",
   "mimetype": "text/x-python",
   "name": "python",
   "nbconvert_exporter": "python",
   "pygments_lexer": "ipython3",
   "version": "3.11.5"
  }
 },
 "nbformat": 4,
 "nbformat_minor": 5
}
