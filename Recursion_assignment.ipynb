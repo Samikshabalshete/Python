{
 "cells": [
  {
   "cell_type": "markdown",
   "id": "c390f644",
   "metadata": {},
   "source": [
    "Q.1 Can you explain the logic and working of the Tower of Hanoi algorithm by writing a Java program?\n",
    "How does the recursion work, and how are the movements of disks between rods accomplished?"
   ]
  },
  {
   "cell_type": "code",
   "execution_count": 5,
   "id": "82c3d9da",
   "metadata": {},
   "outputs": [
    {
     "data": {
      "text/plain": [
       "15"
      ]
     },
     "execution_count": 5,
     "metadata": {},
     "output_type": "execute_result"
    }
   ],
   "source": [
    "def move(n,s,d,a):\n",
    "    if n == 1:\n",
    "        return 1\n",
    "    return move(n-1,s,a,d) +1 +move(n-1,a,d,s)\n",
    "\n",
    "move(4, 's','d','a')"
   ]
  },
  {
   "cell_type": "markdown",
   "id": "c14f646e",
   "metadata": {},
   "source": [
    "Q.2 Given two strings word1 and word2, return the minimum number of operations required to convert word1\n",
    "to word2.\n",
    "Example 1:\n",
    "Input: word1 = \"horse\", word2 = \"ros\"\n",
    "Output: 3\n",
    "Explanation:\n",
    "horse -> rorse (replace 'h' with 'r')\n",
    "rorse -> rose (remove 'r')\n",
    "rose -> ros (remove 'e')"
   ]
  },
  {
   "cell_type": "code",
   "execution_count": 7,
   "id": "10322ab8",
   "metadata": {},
   "outputs": [
    {
     "name": "stdout",
     "output_type": "stream",
     "text": [
      "Example 1 - Minimum number of operations: 3\n",
      "Example 2 - Minimum number of operations: 5\n"
     ]
    }
   ],
   "source": [
    "def min_operations(word1, word2):\n",
    "    memo = {}  # Memoization dictionary to store results of subproblems\n",
    "\n",
    "    def helper(i, j):\n",
    "        # Check if the result for the current subproblem is already memoized\n",
    "        if (i, j) in memo:\n",
    "            return memo[(i, j)]\n",
    "\n",
    "        # Base cases: if one of the strings is empty, return the length of the other string\n",
    "        if i == 0:\n",
    "            return j\n",
    "        if j == 0:\n",
    "            return i\n",
    "\n",
    "        # If the last characters are the same, no operation is needed for the current pair\n",
    "        if word1[i - 1] == word2[j - 1]:\n",
    "            result = helper(i - 1, j - 1)\n",
    "        else:\n",
    "            # If the last characters are different, consider three operations and find the minimum\n",
    "            insert = helper(i, j - 1)\n",
    "            delete = helper(i - 1, j)\n",
    "            replace = helper(i - 1, j - 1)\n",
    "            result = 1 + min(insert, delete, replace)\n",
    "\n",
    "        # Memoize the result for the current subproblem\n",
    "        memo[(i, j)] = result\n",
    "        return result\n",
    "\n",
    "    return helper(len(word1), len(word2))\n",
    "\n",
    "# Example usage:\n",
    "word1_1, word2_1 = \"horse\", \"ros\"\n",
    "result_1 = min_operations(word1_1, word2_1)\n",
    "print(\"Example 1 - Minimum number of operations:\", result_1)\n",
    "\n",
    "word1_2, word2_2 = \"intention\", \"execution\"\n",
    "result_2 = min_operations(word1_2, word2_2)\n",
    "print(\"Example 2 - Minimum number of operations:\", result_2)\n",
    "\n"
   ]
  },
  {
   "cell_type": "markdown",
   "id": "7965af33",
   "metadata": {},
   "source": [
    "Q. 3 Print the max value of the array [ 13, 1, -3, 22, 5]."
   ]
  },
  {
   "cell_type": "code",
   "execution_count": 8,
   "id": "77aa6e7b",
   "metadata": {},
   "outputs": [
    {
     "name": "stdout",
     "output_type": "stream",
     "text": [
      "The maximum value in the array is: 22\n"
     ]
    }
   ],
   "source": [
    "def find_max_recursive(arr, n):\n",
    "    # Base case: if the array is empty, return a very small value\n",
    "    if n == 0:\n",
    "        return float('-inf')\n",
    "    \n",
    "    # Recursive case: find the maximum value in the subarray excluding the last element\n",
    "    max_in_subarray = find_max_recursive(arr, n - 1)\n",
    "\n",
    "    # Compare the maximum value in the subarray with the last element\n",
    "    return max(max_in_subarray, arr[n - 1])\n",
    "\n",
    "# Example usage:\n",
    "arr = [13, 1, -3, 22, 5]\n",
    "result = find_max_recursive(arr, len(arr))\n",
    "print(\"The maximum value in the array is:\", result)\n"
   ]
  },
  {
   "cell_type": "markdown",
   "id": "df557794",
   "metadata": {},
   "source": [
    "Q.4 Find the sum of the values of the array [92, 23, 15, -20, 10]."
   ]
  },
  {
   "cell_type": "code",
   "execution_count": 9,
   "id": "c010b195",
   "metadata": {},
   "outputs": [
    {
     "name": "stdout",
     "output_type": "stream",
     "text": [
      "The sum of the values in the array is: 120\n"
     ]
    }
   ],
   "source": [
    "def array_sum_recursive(arr, n):\n",
    "    # Base case: if the array is empty, return 0\n",
    "    if n == 0:\n",
    "        return 0\n",
    "    \n",
    "    # Recursive case: calculate the sum of the subarray excluding the last element\n",
    "    sum_of_subarray = array_sum_recursive(arr, n - 1)\n",
    "\n",
    "    # Add the last element to the sum of the subarray\n",
    "    return sum_of_subarray + arr[n - 1]\n",
    "\n",
    "# Example usage:\n",
    "arr = [92, 23, 15, -20, 10]\n",
    "result = array_sum_recursive(arr, len(arr))\n",
    "print(\"The sum of the values in the array is:\", result)\n"
   ]
  },
  {
   "cell_type": "markdown",
   "id": "11ab8ea9",
   "metadata": {},
   "source": [
    "Q.5 Given a number n. Print if it is an armstrong number or not.An armstrong number is a number if the sum\n",
    "of every digit in that number raised to the power of total digits in that number is equal to the number.\n",
    "Example : 153 = 1^3 + 5^3 + 3^3 = 1 + 125 + 27 = 153 hence 153 is an armstrong number. (Easy)\n",
    "Input1 : 153\n",
    "Output1 : Yes\n",
    "Input 2 : 134\n",
    "Output2 : No"
   ]
  },
  {
   "cell_type": "code",
   "execution_count": 10,
   "id": "6d7c0779",
   "metadata": {},
   "outputs": [
    {
     "name": "stdout",
     "output_type": "stream",
     "text": [
      "Input 1: 153, Output 1: Yes\n",
      "Input 2: 134, Output 2: No\n"
     ]
    }
   ],
   "source": [
    "def is_armstrong_number(n):\n",
    "    # Convert the number to a string to find the total number of digits\n",
    "    num_str = str(n)\n",
    "    total_digits = len(num_str)\n",
    "\n",
    "    # Calculate the sum of each digit raised to the power of total_digits\n",
    "    sum_of_powers = sum(int(digit) ** total_digits for digit in num_str)\n",
    "\n",
    "    # Check if the sum is equal to the original number\n",
    "    return sum_of_powers == n\n",
    "\n",
    "# Example usage:\n",
    "input_1 = 153\n",
    "output_1 = is_armstrong_number(input_1)\n",
    "print(f\"Input 1: {input_1}, Output 1: {'Yes' if output_1 else 'No'}\")\n",
    "\n",
    "input_2 = 134\n",
    "output_2 = is_armstrong_number(input_2)\n",
    "print(f\"Input 2: {input_2}, Output 2: {'Yes' if output_2 else 'No'}\")\n"
   ]
  },
  {
   "cell_type": "code",
   "execution_count": null,
   "id": "8d176070",
   "metadata": {},
   "outputs": [],
   "source": []
  }
 ],
 "metadata": {
  "kernelspec": {
   "display_name": "Python 3 (ipykernel)",
   "language": "python",
   "name": "python3"
  },
  "language_info": {
   "codemirror_mode": {
    "name": "ipython",
    "version": 3
   },
   "file_extension": ".py",
   "mimetype": "text/x-python",
   "name": "python",
   "nbconvert_exporter": "python",
   "pygments_lexer": "ipython3",
   "version": "3.11.5"
  }
 },
 "nbformat": 4,
 "nbformat_minor": 5
}
