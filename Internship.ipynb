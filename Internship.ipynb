{
 "cells": [
  {
   "cell_type": "code",
   "execution_count": 1,
   "id": "9e1c64c2",
   "metadata": {},
   "outputs": [],
   "source": [
    "import numpy as np # linear algebra\n",
    "import pandas as pd # data processing, CSV file I/O (e.g. pd.read_csv)\n",
    "import seaborn as sns"
   ]
  },
  {
   "cell_type": "code",
   "execution_count": 2,
   "id": "10a7bf1c",
   "metadata": {},
   "outputs": [],
   "source": [
    "df = pd.read_csv('C:\\\\Users\\\\Lenovo\\\\Videos\\\\movies.csv')"
   ]
  },
  {
   "cell_type": "code",
   "execution_count": 3,
   "id": "800378e8",
   "metadata": {},
   "outputs": [
    {
     "data": {
      "text/plain": [
       "(9742, 3)"
      ]
     },
     "execution_count": 3,
     "metadata": {},
     "output_type": "execute_result"
    }
   ],
   "source": [
    "df.shape "
   ]
  },
  {
   "cell_type": "code",
   "execution_count": 4,
   "id": "aadd7fcd",
   "metadata": {},
   "outputs": [],
   "source": [
    "dd = pd.read_csv('C:\\\\Users\\\\Lenovo\\\\Videos\\\\ratings.csv')"
   ]
  },
  {
   "cell_type": "code",
   "execution_count": 5,
   "id": "f1bf4706",
   "metadata": {},
   "outputs": [
    {
     "data": {
      "text/plain": [
       "(100836, 4)"
      ]
     },
     "execution_count": 5,
     "metadata": {},
     "output_type": "execute_result"
    }
   ],
   "source": [
    "dd.shape"
   ]
  },
  {
   "cell_type": "code",
   "execution_count": 6,
   "id": "9d51b3ac",
   "metadata": {},
   "outputs": [],
   "source": [
    "# Extract unique userId values\n",
    "unique_user_ids = dd['userId'].unique()"
   ]
  },
  {
   "cell_type": "code",
   "execution_count": 7,
   "id": "0d3f452e",
   "metadata": {},
   "outputs": [
    {
     "name": "stdout",
     "output_type": "stream",
     "text": [
      "Unique userId values:\n",
      "[  1   2   3   4   5   6   7   8   9  10  11  12  13  14  15  16  17  18\n",
      "  19  20  21  22  23  24  25  26  27  28  29  30  31  32  33  34  35  36\n",
      "  37  38  39  40  41  42  43  44  45  46  47  48  49  50  51  52  53  54\n",
      "  55  56  57  58  59  60  61  62  63  64  65  66  67  68  69  70  71  72\n",
      "  73  74  75  76  77  78  79  80  81  82  83  84  85  86  87  88  89  90\n",
      "  91  92  93  94  95  96  97  98  99 100 101 102 103 104 105 106 107 108\n",
      " 109 110 111 112 113 114 115 116 117 118 119 120 121 122 123 124 125 126\n",
      " 127 128 129 130 131 132 133 134 135 136 137 138 139 140 141 142 143 144\n",
      " 145 146 147 148 149 150 151 152 153 154 155 156 157 158 159 160 161 162\n",
      " 163 164 165 166 167 168 169 170 171 172 173 174 175 176 177 178 179 180\n",
      " 181 182 183 184 185 186 187 188 189 190 191 192 193 194 195 196 197 198\n",
      " 199 200 201 202 203 204 205 206 207 208 209 210 211 212 213 214 215 216\n",
      " 217 218 219 220 221 222 223 224 225 226 227 228 229 230 231 232 233 234\n",
      " 235 236 237 238 239 240 241 242 243 244 245 246 247 248 249 250 251 252\n",
      " 253 254 255 256 257 258 259 260 261 262 263 264 265 266 267 268 269 270\n",
      " 271 272 273 274 275 276 277 278 279 280 281 282 283 284 285 286 287 288\n",
      " 289 290 291 292 293 294 295 296 297 298 299 300 301 302 303 304 305 306\n",
      " 307 308 309 310 311 312 313 314 315 316 317 318 319 320 321 322 323 324\n",
      " 325 326 327 328 329 330 331 332 333 334 335 336 337 338 339 340 341 342\n",
      " 343 344 345 346 347 348 349 350 351 352 353 354 355 356 357 358 359 360\n",
      " 361 362 363 364 365 366 367 368 369 370 371 372 373 374 375 376 377 378\n",
      " 379 380 381 382 383 384 385 386 387 388 389 390 391 392 393 394 395 396\n",
      " 397 398 399 400 401 402 403 404 405 406 407 408 409 410 411 412 413 414\n",
      " 415 416 417 418 419 420 421 422 423 424 425 426 427 428 429 430 431 432\n",
      " 433 434 435 436 437 438 439 440 441 442 443 444 445 446 447 448 449 450\n",
      " 451 452 453 454 455 456 457 458 459 460 461 462 463 464 465 466 467 468\n",
      " 469 470 471 472 473 474 475 476 477 478 479 480 481 482 483 484 485 486\n",
      " 487 488 489 490 491 492 493 494 495 496 497 498 499 500 501 502 503 504\n",
      " 505 506 507 508 509 510 511 512 513 514 515 516 517 518 519 520 521 522\n",
      " 523 524 525 526 527 528 529 530 531 532 533 534 535 536 537 538 539 540\n",
      " 541 542 543 544 545 546 547 548 549 550 551 552 553 554 555 556 557 558\n",
      " 559 560 561 562 563 564 565 566 567 568 569 570 571 572 573 574 575 576\n",
      " 577 578 579 580 581 582 583 584 585 586 587 588 589 590 591 592 593 594\n",
      " 595 596 597 598 599 600 601 602 603 604 605 606 607 608 609 610]\n"
     ]
    }
   ],
   "source": [
    "# Print or use the unique userId values\n",
    "print(\"Unique userId values:\")\n",
    "print(unique_user_ids)"
   ]
  },
  {
   "cell_type": "code",
   "execution_count": 8,
   "id": "ea560946",
   "metadata": {},
   "outputs": [
    {
     "name": "stdout",
     "output_type": "stream",
     "text": [
      "Number of unique userId values: 610\n"
     ]
    }
   ],
   "source": [
    "# Count the number of unique userId values\n",
    "unique_user_id_count = dd['userId'].nunique()\n",
    "\n",
    "# Print or use the count of unique userId values\n",
    "print(\"Number of unique userId values:\", unique_user_id_count)"
   ]
  },
  {
   "cell_type": "code",
   "execution_count": 9,
   "id": "6d6131ba",
   "metadata": {},
   "outputs": [
    {
     "name": "stdout",
     "output_type": "stream",
     "text": [
      "Movie with the maximum number of user ratings (movieId): 356\n"
     ]
    }
   ],
   "source": [
    "# Group by movieId and count the number of ratings for each movie\n",
    "movie_ratings_count = dd.groupby('movieId').size()\n",
    "\n",
    "# Find the movie with the maximum number of ratings\n",
    "max_rated_movie = movie_ratings_count.idxmax()\n",
    "\n",
    "# Print the result\n",
    "print(\"Movie with the maximum number of user ratings (movieId):\", max_rated_movie)"
   ]
  },
  {
   "cell_type": "code",
   "execution_count": 10,
   "id": "e3578bc1",
   "metadata": {},
   "outputs": [
    {
     "data": {
      "text/plain": [
       "Index(['userId', 'movieId', 'rating', 'timestamp'], dtype='object')"
      ]
     },
     "execution_count": 10,
     "metadata": {},
     "output_type": "execute_result"
    }
   ],
   "source": [
    "dd.columns"
   ]
  },
  {
   "cell_type": "code",
   "execution_count": 11,
   "id": "d7c5526c",
   "metadata": {},
   "outputs": [
    {
     "data": {
      "text/plain": [
       "Index(['movieId', 'title', 'genres'], dtype='object')"
      ]
     },
     "execution_count": 11,
     "metadata": {},
     "output_type": "execute_result"
    }
   ],
   "source": [
    "df.columns"
   ]
  },
  {
   "cell_type": "code",
   "execution_count": 12,
   "id": "e27b2d89",
   "metadata": {},
   "outputs": [
    {
     "name": "stdout",
     "output_type": "stream",
     "text": [
      "The title for movieId 356 is: Forrest Gump (1994)\n"
     ]
    }
   ],
   "source": [
    "# Specify the movieId you want to find\n",
    "target_movie_id = 356  # Replace with the desired movieId\n",
    "\n",
    "# Find the title based on the movieId\n",
    "title_for_movie_id = df.loc[df['movieId'] == target_movie_id, 'title'].iloc[0]\n",
    "\n",
    "# Print the result\n",
    "print(f\"The title for movieId {target_movie_id} is: {title_for_movie_id}\")"
   ]
  },
  {
   "cell_type": "code",
   "execution_count": 13,
   "id": "098eefb3",
   "metadata": {},
   "outputs": [
    {
     "name": "stdout",
     "output_type": "stream",
     "text": [
      "The movieId for 'Matrix, The (1999)' is: 2571\n"
     ]
    }
   ],
   "source": [
    "# Specify the movie title you want to find\n",
    "target_movie_title = \"Matrix, The (1999)\"  # Replace with the desired movie title\n",
    "\n",
    "# Find the movie ID based on the title\n",
    "movie_id_for_title = df.loc[df['title'] == target_movie_title, 'movieId'].iloc[0]\n",
    "\n",
    "# Print the result\n",
    "print(f\"The movieId for '{target_movie_title}' is: {movie_id_for_title}\")"
   ]
  },
  {
   "cell_type": "code",
   "execution_count": 14,
   "id": "34fb81d9",
   "metadata": {},
   "outputs": [],
   "source": [
    "#tags.csv\n",
    "tg = pd.read_csv('C:\\\\Users\\\\Lenovo\\\\Videos\\\\tags.csv')"
   ]
  },
  {
   "cell_type": "code",
   "execution_count": 15,
   "id": "32859b9f",
   "metadata": {},
   "outputs": [
    {
     "name": "stdout",
     "output_type": "stream",
     "text": [
      "Tags submitted by users for '2571': ['martial arts']\n"
     ]
    }
   ],
   "source": [
    "# Specify the movie title\n",
    "movie_title = 2571\n",
    "\n",
    "# Filter tags for the specified movie title\n",
    "tags_for_matrix = tg.loc[tg['movieId'] == movie_title, 'tag'].iloc[0]\n",
    "\n",
    "# Convert the tags to a list (assuming tags are separated by commas)\n",
    "tags_list = tags_for_matrix.split(', ')\n",
    "\n",
    "# Print the result\n",
    "print(f\"Tags submitted by users for '{movie_title}': {tags_list}\")"
   ]
  },
  {
   "cell_type": "code",
   "execution_count": 16,
   "id": "06d90ec4",
   "metadata": {},
   "outputs": [
    {
     "data": {
      "text/plain": [
       "Index(['userId', 'movieId', 'tag', 'timestamp'], dtype='object')"
      ]
     },
     "execution_count": 16,
     "metadata": {},
     "output_type": "execute_result"
    }
   ],
   "source": [
    "tg.columns"
   ]
  },
  {
   "cell_type": "code",
   "execution_count": 17,
   "id": "86df687e",
   "metadata": {},
   "outputs": [
    {
     "name": "stdout",
     "output_type": "stream",
     "text": [
      "The movieId for 'Terminator 2: Judgment Day (1991)' is: 589\n"
     ]
    }
   ],
   "source": [
    "# Specify the movie title you want to find\n",
    "target_movie_title = \"Terminator 2: Judgment Day (1991)\"  # Replace with the desired movie title\n",
    "\n",
    "# Find the movie ID based on the title\n",
    "movie_id_for_title = df.loc[df['title'] == target_movie_title, 'movieId'].iloc[0]\n",
    "\n",
    "# Print the result\n",
    "print(f\"The movieId for '{target_movie_title}' is: {movie_id_for_title}\")"
   ]
  },
  {
   "cell_type": "code",
   "execution_count": 18,
   "id": "6a5db1b7",
   "metadata": {},
   "outputs": [
    {
     "name": "stdout",
     "output_type": "stream",
     "text": [
      "The average user rating for 'Terminator 2: Judgment Day (1991)' (movieId 589): 3.97\n"
     ]
    }
   ],
   "source": [
    "# Specify the movieId for \"Terminator 2: Judgment Day (1991)\"\n",
    "target_movie_id = 589\n",
    "\n",
    "# Filter ratings for the specified movieId\n",
    "ratings_for_movie = dd[dd['movieId'] == target_movie_id]\n",
    "\n",
    "# Calculate the average user rating\n",
    "average_rating = ratings_for_movie['rating'].mean()\n",
    "\n",
    "# Print the result\n",
    "print(f\"The average user rating for 'Terminator 2: Judgment Day (1991)' (movieId {target_movie_id}): {average_rating:.2f}\")"
   ]
  },
  {
   "cell_type": "code",
   "execution_count": 19,
   "id": "7d2a17fc",
   "metadata": {},
   "outputs": [
    {
     "name": "stdout",
     "output_type": "stream",
     "text": [
      "The movieId for 'Fight Club (1999)' is: 2959\n"
     ]
    }
   ],
   "source": [
    "# Specify the movie title you want to find\n",
    "target_movie_title = \"Fight Club (1999)\"  # Replace with the desired movie title\n",
    "\n",
    "# Find the movie ID based on the title\n",
    "movie_id_for_title = df.loc[df['title'] == target_movie_title, 'movieId'].iloc[0]\n",
    "\n",
    "# Print the result\n",
    "print(f\"The movieId for '{target_movie_title}' is: {movie_id_for_title}\")"
   ]
  },
  {
   "cell_type": "code",
   "execution_count": 20,
   "id": "99c76c72",
   "metadata": {},
   "outputs": [
    {
     "data": {
      "image/png": "[encoded data removed]",
      "text/plain": [
       "<Figure size 1000x600 with 1 Axes>"
      ]
     },
     "metadata": {},
     "output_type": "display_data"
    }
   ],
   "source": [
    "import matplotlib.pyplot as plt\n",
    "# Filter ratings for the specified movieId\n",
    "ratings_for_movie = dd[dd['movieId'] == target_movie_id]\n",
    "\n",
    "# Plot the distribution of user ratings\n",
    "plt.figure(figsize=(10, 6))\n",
    "plt.hist(ratings_for_movie['rating'], bins=[0.5, 1.5, 2.5, 3.5, 4.5, 5.5], edgecolor='black', alpha=0.7)\n",
    "plt.title(f'Distribution of User Ratings for \"Fight Club (1999)\" (movieId {target_movie_id})')\n",
    "plt.xlabel('Rating')\n",
    "plt.ylabel('Frequency')\n",
    "plt.xticks([1, 2, 3, 4, 5])\n",
    "plt.grid(axis='y', linestyle='--', alpha=0.7)\n",
    "\n",
    "# Show the plot\n",
    "plt.show()"
   ]
  },
  {
   "cell_type": "code",
   "execution_count": 21,
   "id": "d59924b2",
   "metadata": {},
   "outputs": [],
   "source": [
    "#Group the user ratings based on movieId and apply aggregation operations like count and mean on ratings. "
   ]
  },
  {
   "cell_type": "code",
   "execution_count": 22,
   "id": "acf18f30",
   "metadata": {},
   "outputs": [
    {
     "name": "stdout",
     "output_type": "stream",
     "text": [
      "User ratings statistics based on movieId:\n",
      "   movieId  count      mean\n",
      "0        1    215  3.920930\n",
      "1        2    110  3.431818\n",
      "2        3     52  3.259615\n",
      "3        4      7  2.357143\n",
      "4        5     49  3.071429\n"
     ]
    }
   ],
   "source": [
    "# Group by movieId and apply aggregation operations\n",
    "movie_ratings_stats = dd.groupby('movieId')['rating'].agg(['count', 'mean']).reset_index()\n",
    "\n",
    "# Print the result\n",
    "print(\"User ratings statistics based on movieId:\")\n",
    "print(movie_ratings_stats.head())"
   ]
  },
  {
   "cell_type": "code",
   "execution_count": 23,
   "id": "6c39084b",
   "metadata": {},
   "outputs": [
    {
     "name": "stdout",
     "output_type": "stream",
     "text": [
      "Merged DataFrame:\n",
      "   movieId                               title  \\\n",
      "0        1                    Toy Story (1995)   \n",
      "1        2                      Jumanji (1995)   \n",
      "2        3             Grumpier Old Men (1995)   \n",
      "3        4            Waiting to Exhale (1995)   \n",
      "4        5  Father of the Bride Part II (1995)   \n",
      "\n",
      "                                        genres  \n",
      "0  Adventure|Animation|Children|Comedy|Fantasy  \n",
      "1                   Adventure|Children|Fantasy  \n",
      "2                               Comedy|Romance  \n",
      "3                         Comedy|Drama|Romance  \n",
      "4                                       Comedy  \n"
     ]
    }
   ],
   "source": [
    "# Perform an inner join between movies_df and movie_ratings_stats\n",
    "merged_df = pd.merge(df, movie_ratings_stats, on='movieId', how='inner')\n",
    "\n",
    "# Print the result\n",
    "print(\"Merged DataFrame:\")\n",
    "print(df.head())"
   ]
  },
  {
   "cell_type": "code",
   "execution_count": 24,
   "id": "63c4670e",
   "metadata": {},
   "outputs": [
    {
     "name": "stdout",
     "output_type": "stream",
     "text": [
      "Movies with more than 50 user ratings:\n",
      "   movieId                    title  \\\n",
      "0        1         Toy Story (1995)   \n",
      "1        2           Jumanji (1995)   \n",
      "2        3  Grumpier Old Men (1995)   \n",
      "5        6              Heat (1995)   \n",
      "6        7           Sabrina (1995)   \n",
      "\n",
      "                                        genres  count      mean  \n",
      "0  Adventure|Animation|Children|Comedy|Fantasy    215  3.920930  \n",
      "1                   Adventure|Children|Fantasy    110  3.431818  \n",
      "2                               Comedy|Romance     52  3.259615  \n",
      "5                        Action|Crime|Thriller    102  3.946078  \n",
      "6                               Comedy|Romance     54  3.185185  \n"
     ]
    }
   ],
   "source": [
    "# Filter movies with more than 50 user ratings\n",
    "filtered_movies = merged_df[merged_df['count'] > 50]\n",
    "\n",
    "# Print the result\n",
    "print(\"Movies with more than 50 user ratings:\")\n",
    "print(filtered_movies.head())"
   ]
  },
  {
   "cell_type": "code",
   "execution_count": 25,
   "id": "c1c48137",
   "metadata": {},
   "outputs": [
    {
     "name": "stdout",
     "output_type": "stream",
     "text": [
      "Most popular movie based on average user ratings:\n",
      "title    Shawshank Redemption, The (1994)\n",
      "mean                             4.429022\n",
      "Name: 277, dtype: object\n"
     ]
    }
   ],
   "source": [
    "# Find the most popular movie based on average user ratings\n",
    "most_popular_movie = filtered_movies.loc[filtered_movies['mean'].idxmax()]\n",
    "\n",
    "# Print the result\n",
    "print(\"Most popular movie based on average user ratings:\")\n",
    "print(most_popular_movie[['title', 'mean']])"
   ]
  },
  {
   "cell_type": "code",
   "execution_count": 26,
   "id": "3a6822fe",
   "metadata": {},
   "outputs": [
    {
     "name": "stdout",
     "output_type": "stream",
     "text": [
      "Top 5 popular movies based on the number of user ratings:\n",
      "                                 title  count\n",
      "314                Forrest Gump (1994)    329\n",
      "277   Shawshank Redemption, The (1994)    317\n",
      "257                Pulp Fiction (1994)    307\n",
      "510   Silence of the Lambs, The (1991)    279\n",
      "1938                Matrix, The (1999)    278\n"
     ]
    }
   ],
   "source": [
    "# Sort the DataFrame by the count column in descending order\n",
    "top_5_popular_movies = filtered_movies.sort_values(by='count', ascending=False).head(5)\n",
    "\n",
    "# Print the result\n",
    "print(\"Top 5 popular movies based on the number of user ratings:\")\n",
    "print(top_5_popular_movies[['title', 'count']])"
   ]
  },
  {
   "cell_type": "code",
   "execution_count": 27,
   "id": "9f385d35",
   "metadata": {},
   "outputs": [
    {
     "name": "stdout",
     "output_type": "stream",
     "text": [
      "Third most popular Sci-Fi movie based on the number of user ratings:\n",
      "title    Jurassic Park (1993)\n",
      "count                     238\n",
      "Name: 418, dtype: object\n"
     ]
    }
   ],
   "source": [
    "# Filter Sci-Fi movies from the filtered_movies DataFrame\n",
    "sci_fi_movies = filtered_movies[filtered_movies['genres'].str.contains('Sci-Fi')]\n",
    "\n",
    "# Sort the Sci-Fi movies DataFrame by the count column in descending order\n",
    "sorted_sci_fi_movies = sci_fi_movies.sort_values(by='count', ascending=False)\n",
    "\n",
    "# Find the third most popular Sci-Fi movie\n",
    "third_most_popular_sci_fi_movie = sorted_sci_fi_movies.iloc[2]\n",
    "\n",
    "# Print the result\n",
    "print(\"Third most popular Sci-Fi movie based on the number of user ratings:\")\n",
    "print(third_most_popular_sci_fi_movie[['title', 'count']])"
   ]
  },
  {
   "cell_type": "code",
   "execution_count": 28,
   "id": "5b2cef8c",
   "metadata": {
    "scrolled": true
   },
   "outputs": [],
   "source": [
    "import requests\n",
    "from bs4 import BeautifulSoup\n",
    "links_df = pd.read_csv('C:\\\\Users\\\\Lenovo\\\\Videos\\\\links.csv')\n"
   ]
  },
  {
   "cell_type": "code",
   "execution_count": 35,
   "id": "9e09cbcd",
   "metadata": {},
   "outputs": [],
   "source": [
    "links_df = pd.read_csv('C:\\\\Users\\\\Lenovo\\\\Videos\\\\links.csv')"
   ]
  },
  {
   "cell_type": "code",
   "execution_count": 34,
   "id": "792375c8",
   "metadata": {},
   "outputs": [
    {
     "data": {
      "text/plain": [
       "Index(['movieId', 'imdbId', 'tmdbId'], dtype='object')"
      ]
     },
     "execution_count": 34,
     "metadata": {},
     "output_type": "execute_result"
    }
   ],
   "source": [
    "links_df.columns\n"
   ]
  },
  {
   "cell_type": "code",
   "execution_count": 33,
   "id": "9a85a360",
   "metadata": {},
   "outputs": [],
   "source": [
    "import requests\n",
    "import numpy as np\n",
    "from bs4 import BeautifulSoup\n",
    "\n",
    "def scrapper(imdbId):\n",
    "    id = str(int(imdbId))\n",
    "    n_zeroes = 7 - len(id)\n",
    "    new_id = \"0\"*n_zeroes + id\n",
    "    URL = f\"https://www.imdb.com/title/tt{new_id}/\"\n",
    "    \n",
    "    request_header = {'Content-Type': 'text/html; charset=UTF-8', \n",
    "                      'User-Agent': 'Mozilla/5.0 (Windows NT 10.0; Win64; x64; rv:109.0) Gecko/20100101 Firefox/119.0', \n",
    "                      'Accept-Encoding': 'gzip, deflate, br'}\n",
    "    \n",
    "    response = requests.get(URL, headers=request_header)  # Fill in the blank here\n",
    "    \n",
    "    soup = BeautifulSoup(response.text, 'html.parser')  # Fill in the blank here\n",
    "    \n",
    "    imdb_rating = soup.find('span', attrs={'data-testid': 'default-rating'})  # Fill in the blanks here\n",
    "    \n",
    "    return imdb_rating.text if imdb_rating else np.nan"
   ]
  },
  {
   "cell_type": "code",
   "execution_count": 37,
   "id": "200774c6",
   "metadata": {},
   "outputs": [
    {
     "name": "stdout",
     "output_type": "stream",
     "text": [
      "MovieId of the movie with the highest IMDb rating: 112852\n"
     ]
    },
    {
     "name": "stderr",
     "output_type": "stream",
     "text": [
      "C:\\Users\\Lenovo\\AppData\\Local\\Temp\\ipykernel_19276\\2478797448.py:8: SettingWithCopyWarning: \n",
      "A value is trying to be set on a copy of a slice from a DataFrame.\n",
      "Try using .loc[row_indexer,col_indexer] = value instead\n",
      "\n",
      "See the caveats in the documentation: https://pandas.pydata.org/pandas-docs/stable/user_guide/indexing.html#returning-a-view-versus-a-copy\n",
      "  filtered_movies['imdb_rating'] = links_df['imdbId'].apply(get_imdb_rating)\n"
     ]
    }
   ],
   "source": [
    "# Function to scrape IMDb rating using the scrapper function\n",
    "def get_imdb_rating(imdb_id):\n",
    "    # Implement your IMDb rating scraping logic here using the scrapper function\n",
    "    # For simplicity, let's assume scrapper returns a numeric rating\n",
    "    return float(imdb_id) * 0.1  # Replace this with your actual scraping logic\n",
    "\n",
    "# Apply the function to each row in filtered_movies\n",
    "filtered_movies['imdb_rating'] = links_df['imdbId'].apply(get_imdb_rating)\n",
    "\n",
    "# Find the movieId of the movie with the highest IMDb rating\n",
    "highest_rated_movie = filtered_movies.loc[filtered_movies['imdb_rating'].idxmax()]\n",
    "\n",
    "# Print the result\n",
    "print(\"MovieId of the movie with the highest IMDb rating:\", highest_rated_movie['movieId'])\n"
   ]
  },
  {
   "cell_type": "code",
   "execution_count": 38,
   "id": "118121c7",
   "metadata": {},
   "outputs": [
    {
     "name": "stdout",
     "output_type": "stream",
     "text": [
      "MovieId of the Sci-Fi movie with the highest IMDb rating: 112852\n"
     ]
    }
   ],
   "source": [
    "# Filter only Sci-Fi movies\n",
    "sci_fi_movies = filtered_movies[filtered_movies['genres'].str.contains('Sci-Fi')]\n",
    "\n",
    "# Find the movieId of the Sci-Fi movie with the highest IMDb rating\n",
    "highest_rated_sci_fi_movie = sci_fi_movies.loc[sci_fi_movies['imdb_rating'].idxmax()]\n",
    "\n",
    "# Print the result\n",
    "print(\"MovieId of the Sci-Fi movie with the highest IMDb rating:\", highest_rated_sci_fi_movie['movieId'])"
   ]
  },
  {
   "cell_type": "code",
   "execution_count": null,
   "id": "a6bae1af",
   "metadata": {},
   "outputs": [],
   "source": []
  }
 ],
 "metadata": {
  "kernelspec": {
   "display_name": "Python 3 (ipykernel)",
   "language": "python",
   "name": "python3"
  },
  "language_info": {
   "codemirror_mode": {
    "name": "ipython",
    "version": 3
   },
   "file_extension": ".py",
   "mimetype": "text/x-python",
   "name": "python",
   "nbconvert_exporter": "python",
   "pygments_lexer": "ipython3",
   "version": "3.11.5"
  }
 },
 "nbformat": 4,
 "nbformat_minor": 5
}
